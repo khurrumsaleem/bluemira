{
  "cells": [
    {
      "cell_type": "markdown",
      "metadata": {},
      "source": [
        "# Solvers\n",
        "This example shows how to use File interface solvers.\n",
        "Using PROCESS as the external solver"
      ]
    },
    {
      "cell_type": "code",
      "metadata": {},
      "source": [
        "import bluemira.codes.process as process\n",
        "from bluemira.base.config import Configuration\n",
        "from bluemira.base.logs import set_log_level"
      ],
      "outputs": [],
      "execution_count": null
    },
    {
      "cell_type": "markdown",
      "metadata": {},
      "source": [
        "# Configuring a solver\n",
        "\n",
        "PROCESS is one of the codes bluemira can use to compliment a reactor design.\n",
        "As with any of the external codes bluemira uses, a solver object is created.\n",
        "The solver object abstracts away most of the complexities of running different\n",
        "programs within bluemira.\n",
        "\n",
        "## Setting up\n",
        "\n",
        "### Logging\n",
        "To enable debug logging run the below cell"
      ]
    },
    {
      "cell_type": "code",
      "metadata": {},
      "source": [
        "set_log_level(\"DEBUG\")"
      ],
      "outputs": [],
      "execution_count": null
    },
    {
      "cell_type": "markdown",
      "metadata": {},
      "source": [
        "### Binary Location\n",
        "Firstly if process is not in your system path we need to provide the\n",
        "binary location to the solver"
      ]
    },
    {
      "cell_type": "code",
      "metadata": {},
      "source": [
        "# PROCESS_PATH = \"/home/process/lives/here\"\n",
        "PROCESS_PATH = \"\"\n",
        "binary = f\"{PROCESS_PATH}process\""
      ],
      "outputs": [],
      "execution_count": null
    },
    {
      "cell_type": "markdown",
      "metadata": {},
      "source": [
        "### Creating the solver object\n",
        "bluemira-PROCESS parameter names have been mapped across where possible.\n",
        "Some example parameters have been set here in `new_params`\n",
        "before being converted into a bluemira configuration store.\n"
      ]
    },
    {
      "cell_type": "code",
      "metadata": {},
      "source": [
        "new_params = {\n",
        "    \"A\": 3.1,\n",
        "    \"R_0\": 9.002,\n",
        "    \"I_p\": 17.75,\n",
        "    \"B_0\": 5.855,\n",
        "    \"V_p\": -2500,\n",
        "    \"v_burn\": -1.0e6,\n",
        "    \"kappa_95\": 1.652,\n",
        "    \"delta_95\": 0.333,\n",
        "    \"delta\": 0.38491934960310104,\n",
        "    \"kappa\": 1.6969830041844367,\n",
        "}\n",
        "\n",
        "params = Configuration(new_params)\n",
        "\n",
        "# Add parameter source\n",
        "for param_name in params.keys():\n",
        "    if param_name in new_params:\n",
        "        param = params.get_param(param_name)\n",
        "        param.source = \"Solver Example\""
      ],
      "outputs": [],
      "execution_count": null
    },
    {
      "cell_type": "markdown",
      "metadata": {},
      "source": [
        "Finally the `build_config` dictionary collates the configuration settings for\n",
        "the solver"
      ]
    },
    {
      "cell_type": "code",
      "metadata": {},
      "source": [
        "build_config = {\n",
        "    \"mode\": \"run\",\n",
        "    \"binary\": binary,\n",
        "}"
      ],
      "outputs": [],
      "execution_count": null
    },
    {
      "cell_type": "markdown",
      "metadata": {},
      "source": [
        "Now we can create the solver object with the parameters and build configuration"
      ]
    },
    {
      "cell_type": "code",
      "metadata": {},
      "source": [
        "process_solver = process.Solver(\n",
        "    params=params,\n",
        "    build_config=build_config,\n",
        ")"
      ],
      "outputs": [],
      "execution_count": null
    },
    {
      "cell_type": "markdown",
      "metadata": {},
      "source": [
        "### Running the solver\n",
        "Very simply use the `run` method of the solver"
      ]
    },
    {
      "cell_type": "code",
      "metadata": {},
      "source": [
        "process_solver.run()"
      ],
      "outputs": [],
      "execution_count": null
    }
  ],
  "metadata": {
    "anaconda-cloud": {},
    "kernelspec": {
      "display_name": "Python 3",
      "language": "python",
      "name": "python3"
    },
    "language_info": {
      "codemirror_mode": {
        "name": "ipython",
        "version": 3
      },
      "file_extension": ".py",
      "mimetype": "text/x-python",
      "name": "python",
      "nbconvert_exporter": "python",
      "pygments_lexer": "ipython3",
      "version": "3.8.12"
    }
  },
  "nbformat": 4,
  "nbformat_minor": 4
}
