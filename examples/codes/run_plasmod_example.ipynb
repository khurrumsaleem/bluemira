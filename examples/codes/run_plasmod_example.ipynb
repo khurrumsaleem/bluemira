{
  "cells": [
    {
      "cell_type": "code",
      "metadata": {},
      "source": [
        "import os\n",
        "from pprint import pprint\n",
        "\n",
        "import matplotlib.pyplot as plt\n",
        "\n",
        "from bluemira.base.config import Configuration\n",
        "from bluemira.base.file import get_bluemira_root\n",
        "from bluemira.base.logs import set_log_level\n",
        "from bluemira.codes import plasmod"
      ],
      "outputs": [],
      "execution_count": null
    },
    {
      "cell_type": "markdown",
      "metadata": {},
      "source": [
        "# Configuring the PLASMOD solver\n",
        "\n",
        "PLASMOD is one of the codes bluemira can use to compliment a reactor design.\n",
        "As with any of the external codes bluemira uses, a solver object is created.\n",
        "The solver object abstracts away most of the complexities of running different\n",
        "programs within bluemira.\n",
        "\n",
        "## Setting up\n",
        "\n",
        "### Logging\n",
        "To enable debug logging run the below cell"
      ]
    },
    {
      "cell_type": "code",
      "metadata": {},
      "source": [
        "set_log_level(\"DEBUG\")"
      ],
      "outputs": [],
      "execution_count": null
    },
    {
      "cell_type": "markdown",
      "metadata": {},
      "source": [
        "### Binary Location\n",
        "Firstly if plasmod is not on your system path, we need to provide the\n",
        "binary location to the solver."
      ]
    },
    {
      "cell_type": "code",
      "metadata": {},
      "source": [
        "PLASMOD_PATH = os.path.join(os.path.dirname(get_bluemira_root()), \"plasmod\")\n",
        "binary = os.path.join(PLASMOD_PATH, \"bin\", \"plasmod\")"
      ],
      "outputs": [],
      "execution_count": null
    },
    {
      "cell_type": "markdown",
      "metadata": {},
      "source": [
        "### Creating the solver object\n",
        "bluemira-plasmod parameter names have been mapped across where possible.\n",
        "Some example parameters have been set here in `new_params`\n",
        "before being converted into a bluemira configuration store.\n",
        "\n",
        "These parameters mirror running the plasmod input demoH.i reference configuration"
      ]
    },
    {
      "cell_type": "code",
      "metadata": {},
      "source": [
        "new_params = {\n",
        "    \"A\": 3.1,\n",
        "    \"R_0\": 9.002,\n",
        "    \"I_p\": 17.75,\n",
        "    \"B_0\": 5.855,\n",
        "    \"V_p\": -2500,\n",
        "    \"v_burn\": -1.0e6,\n",
        "    \"kappa_95\": 1.652,\n",
        "    \"delta_95\": 0.333,\n",
        "    \"delta\": 0.38491934960310104,\n",
        "    \"kappa\": 1.6969830041844367,\n",
        "}\n",
        "\n",
        "params = Configuration(new_params)\n",
        "\n",
        "# Add parameter source\n",
        "for param_name in params.keys():\n",
        "    if param_name in new_params:\n",
        "        param = params.get_param(param_name)\n",
        "        param.source = \"Plasmod Example\""
      ],
      "outputs": [],
      "execution_count": null
    },
    {
      "cell_type": "markdown",
      "metadata": {},
      "source": [
        "Some values are not linked into bluemira. These plasmod parameters can be set\n",
        "directly in `problem_settings`.\n",
        "H-factor is set here as input therefore we will force plasmod to\n",
        "optimise to that H-factor."
      ]
    },
    {
      "cell_type": "code",
      "metadata": {},
      "source": [
        "problem_settings = {\n",
        "    \"pfus_req\": 0.0,\n",
        "    \"pheat_max\": 130.0,\n",
        "    \"q_control\": 130.0,\n",
        "    \"Hfact\": 1.1,\n",
        "    \"i_modeltype\": \"GYROBOHM_1\",\n",
        "    \"i_equiltype\": \"Ip_sawtooth\",\n",
        "    \"i_pedestal\": \"SAARELMA\",\n",
        "}"
      ],
      "outputs": [],
      "execution_count": null
    },
    {
      "cell_type": "markdown",
      "metadata": {},
      "source": [
        "There are also some model choices that can be set in `problem_settings`.\n",
        "The available models with their options and explanations\n",
        "can be seen by running the below snippet."
      ]
    },
    {
      "cell_type": "code",
      "metadata": {},
      "source": [
        "for var_name in dir(plasmod.mapping):\n",
        "    if \"Model\" in var_name and var_name != \"Model\":\n",
        "        model = getattr(plasmod.mapping, var_name)\n",
        "        model.info()"
      ],
      "outputs": [],
      "execution_count": null
    },
    {
      "cell_type": "markdown",
      "metadata": {},
      "source": [
        "Finally the `build_config` dictionary collates the configuration settings for\n",
        "the solver"
      ]
    },
    {
      "cell_type": "code",
      "metadata": {},
      "source": [
        "build_config = {\n",
        "    \"problem_settings\": problem_settings,\n",
        "    \"binary\": binary,\n",
        "}"
      ],
      "outputs": [],
      "execution_count": null
    },
    {
      "cell_type": "markdown",
      "metadata": {},
      "source": [
        "Now we can create the solver object with the parameters and build configuration"
      ]
    },
    {
      "cell_type": "code",
      "metadata": {},
      "source": [
        "solver = plasmod.Solver(params=params, build_config=build_config)"
      ],
      "outputs": [],
      "execution_count": null
    },
    {
      "cell_type": "markdown",
      "metadata": {},
      "source": [
        "These few functions are helpers to simplify the remainder of the tutorial.\n",
        "The first shows a few of the output scalar values and the second plots a\n",
        "given profile."
      ]
    },
    {
      "cell_type": "code",
      "metadata": {},
      "source": [
        "def print_outputs(solver):\n",
        "    \"\"\"\n",
        "    Print plasmod scalars\n",
        "    \"\"\"\n",
        "    outputs = solver.plasmod_outputs()\n",
        "    print(f\"Fusion power [MW]: {solver.params.P_fus/ 1E6}\")\n",
        "    print(f\"Additional heating power [MW]: {outputs.Paux / 1E6}\")\n",
        "    print(f\"Radiation power [MW]: {solver.params.P_rad / 1E6}\")\n",
        "    print(f\"Transport power across separatrix [MW]: {solver.params.P_sep / 1E6}\")\n",
        "    print(f\"{solver.params.q_95}\")\n",
        "    print(f\"{solver.params.I_p}\")\n",
        "    print(f\"{solver.params.l_i}\")\n",
        "    print(f\"{solver.params.v_burn}\")\n",
        "    print(f\"{solver.params.Z_eff}\")\n",
        "    print(f\"H-factor [-]: {outputs.Hfact}\")\n",
        "    print(\n",
        "        f\"Divertor challenging criterion (P_sep * Bt /(q95 * R0 * A)) [-]: {outputs.psepb_q95AR}\"\n",
        "    )\n",
        "    print(\n",
        "        f\"H-mode operating regime f_LH = P_sep/P_LH [-]: {solver.params.P_sep / solver.params.P_LH}\"\n",
        "    )\n",
        "    print(f\"{solver.params.tau_e}\")\n",
        "    print(f\"Protium fraction [-]: {outputs.cprotium}\")\n",
        "    print(f\"Helium fraction [-]: {outputs.che}\")\n",
        "    print(f\"Xenon fraction [-]: {outputs.cxe}\")\n",
        "    print(f\"Argon fraction [-]: {outputs.car}\")\n",
        "\n",
        "\n",
        "def plot_profile(solver, profile, var_unit):\n",
        "    \"\"\"\n",
        "    Plot plasmod profile\n",
        "    \"\"\"\n",
        "    prof = solver.get_profile(profile)\n",
        "    x = solver.get_profile(plasmod.Profiles.x)\n",
        "    _, ax = plt.subplots()\n",
        "    ax.plot(x, prof)\n",
        "    ax.set(xlabel=\"x (-)\", ylabel=profile.name + \" (\" + var_unit + \")\")\n",
        "    ax.grid()\n",
        "    plt.show()"
      ],
      "outputs": [],
      "execution_count": null
    },
    {
      "cell_type": "markdown",
      "metadata": {},
      "source": [
        "### Running the solver\n",
        "Very simply use the `run` method of the solver"
      ]
    },
    {
      "cell_type": "code",
      "metadata": {},
      "source": [
        "solver.execute(plasmod.RunMode.RUN)"
      ],
      "outputs": [],
      "execution_count": null
    },
    {
      "cell_type": "markdown",
      "metadata": {},
      "source": [
        "### Using the results\n",
        "Outputs can be accessed through 3 ways depending on the\n",
        "linking mechanism.\n",
        "1. Through the `params` attribute which contains\n",
        "   all the bluemira linked parameters\n",
        "2. Profiles can be accessed through the `get_profile` function, using\n",
        "   a value form the `plasmod.Profile` enum\n",
        "3. Unlinked plasmod parameters can be accessed through the\n",
        "   `plasmod_outputs` function\n",
        "\n",
        "The list of available profiles can be seen by running the below cell.\n",
        "A good exercise would be to try showing a different profile in the plot."
      ]
    },
    {
      "cell_type": "code",
      "metadata": {},
      "source": [
        "print(\"Profiles\")\n",
        "pprint(list(plasmod.mapping.Profiles))"
      ],
      "outputs": [],
      "execution_count": null
    },
    {
      "cell_type": "code",
      "metadata": {},
      "source": [
        "plot_profile(solver, plasmod.Profiles.Te, \"keV\")\n",
        "print_outputs(solver)"
      ],
      "outputs": [],
      "execution_count": null
    },
    {
      "cell_type": "markdown",
      "metadata": {},
      "source": [
        "### Rerunning with modified settings\n",
        "#### Changing the transport model"
      ]
    },
    {
      "cell_type": "code",
      "metadata": {},
      "source": [
        "solver.problem_settings[\"i_modeltype\"] = plasmod.TransportModel.GYROBOHM_2\n",
        "solver.execute(plasmod.RunMode.RUN)\n",
        "print_outputs(solver)"
      ],
      "outputs": [],
      "execution_count": null
    },
    {
      "cell_type": "markdown",
      "metadata": {},
      "source": [
        "#### Fixing fusion power to 2000 MW and safety factor `q_95` to 3.5.\n",
        "Plasmod calculates the additional heating power and the plasma current"
      ]
    },
    {
      "cell_type": "code",
      "metadata": {},
      "source": [
        "solver.params.q_95 = (3.5, \"input\")\n",
        "\n",
        "solver.problem_settings[\"pfus_req\"] = 2000.0\n",
        "solver.problem_settings[\"i_equiltype\"] = plasmod.EquilibriumModel.q95_sawtooth\n",
        "solver.problem_settings[\"q_control\"] = 50.0\n",
        "\n",
        "solver.execute(plasmod.RunMode.RUN)\n",
        "print_outputs(solver)"
      ],
      "outputs": [],
      "execution_count": null
    },
    {
      "cell_type": "markdown",
      "metadata": {},
      "source": [
        "#### Setting heat flux on divertor target to 10 MW/m\u00b2\n",
        "plasmod calculates the argon concentration to fulfill the constraint"
      ]
    },
    {
      "cell_type": "code",
      "metadata": {},
      "source": [
        "solver.problem_settings[\"qdivt_sup\"] = 10.0\n",
        "solver.execute(plasmod.RunMode.RUN)\n",
        "print_outputs(solver)"
      ],
      "outputs": [],
      "execution_count": null
    },
    {
      "cell_type": "markdown",
      "metadata": {},
      "source": [
        "#### Changing the mapping sending or receiving\n",
        "The mapping can be changed on a given parameter or set of parameters.\n",
        "Notice how the value of `q_95` doesn't change in the output,\n",
        "even though its value has in the parameter (the previous value of 3.5 is used)."
      ]
    },
    {
      "cell_type": "code",
      "metadata": {},
      "source": [
        "solver.modify_mappings({\"q_95\": {\"send\": False}})\n",
        "solver.params.q_95 = (5, \"input\")\n",
        "solver.execute(plasmod.RunMode.RUN)\n",
        "print_outputs(solver)\n",
        "print(\"\\nq_95 value history\\n\", solver.params.q_95.history())"
      ],
      "outputs": [],
      "execution_count": null
    }
  ],
  "metadata": {
    "anaconda-cloud": {},
    "kernelspec": {
      "display_name": "Python 3",
      "language": "python",
      "name": "python3"
    },
    "language_info": {
      "codemirror_mode": {
        "name": "ipython",
        "version": 3
      },
      "file_extension": ".py",
      "mimetype": "text/x-python",
      "name": "python",
      "nbconvert_exporter": "python",
      "pygments_lexer": "ipython3",
      "version": "3.8.13"
    }
  },
  "nbformat": 4,
  "nbformat_minor": 4
}
