{
  "cells": [
    {
      "cell_type": "code",
      "metadata": {},
      "source": [
        "from bluemira.base.design import Design\n",
        "from bluemira.builders.plasma import MakeParameterisedPlasma"
      ],
      "outputs": [],
      "execution_count": null
    },
    {
      "cell_type": "markdown",
      "metadata": {},
      "source": [
        "# Configuring and Running a Simple Parameterised Design\n",
        "\n",
        "This example shows how to set up a parameterised design with a single build stage.\n",
        "The build stage takes the provided major radius (`R_0`) aspect ratio (`A`) parameters,\n",
        "maps these onto a parameterised shape, which in this case is a Johner parameterisation\n",
        "of the last closed flux surface (LCFS).\n",
        "\n",
        "## Configuring the design\n",
        "\n",
        "First we have to specify a `build_config` for our design. This gives the build stages\n",
        "that will be run within the design, what `Builder` class will be used for the build\n",
        "at that stage, and how that `Builder` should be configured. Here we see that we are\n",
        "specifying a build stage called \"Plasma\", that will use the `MakeParameterisedPlasma`\n",
        "class of `Builder`. We specify that the parameterisation class to use should be\n",
        "`JohnerLCFS`, the implementation of which is in the `bluemira.equilibria.shapes`\n",
        "module. We map the `R_0` and `A` external parameters onto the `r_0` and `a` parameters\n",
        "for that shape, and give the `PhysicalComponent` that results from the build a label of\n",
        "LCFS."
      ]
    },
    {
      "cell_type": "code",
      "metadata": {},
      "source": [
        "build_config = {\n",
        "    \"Plasma\": {\n",
        "        \"class\": \"MakeParameterisedPlasma\",\n",
        "        \"param_class\": \"bluemira.equilibria.shapes::JohnerLCFS\",\n",
        "        \"variables_map\": {\n",
        "            \"r_0\": \"R_0\",\n",
        "            \"a\": \"A\",\n",
        "        },\n",
        "        \"label\": \"LCFS\",\n",
        "    },\n",
        "}"
      ],
      "outputs": [],
      "execution_count": null
    },
    {
      "cell_type": "markdown",
      "metadata": {},
      "source": [
        "## Parameterising the Design\n",
        "\n",
        "Now that we have set up the design to be performed, we need to provide the values to\n",
        "which to set each of the parameters that are needed for the design. We also need to\n",
        "provide a `Name` for our design so that it can be identified."
      ]
    },
    {
      "cell_type": "code",
      "metadata": {},
      "source": [
        "params = {\n",
        "    \"Name\": \"A Plasma Design\",\n",
        "    \"R_0\": (9.0, \"Input\"),\n",
        "    \"A\": (3.5, \"Input\"),\n",
        "}"
      ],
      "outputs": [],
      "execution_count": null
    },
    {
      "cell_type": "markdown",
      "metadata": {},
      "source": [
        "## Running the Design\n",
        "\n",
        "After configuring and parameterising our design, we can now run it as below."
      ]
    },
    {
      "cell_type": "code",
      "metadata": {},
      "source": [
        "design = Design(params, build_config)\n",
        "result = design.run()"
      ],
      "outputs": [],
      "execution_count": null
    },
    {
      "cell_type": "markdown",
      "metadata": {},
      "source": [
        "## Inspecting the Design Results\n",
        "\n",
        "Our design has now completed and we have the resulting `Component` available in our\n",
        "`result` variable. This component gives us a tree of values that we can navigate to\n",
        "see the shapes produced by our design in different dimensions (or views). In this case\n",
        "our top level `Component` is what we named our design, then the next level is the\n",
        "system that has been built as part of our build stages. We then see the representation\n",
        "of that system in various dimensions, followed by the physical components the define\n",
        "the shapes that make up that system in the given view."
      ]
    },
    {
      "cell_type": "code",
      "metadata": {},
      "source": [
        "print(result.tree())"
      ],
      "outputs": [],
      "execution_count": null
    },
    {
      "cell_type": "markdown",
      "metadata": {},
      "source": [
        "We can also plot our components in each of the provided dimensions, as well as viewing\n",
        "the 3D cad for the xyz dimension. Finally we can also access the `Builder` that was\n",
        "used by the build stage in order to re-run part of the design. In this case we are\n",
        "able to generate a new 3D component using the same `Builder` but this time we sweep it\n",
        "through 270 degrees, rather than the full 360."
      ]
    },
    {
      "cell_type": "code",
      "metadata": {},
      "source": [
        "color = (0.80078431, 0.54, 0.80078431)\n",
        "for dims in [\"xz\", \"xy\"]:\n",
        "    lcfs = result.get_component(\"Plasma\").get_component(dims).get_component(\"LCFS\")\n",
        "    lcfs.plot_options.face_options[\"color\"] = color\n",
        "    lcfs.plot_2d()"
      ],
      "outputs": [],
      "execution_count": null
    },
    {
      "cell_type": "code",
      "metadata": {},
      "source": [
        "lcfs = result.get_component(\"Plasma\").get_component(\"xyz\").get_component(\"LCFS\")\n",
        "lcfs.display_cad_options.color = color\n",
        "lcfs.display_cad_options.transparency = 0.2\n",
        "lcfs.show_cad()"
      ],
      "outputs": [],
      "execution_count": null
    },
    {
      "cell_type": "code",
      "metadata": {},
      "source": [
        "plasma_builder: MakeParameterisedPlasma = design.get_builder(\"Plasma\")\n",
        "lcfs = plasma_builder.build_xyz(degree=270.0)\n",
        "lcfs.display_cad_options.color = color\n",
        "lcfs.show_cad()"
      ],
      "outputs": [],
      "execution_count": null
    }
  ],
  "metadata": {
    "anaconda-cloud": {},
    "kernelspec": {
      "display_name": "Python 3",
      "language": "python",
      "name": "python3"
    },
    "language_info": {
      "codemirror_mode": {
        "name": "ipython",
        "version": 3
      },
      "file_extension": ".py",
      "mimetype": "text/x-python",
      "name": "python",
      "nbconvert_exporter": "python",
      "pygments_lexer": "ipython3",
      "version": "3.8.12"
    }
  },
  "nbformat": 4,
  "nbformat_minor": 4
}
