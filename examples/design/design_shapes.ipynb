{
  "cells": [
    {
      "cell_type": "code",
      "metadata": {},
      "source": [
        "from bluemira.base.design import Design\n",
        "from bluemira.geometry.optimisation import GeometryOptimisationProblem"
      ],
      "outputs": [],
      "execution_count": null
    },
    {
      "cell_type": "markdown",
      "metadata": {},
      "source": [
        "# Configuring and Running a Simple Shape-Based Design\n",
        "\n",
        "This example shows how to set up and run a shape-based Design that uses a parameterised\n",
        "shape as-is to represent a plasma surface, and solves a GeometryOptimisationProblem\n",
        "to represent a fictitious TF coil centerline.\n",
        "\n",
        "## Defining the GeometryOptimisationProblem\n",
        "\n",
        "First we have to consider the optimisation problem that we would like to solve as part\n",
        "of our Design. In this case we would like to optimise the TF Coil centerline by making\n",
        "it as long as possible. This can be performed by solving an unconstrained\n",
        "GeometryOptimisationProblem that uses the negative length as the objective function\n",
        "(since minimising the negative length will maximise the value of the absolute length).\n",
        "Such an optimisation problem can be defined as below."
      ]
    },
    {
      "cell_type": "code",
      "metadata": {},
      "source": [
        "class MaximiseLength(GeometryOptimisationProblem):\n",
        "    \"\"\"\n",
        "    A simple geometry optimisation problem that minimises length without constraints.\n",
        "    \"\"\"\n",
        "\n",
        "    def calculate_length(self, x):\n",
        "        \"\"\"\n",
        "        Calculate the length of the GeometryParameterisation.\n",
        "\n",
        "        Result is negative as we're maximising rather than minimising. Note that most\n",
        "        real life problems will minimise.\n",
        "        \"\"\"\n",
        "        self.update_parameterisation(x)\n",
        "        return -self.parameterisation.create_shape().length\n",
        "\n",
        "    def f_objective(self, x, grad):\n",
        "        \"\"\"\n",
        "        Objective function is the length of the parameterised shape.\n",
        "        \"\"\"\n",
        "        length = self.calculate_length(x)\n",
        "\n",
        "        if grad.size > 0:\n",
        "            # Only called if a gradient-based optimiser is used\n",
        "            grad[:] = self.optimiser.approx_derivative(\n",
        "                self.calculate_length, x, f0=length\n",
        "            )\n",
        "\n",
        "        return length"
      ],
      "outputs": [],
      "execution_count": null
    },
    {
      "cell_type": "markdown",
      "metadata": {},
      "source": [
        "## Configuring the Design\n",
        "\n",
        "The Design is configured by passing in a dictionary that provides the build stages to\n",
        "be run, and the way that each of those build stages should be set up. In particular\n",
        "in this case we define the following:\n",
        "\n",
        "- The Plasma build stage:\n",
        "  - uses the `MakeParameterisedShape` Builder class.\n",
        "  - parameterises the plasma shape using the `JohnerLCFS` GeometryParameterisation\n",
        "    class.\n",
        "  - maps the R_0 and A Design parameters to the r_0 and a shape parameters.\n",
        "  - labels the resulting component as \"Shape\".\n",
        "\n",
        "- The TF Coils build stage:\n",
        "  - uses the `MakeOptimisedShape` Builder class.\n",
        "  - parameterises the TF Coils centerline shape using the `PrincetonD`\n",
        "    GeometryParameterisation class.\n",
        "  - maps the r_tf_in_centre and r_tf_out_centre Design parameters to the x1 (the\n",
        "    inboard limb radius) and x2 (the outboard limb radius) shape parameters. The dz\n",
        "    (vertical offset from z=0) shape parameter is set to 0 and fixed. The x1 shape\n",
        "    parameter is also fixed, while the x2 shape parameter is allowed to vary in the\n",
        "    optimisation, with an adjusted lower bound of 14. This means that only the outboard\n",
        "    leg radius is free to vary in the optimisation.\n",
        "  - uses the `MaximiseLength` GeometryOptimisationProblem class to define the design\n",
        "    problem that will be solved as part of the TF Coil build stage.\n",
        "  - labels the resulting component as \"Shape\"."
      ]
    },
    {
      "cell_type": "code",
      "metadata": {},
      "source": [
        "build_config = {\n",
        "    \"Plasma\": {\n",
        "        \"class\": \"MakeParameterisedShape\",\n",
        "        \"param_class\": \"bluemira.equilibria.shapes::JohnerLCFS\",\n",
        "        \"variables_map\": {\n",
        "            \"r_0\": \"R_0\",\n",
        "            \"a\": \"A\",\n",
        "        },\n",
        "        \"label\": \"Shape\",\n",
        "    },\n",
        "    \"TF Coils\": {\n",
        "        \"class\": \"MakeOptimisedShape\",\n",
        "        \"param_class\": \"PrincetonD\",\n",
        "        \"variables_map\": {\n",
        "            \"x1\": {\n",
        "                \"value\": \"r_tf_in_centre\",\n",
        "                \"fixed\": True,\n",
        "            },\n",
        "            \"x2\": {\n",
        "                \"value\": \"r_tf_out_centre\",\n",
        "                \"lower_bound\": 14.0,\n",
        "            },\n",
        "            \"dz\": {\n",
        "                \"value\": 0.0,\n",
        "                \"fixed\": True,\n",
        "            },\n",
        "        },\n",
        "        \"problem_class\": MaximiseLength,\n",
        "        \"label\": \"Shape\",\n",
        "    },\n",
        "}"
      ],
      "outputs": [],
      "execution_count": null
    },
    {
      "cell_type": "markdown",
      "metadata": {},
      "source": [
        "## Parameterising the Design\n",
        "\n",
        "The Design is parameterised by mapping the required parameter names to their initial\n",
        "values. All Designs must have a Name, and in this case the other required parameters\n",
        "are defined by the mapped variables in the `build_config`."
      ]
    },
    {
      "cell_type": "code",
      "metadata": {},
      "source": [
        "params = {\n",
        "    \"Name\": \"Shape Design Example\",\n",
        "    \"R_0\": (9.0, \"Input\"),\n",
        "    \"A\": (3.5, \"Input\"),\n",
        "    \"r_tf_in_centre\": (5.0, \"Input\"),\n",
        "    \"r_tf_out_centre\": (15.0, \"Input\"),\n",
        "}"
      ],
      "outputs": [],
      "execution_count": null
    },
    {
      "cell_type": "markdown",
      "metadata": {},
      "source": [
        "## Running the Design\n",
        "\n",
        "The Design object is defined as run as below:"
      ]
    },
    {
      "cell_type": "code",
      "metadata": {},
      "source": [
        "design = Design(params, build_config)\n",
        "component = design.run()"
      ],
      "outputs": [],
      "execution_count": null
    },
    {
      "cell_type": "markdown",
      "metadata": {},
      "source": [
        "## Visualising the Results\n",
        "\n",
        "The result of the design is a Component object that represents a tree of outputs from\n",
        "the different build stages. The resulting Component tree from this Design can be\n",
        "printed out."
      ]
    },
    {
      "cell_type": "code",
      "metadata": {},
      "source": [
        "print(component.tree())"
      ],
      "outputs": [],
      "execution_count": null
    },
    {
      "cell_type": "markdown",
      "metadata": {},
      "source": [
        "It is also possible to plot the nodes in the tree that are defined with shapes (known\n",
        "as PhysicalComponents)."
      ]
    },
    {
      "cell_type": "code",
      "metadata": {},
      "source": [
        "component.plot_2d()"
      ],
      "outputs": [],
      "execution_count": null
    },
    {
      "cell_type": "markdown",
      "metadata": {},
      "source": [
        "We can also inspect the properties of the individual build stages by extracting them\n",
        "from the Design. This example shows how the resulting parameters from the solution of\n",
        "the TF Coils design problem can be extracted. Note that we have maximised the value of\n",
        "x2 without constraint, so it has found the upper bound as defined on that variable.\n",
        "All other variables have stayed as originally defined as they were set to be fixed."
      ]
    },
    {
      "cell_type": "code",
      "metadata": {},
      "source": [
        "tf_builder = design.get_builder(\"TF Coils\")\n",
        "tf_design_problem: GeometryOptimisationProblem = tf_builder.design_problem\n",
        "print(tf_design_problem.parameterisation.variables)"
      ],
      "outputs": [],
      "execution_count": null
    }
  ],
  "metadata": {
    "anaconda-cloud": {},
    "kernelspec": {
      "display_name": "Python 3",
      "language": "python",
      "name": "python3"
    },
    "language_info": {
      "codemirror_mode": {
        "name": "ipython",
        "version": 3
      },
      "file_extension": ".py",
      "mimetype": "text/x-python",
      "name": "python",
      "nbconvert_exporter": "python",
      "pygments_lexer": "ipython3",
      "version": "3.8.12"
    }
  },
  "nbformat": 4,
  "nbformat_minor": 4
}
