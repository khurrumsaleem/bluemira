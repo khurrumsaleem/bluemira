{
  "cells": [
    {
      "cell_type": "code",
      "metadata": {},
      "source": [
        "import pprint as pprint\n",
        "\n",
        "import matplotlib.pyplot as plt\n",
        "\n",
        "from bluemira.base.components import Component\n",
        "from bluemira.base.config import Configuration\n",
        "from bluemira.base.error import ParameterError\n",
        "from bluemira.base.file import get_bluemira_root\n",
        "from bluemira.base.logs import set_log_level\n",
        "from bluemira.base.parameter import ParameterEncoder\n",
        "from bluemira.builders.cryostat import CryostatBuilder\n",
        "from bluemira.builders.EUDEMO.pf_coils import PFCoilsBuilder\n",
        "from bluemira.builders.EUDEMO.plasma import PlasmaBuilder, PlasmaComponent\n",
        "from bluemira.builders.EUDEMO.reactor import EUDEMOReactor\n",
        "from bluemira.builders.EUDEMO.tf_coils import TFCoilsBuilder\n",
        "from bluemira.builders.radiation_shield import RadiationShieldBuilder\n",
        "from bluemira.builders.tf_coils import RippleConstrainedLengthOpt\n",
        "from bluemira.builders.thermal_shield import ThermalShieldBuilder\n",
        "from bluemira.codes import plot_radial_build\n",
        "from bluemira.codes.plasmod.mapping import (  # noqa: N812\n",
        "    create_mapping as create_PLASMOD_mappings,\n",
        ")\n",
        "from bluemira.codes.process.mapping import mappings as PROCESS_mappings  # noqa: N812\n",
        "from bluemira.display.displayer import ComponentDisplayer\n",
        "from bluemira.equilibria._deprecated_run import AbInitioEquilibriumProblem\n",
        "from bluemira.utilities.tools import json_writer"
      ],
      "outputs": [],
      "execution_count": null
    },
    {
      "cell_type": "markdown",
      "metadata": {},
      "source": [
        "# Configuring and Running an EU-DEMO Design\n",
        "\n",
        "The bluemira design logic allows reactors to be designed with a variety of parameter\n",
        "settings and build configurations. This example shows how the EU-DEMO design can be\n",
        "set up, run, and how to analyse and visualise some of the resulting components.\n",
        "\n",
        "## Setting up\n",
        "\n",
        "### Logging\n",
        "\n",
        "First we'll set the global logging level to DEBUG so that we can see verbose output.\n",
        "For production runs you may want to skip this step to reduce the volume of logging\n",
        "output - the default logging level is INFO, and less verbose WARNING, ERROR, and\n",
        "CRITICAL levels are also available."
      ]
    },
    {
      "cell_type": "code",
      "metadata": {},
      "source": [
        "set_log_level(\"DEBUG\")"
      ],
      "outputs": [],
      "execution_count": null
    },
    {
      "cell_type": "markdown",
      "metadata": {},
      "source": [
        "### Template Parameterisation\n",
        "\n",
        "Bluemira contains an example set of default parameter settings in the Configuration\n",
        "class. This acts as a template for the design parameterisation and allows most values\n",
        "to be left as defaults. Note, however, that in the future this functionality will move\n",
        "from a class-based configuration into configuration files that avoid the hardcoding of\n",
        "default values. To handle this, we can extract the parameters into a dictionary and\n",
        "write the template parameterisation to a json file.\n",
        "\n",
        "We also include the default PROCESS and PLASMOD parameter mappings so that these\n",
        "values can also be controlled in our template file."
      ]
    },
    {
      "cell_type": "code",
      "metadata": {},
      "source": [
        "params = {}\n",
        "for param in Configuration.params:\n",
        "    params[param[0]] = {}\n",
        "    params[param[0]][\"name\"] = param[1]\n",
        "    params[param[0]][\"value\"] = param[2]\n",
        "    params[param[0]][\"unit\"] = param[3]\n",
        "    params[param[0]][\"source\"] = param[5]\n",
        "    if param[4] is not None:\n",
        "        params[param[0]][\"description\"] = param[4]\n",
        "    if len(param) == 7:\n",
        "        params[param[0]][\"mapping\"] = {\n",
        "            key: value.to_dict() for key, value in param[6].items()\n",
        "        }\n",
        "    else:\n",
        "        params[param[0]][\"mapping\"] = {}\n",
        "\n",
        "        if PROCESS_mappings.get(param[0]) is not None:\n",
        "            params[param[0]][\"mapping\"][\"PROCESS\"] = PROCESS_mappings[param[0]]\n",
        "\n",
        "        PLASMOD_mappings = create_PLASMOD_mappings()\n",
        "        if PLASMOD_mappings.get(param[0]) is not None:\n",
        "            params[param[0]][\"mapping\"][\"PLASMOD\"] = PLASMOD_mappings[param[0]]\n",
        "\n",
        "        if params[param[0]][\"mapping\"] == {}:\n",
        "            params[param[0]].pop(\"mapping\")\n",
        "\n",
        "params = dict(sorted(params.items()))\n",
        "pprint.pprint(params, indent=2, sort_dicts=False)"
      ],
      "outputs": [],
      "execution_count": null
    },
    {
      "cell_type": "markdown",
      "metadata": {},
      "source": [
        "You can see the output of the next cell in template.json in the same directory as this\n",
        "notebook."
      ]
    },
    {
      "cell_type": "code",
      "metadata": {},
      "source": [
        "json_writer(\n",
        "    params,\n",
        "    f\"{get_bluemira_root()}/examples/design/EU-DEMO/template.json\",\n",
        "    indent=2,\n",
        "    cls=ParameterEncoder,\n",
        "    ensure_ascii=True,\n",
        ")"
      ],
      "outputs": [],
      "execution_count": null
    },
    {
      "cell_type": "markdown",
      "metadata": {},
      "source": [
        "### Parameter Configuration\n",
        "\n",
        "For each run of the bluemira design we will likely want to set different values for\n",
        "various parameters. So that we don't have to deal with the whole template.json file\n",
        "each time, it is convenient to create a parameter config file that sets the values for\n",
        "this specific run. This can be done by creating a dictionary that maps the parameter\n",
        "names to their new values. Any parameters not listed here will run with their default\n",
        "values. You can also map the name of the parameter to a dictionary if you would like\n",
        "to add a description to that setting or to change the mapping of a particular parameter\n",
        "to an external code."
      ]
    },
    {
      "cell_type": "code",
      "metadata": {},
      "source": [
        "config = {\n",
        "    \"Name\": \"EU-DEMO\",\n",
        "    \"tau_flattop\": 6900,\n",
        "    \"n_TF\": 18,\n",
        "    \"fw_psi_n\": 1.06,\n",
        "    \"tk_tf_front_ib\": 0.04,\n",
        "    \"tk_tf_side\": 0.1,\n",
        "    \"tk_tf_ins\": 0.08,\n",
        "    \"tk_bb_ib\": 0.755,\n",
        "    \"tk_bb_ob\": 1.275,\n",
        "    \"g_tf_pf\": 0.05,\n",
        "    \"C_Ejima\": 0.3,\n",
        "    \"eta_nb\": 0.4,\n",
        "    \"LPangle\": -15,\n",
        "    \"w_g_support\": 1.5,\n",
        "}\n",
        "\n",
        "for key, val in config.items():\n",
        "    if isinstance(val, dict):\n",
        "        for attr, attr_val in val.items():\n",
        "            if attr in [\"name\", \"unit\"]:\n",
        "                raise ParameterError(f\"Cannot set {attr} in parameter configuration.\")\n",
        "            params[key][attr] = attr_val\n",
        "    else:\n",
        "        params[key][\"value\"] = val"
      ],
      "outputs": [],
      "execution_count": null
    },
    {
      "cell_type": "markdown",
      "metadata": {},
      "source": [
        "You can see the output of the next cell in params.json in the same directory as this\n",
        "notebook."
      ]
    },
    {
      "cell_type": "code",
      "metadata": {},
      "source": [
        "json_writer(\n",
        "    config,\n",
        "    f\"{get_bluemira_root()}/examples/design/EU-DEMO/params.json\",\n",
        "    indent=2,\n",
        "    cls=ParameterEncoder,\n",
        "    ensure_ascii=False,\n",
        ")"
      ],
      "outputs": [],
      "execution_count": null
    },
    {
      "cell_type": "markdown",
      "metadata": {},
      "source": [
        "### Build Configuration\n",
        "\n",
        "The bluemira parameters that we've seen so far control how the physical values of\n",
        "the target reactor are set. However, we can also change the way in which our bluemira\n",
        "design runs by setting values in the build config. These values control how each stage\n",
        "in our design is executed, as well as some general values like where reference data\n",
        "is read from (reference_data_root) and where data generated by our run will be written\n",
        "to (generated_data_root).\n",
        "\n",
        "Some design stages will have a runmode that allows the design problem being solved to\n",
        "be either executed from scratch (run), read from a previously generated file (read), or\n",
        "evaluated with some default (mock) values.\n",
        "\n",
        "For design stages that build based on a parameterised shape, it is possible to set\n",
        "what parameterisation class is used (param_class) and how the variables for that\n",
        "parameterisation are set (variables_map). The variables map can either set the\n",
        "initial value of the variable to be a number or to be derived from a parameter by\n",
        "specifying a parameter name. If the shape is being used in a design problem then the\n",
        "optimisation settings for the variable can also be changed, such as the lower and upper\n",
        "bounds (lower_bound and upper_bound), and whether the variable should be removed from\n",
        "the optimisation variables (fixed). The design problem can also be configured by\n",
        "setting the optimisation algorithm to be used (algorithm_name), various design\n",
        "problem-specific tweaking values (problem_settings), the optimisation conditions\n",
        "(opt_conditions) like the maximum number of evaluations, and the optimisation\n",
        "parameters (opt_parameters).\n",
        "\n",
        "Advanced users can also change the design problem being solved by specifying the name\n",
        "or module path of the class to use (problem_class). This allows plugin functionality\n",
        "to be loaded into bluemira from external packages. Similarly, the shape\n",
        "parameterisation (param_class) can be loaded from a module path."
      ]
    },
    {
      "cell_type": "code",
      "metadata": {},
      "source": [
        "build_config = {\n",
        "    \"reference_data_root\": \"!BM_ROOT!/data\",\n",
        "    \"generated_data_root\": \"!BM_ROOT!/generated_data\",\n",
        "    \"PROCESS\": {\n",
        "        \"runmode\": \"mock\",  # [\"run\", \"read\", \"mock\"]\n",
        "    },\n",
        "    \"Plasma\": {\n",
        "        \"runmode\": \"read\",  # [\"run\", \"read\", \"mock\"]\n",
        "    },\n",
        "    \"TF Coils\": {\n",
        "        \"runmode\": \"run\",  # [\"run\", \"read\", \"mock\"]\n",
        "        \"param_class\": \"TripleArc\",\n",
        "        \"variables_map\": {\n",
        "            \"x1\": {\n",
        "                \"value\": \"r_tf_in_centre\",\n",
        "                \"fixed\": True,\n",
        "            },\n",
        "            \"f1\": {\n",
        "                \"value\": 4,\n",
        "                \"lower_bound\": 4,\n",
        "            },\n",
        "            \"f2\": {\n",
        "                \"value\": 4,\n",
        "                \"lower_bound\": 4,\n",
        "            },\n",
        "        },\n",
        "        \"algorithm_name\": \"COBYLA\",\n",
        "        \"problem_settings\": {\n",
        "            \"n_rip_points\": 50,\n",
        "            \"nx\": 2,\n",
        "            \"ny\": 2,\n",
        "        },\n",
        "    },\n",
        "    \"PF Coils\": {\n",
        "        \"runmode\": \"read\",\n",
        "    },\n",
        "}"
      ],
      "outputs": [],
      "execution_count": null
    },
    {
      "cell_type": "markdown",
      "metadata": {},
      "source": [
        "#### Modifying the Build Config\n",
        "\n",
        "At different stages of creating a design, we may want to use different build config\n",
        "settings for different stages. For example, if we want to quickly generate some\n",
        "geometry but do not need to solve a specific design problem, we could run the relevant\n",
        "stage in mock mode, if we're running in production, or preparing for a production run,\n",
        "we could run in run mode, or if we have a run that we want to reload then we could run\n",
        "in read mode.\n",
        "\n",
        "Note that running or reading certain stages may require additional third-party\n",
        "libraries to be installed. You may need to request the appropriate permissions and\n",
        "licenses to run those codes if they are not open source.\n",
        "\n",
        "If you have PROCESS installed then change these to enable a PROCESS run or to read\n",
        "an existing PROCESS output."
      ]
    },
    {
      "cell_type": "code",
      "metadata": {},
      "source": [
        "# build_config[\"PROCESS\"][\"runmode\"] = \"run\"\n",
        "# build_config[\"PROCESS\"][\"runmode\"] = \"read\""
      ],
      "outputs": [],
      "execution_count": null
    },
    {
      "cell_type": "markdown",
      "metadata": {},
      "source": [
        "Uncomment one of the following and run the cell to mock the plasma design stage and use\n",
        "a parameterised boundary (no equilibrium will be produced in this case), or read the\n",
        "reference plasma equilibrium run from an existing file."
      ]
    },
    {
      "cell_type": "code",
      "metadata": {},
      "source": [
        "# build_config[\"Plasma\"][\"runmode\"] = \"mock\"\n",
        "# build_config[\"Plasma\"][\"runmode\"] = \"read\""
      ],
      "outputs": [],
      "execution_count": null
    },
    {
      "cell_type": "markdown",
      "metadata": {},
      "source": [
        "You can see the output of the next cell in build_config.json in the same directory as\n",
        "this notebook."
      ]
    },
    {
      "cell_type": "code",
      "metadata": {},
      "source": [
        "json_writer(\n",
        "    build_config,\n",
        "    f\"{get_bluemira_root()}/examples/design/EU-DEMO/build_config.json\",\n",
        "    indent=2,\n",
        ")"
      ],
      "outputs": [],
      "execution_count": null
    },
    {
      "cell_type": "markdown",
      "metadata": {},
      "source": [
        "## Creating the Reactor and Running the Design\n",
        "\n",
        "Now that we have set up our design, we can create and run our Reactor Design object. We\n",
        "will be using the EUDEMOReactor, which performs an EU-DEMO like design with the\n",
        "following build stages:\n",
        "\n",
        "- Perform a 0-/1-D design using PROCESS (or load a mock PROCESS output)\n",
        "- Design and build an initial plasma shape, based on an equilibrium (or mock shape\n",
        "  parameterisation)\n",
        "- Design and build the TF coil system, based on a shape parameterisation that is\n",
        "  optimised with a minimum length based on a maximum ripple constraint defined by the\n",
        "  TF_ripple_limit parameter (or by generating the parameterised shape without solving\n",
        "  the design problem)\n",
        "\n",
        "The design run produces a Component object that contains the tree representation of all\n",
        "of the reactor systems that have been build by the design stages."
      ]
    },
    {
      "cell_type": "code",
      "metadata": {},
      "source": [
        "reactor = EUDEMOReactor(params, build_config)\n",
        "component = reactor.run()"
      ],
      "outputs": [],
      "execution_count": null
    },
    {
      "cell_type": "markdown",
      "metadata": {},
      "source": [
        "## Extracting Results and Analyses\n",
        "\n",
        "Now that we have a designed reactor and the built components, we can visualise the\n",
        "results of the various design stages.\n",
        "\n",
        "### Viewing the PROCESS Radial Build\n",
        "\n",
        "If you have performed your design with PROCESS in the \"run\" runmode, then we can take\n",
        "a look at the radial build by inspecting the generated data directory for our systems\n",
        "code."
      ]
    },
    {
      "cell_type": "code",
      "metadata": {},
      "source": [
        "if build_config[\"PROCESS\"][\"runmode\"] == \"run\":\n",
        "    plot_radial_build(reactor.file_manager.generated_data_dirs[\"systems_code\"])\n",
        "else:\n",
        "    print(\n",
        "        \"The PROCESS design stage did not have the runmode set to run.\"\n",
        "        \"If you have PROCESS installed in your bluemira environment, then try rerunning \"\n",
        "        'after executing build_config[\"PROCESS\"][\"runmode\"] = \"run\"'\n",
        "    )"
      ],
      "outputs": [],
      "execution_count": null
    },
    {
      "cell_type": "markdown",
      "metadata": {},
      "source": [
        "### Accessing Components\n",
        "\n",
        "Our design has generated a tree of components, with various levels corresponding to\n",
        "components that have been built by the Builders invoked at the different design stages.\n",
        "\n",
        "We can inspect this top-level component to see the tree that we have generated."
      ]
    },
    {
      "cell_type": "code",
      "metadata": {},
      "source": [
        "print(component.tree())"
      ],
      "outputs": [],
      "execution_count": null
    },
    {
      "cell_type": "markdown",
      "metadata": {},
      "source": [
        "We can also access the different components at various levels by searching through the\n",
        "tree."
      ]
    },
    {
      "cell_type": "code",
      "metadata": {},
      "source": [
        "plasma: PlasmaComponent = component.get_component(\"Plasma\")\n",
        "tf_coils = component.get_component(\"TF Coils\")\n",
        "pf_coils = component.get_component(\"PF Coils\")"
      ],
      "outputs": [],
      "execution_count": null
    },
    {
      "cell_type": "markdown",
      "metadata": {},
      "source": [
        "### Saving the Equilibrium\n",
        "\n",
        "If we have built our plasma using either the run or read runmode then we can save the\n",
        "resulting equilibrium to a file. The Plasma component stores the equilibrium as one of\n",
        "its attributes (as it uses the PlasmaComponent type) so we can get the Plasma component\n",
        "from the result of our design run and save it using the `to_eqdsk` function. The result\n",
        "will be available in the reactor's equilibria folder. By default this will be at:\n",
        "\n",
        "generated_data/reactors/EU-DEMO/equilibria\n",
        "\n",
        "The preferred bluemira method for saving equilibria is to use json format as it is\n",
        "more descriptive than the traditional eqdsk format."
      ]
    },
    {
      "cell_type": "code",
      "metadata": {},
      "source": [
        "directory = reactor.file_manager.generated_data_dirs[\"equilibria\"]\n",
        "if plasma.equilibrium is not None:\n",
        "    plasma.equilibrium.to_eqdsk(\n",
        "        reactor.params[\"Name\"] + \"_eqref\",\n",
        "        directory=reactor.file_manager.generated_data_dirs[\"equilibria\"],\n",
        "    )"
      ],
      "outputs": [],
      "execution_count": null
    },
    {
      "cell_type": "markdown",
      "metadata": {},
      "source": [
        "### Viewing the Equilibrium\n",
        "\n",
        "If our design has generated an equilibrium, then we can also view it."
      ]
    },
    {
      "cell_type": "code",
      "metadata": {},
      "source": [
        "if plasma.equilibrium is not None:\n",
        "    plasma.equilibrium.plot()\n",
        "    plt.show()"
      ],
      "outputs": [],
      "execution_count": null
    },
    {
      "cell_type": "markdown",
      "metadata": {},
      "source": [
        "### Display the Plasma Components\n",
        "\n",
        "Now that we have retrieved our Plasma component, we can also get the various views of\n",
        "its underlying components and plot them (for 2D views) or show their CAD (for 3D\n",
        "views). Note that the 3D CAD will display in a separate pop-up window."
      ]
    },
    {
      "cell_type": "code",
      "metadata": {},
      "source": [
        "plasma.get_component(\"xz\").plot_2d()"
      ],
      "outputs": [],
      "execution_count": null
    },
    {
      "cell_type": "code",
      "metadata": {},
      "source": [
        "plasma.get_component(\"xy\").plot_2d()"
      ],
      "outputs": [],
      "execution_count": null
    },
    {
      "cell_type": "code",
      "metadata": {},
      "source": [
        "plasma.get_component(\"xyz\").show_cad()"
      ],
      "outputs": [],
      "execution_count": null
    },
    {
      "cell_type": "markdown",
      "metadata": {},
      "source": [
        "### Viewing the Design Problem Solution\n",
        "\n",
        "We've seen how to access the results from the components that have been built by our\n",
        "design, but we can also interrogate the Builder that was used in our design stage. In\n",
        "particular, if we used the run runmode then we can inspect the `design_problem` and\n",
        "view the solution that was found."
      ]
    },
    {
      "cell_type": "code",
      "metadata": {},
      "source": [
        "plasma_builder = reactor.get_builder(\"Plasma\")\n",
        "if plasma_builder.runmode == \"run\":\n",
        "    eq_problem: AbInitioEquilibriumProblem = reactor.get_builder(\"Plasma\").design_problem\n",
        "    _, ax = plt.subplots()\n",
        "    eq_problem.eq.plot(ax=ax)\n",
        "    eq_problem.constraints.plot(ax=ax)\n",
        "    eq_problem.coilset.plot(ax=ax)\n",
        "    plt.show()"
      ],
      "outputs": [],
      "execution_count": null
    },
    {
      "cell_type": "markdown",
      "metadata": {},
      "source": [
        "### Viewing the TF Coils\n",
        "\n",
        "In the same way that we viewed the resulting plasma, we can also take a look at the\n",
        "TF coils that we have built."
      ]
    },
    {
      "cell_type": "code",
      "metadata": {},
      "source": [
        "tf_coils.get_component(\"xy\").plot_2d()"
      ],
      "outputs": [],
      "execution_count": null
    },
    {
      "cell_type": "code",
      "metadata": {},
      "source": [
        "tf_coils.get_component(\"xz\").plot_2d()"
      ],
      "outputs": [],
      "execution_count": null
    },
    {
      "cell_type": "code",
      "metadata": {},
      "source": [
        "tf_coils.get_component(\"xyz\").show_cad()"
      ],
      "outputs": [],
      "execution_count": null
    },
    {
      "cell_type": "markdown",
      "metadata": {},
      "source": [
        "### Saving the Geometry Parametrisation\n",
        "\n",
        "If we've run a design with a build stage in the \"run\" runmode then we may want to save\n",
        "the resulting geometry parameterisation to a file so that it can be read back in,\n",
        "saving time in future runs if we are only making downstream changes. This can be done\n",
        "by using the `save_shape` method on the `TFCoilsBuilder`."
      ]
    },
    {
      "cell_type": "code",
      "metadata": {},
      "source": [
        "tf_coils_builder: TFCoilsBuilder = reactor.get_builder(\"TF Coils\")\n",
        "if tf_coils_builder.runmode == \"run\":\n",
        "    tf_coils_builder.save_shape()"
      ],
      "outputs": [],
      "execution_count": null
    },
    {
      "cell_type": "markdown",
      "metadata": {},
      "source": [
        "### Plotting the TF Coils Design Problem\n",
        "\n",
        "In the same way that we got the design problem from our Plasma Builder used in the\n",
        "corresponding design stage, we can also interrogate the design problem from our TF\n",
        "Coils build."
      ]
    },
    {
      "cell_type": "code",
      "metadata": {},
      "source": [
        "tf_coils_builder: TFCoilsBuilder = reactor.get_builder(\"TF Coils\")\n",
        "if tf_coils_builder.runmode == \"run\":\n",
        "    design_problem: RippleConstrainedLengthOpt = tf_coils_builder.design_problem\n",
        "    design_problem.plot()\n",
        "    plt.show()"
      ],
      "outputs": [],
      "execution_count": null
    },
    {
      "cell_type": "markdown",
      "metadata": {},
      "source": [
        "### Visualising the Reactor\n",
        "\n",
        "Finally we can view the whole Reactor by plotting or showing the combined views for\n",
        "all of the components that we have built."
      ]
    },
    {
      "cell_type": "code",
      "metadata": {},
      "source": [
        "ax = tf_coils.get_component(\"xy\").plot_2d(show=False)\n",
        "plasma.get_component(\"xy\").plot_2d(ax=ax, show=False)\n",
        "pf_coils.get_component(\"xy\").plot_2d(ax=ax)"
      ],
      "outputs": [],
      "execution_count": null
    },
    {
      "cell_type": "code",
      "metadata": {},
      "source": [
        "ax = tf_coils.get_component(\"xz\").plot_2d(show=False)\n",
        "plasma.get_component(\"xz\").plot_2d(ax=ax, show=False)\n",
        "pf_coils.get_component(\"xz\").plot_2d(ax=ax, show=False)\n",
        "\n",
        "thermal_shield = component.get_component(\"Thermal Shield\")\n",
        "thermal_shield.get_component(\"xz\").plot_2d(ax=ax, show=False)\n",
        "cryostat = component.get_component(\"Cryostat\")\n",
        "cryostat.get_component(\"xz\").plot_2d(ax=ax, show=False)\n",
        "radiation_shield = component.get_component(\"Radiation Shield\")\n",
        "radiation_shield.get_component(\"xz\").plot_2d(ax=ax)"
      ],
      "outputs": [],
      "execution_count": null
    },
    {
      "cell_type": "code",
      "metadata": {},
      "source": [
        "ComponentDisplayer().show_cad(component.get_component(\"xyz\", first=False))"
      ],
      "outputs": [],
      "execution_count": null
    },
    {
      "cell_type": "code",
      "metadata": {},
      "source": [
        "component = Component(\"Segment View\")\n",
        "plasma_builder: PlasmaBuilder = reactor.get_builder(\"Plasma\")\n",
        "tf_coils_builder: TFCoilsBuilder = reactor.get_builder(\"TF Coils\")\n",
        "pf_coils_builder: PFCoilsBuilder = reactor.get_builder(\"PF Coils\")\n",
        "thermal_shield_builder: ThermalShieldBuilder = reactor.get_builder(\"Thermal Shield\")\n",
        "cryostat_builder: CryostatBuilder = reactor.get_builder(\"Cryostat\")\n",
        "radiation_shield_builder: RadiationShieldBuilder = reactor.get_builder(\n",
        "    \"Radiation Shield\"\n",
        ")\n",
        "component.add_child(plasma_builder.build_xyz(degree=270))\n",
        "component.add_child(tf_coils_builder.build_xyz(degree=270))\n",
        "component.add_child(pf_coils_builder.build_xyz(degree=270))\n",
        "component.add_child(thermal_shield_builder.build_xyz(degree=270))\n",
        "component.add_child(cryostat_builder.build_xyz(degree=270))\n",
        "component.add_child(radiation_shield_builder.build_xyz(degree=270))\n",
        "component.show_cad()"
      ],
      "outputs": [],
      "execution_count": null
    }
  ],
  "metadata": {
    "anaconda-cloud": {},
    "kernelspec": {
      "display_name": "Python 3",
      "language": "python",
      "name": "python3"
    },
    "language_info": {
      "codemirror_mode": {
        "name": "ipython",
        "version": 3
      },
      "file_extension": ".py",
      "mimetype": "text/x-python",
      "name": "python",
      "nbconvert_exporter": "python",
      "pygments_lexer": "ipython3",
      "version": "3.8.12"
    }
  },
  "nbformat": 4,
  "nbformat_minor": 4
}
