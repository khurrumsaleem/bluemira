{
  "cells": [
    {
      "cell_type": "code",
      "metadata": {},
      "source": [
        "from typing import Type\n",
        "\n",
        "from bluemira.base.parameter import ParameterFrame\n",
        "from BLUEPRINT.geometry.loop import Loop\n",
        "from BLUEPRINT.systems.baseclass import ReactorSystem"
      ],
      "outputs": [],
      "execution_count": null
    },
    {
      "cell_type": "markdown",
      "metadata": {},
      "source": [
        "# Anatomy of a ReactorSystem"
      ]
    },
    {
      "cell_type": "code",
      "metadata": {},
      "source": [
        "class TypicalSystem(ReactorSystem):\n",
        "    \"\"\"\n",
        "    The class docstring. It should contain a simple description of what\n",
        "    the class is.\n",
        "    \"\"\"\n",
        "\n",
        "    # This is where we define class attributes (we can give type-hints)\n",
        "\n",
        "    name: str\n",
        "    config: Type[ParameterFrame]\n",
        "    inputs: dict\n",
        "\n",
        "    something: Type[Loop]\n",
        "\n",
        "    # Here we define the Parameters that the TypicalSystem class will use\n",
        "    # These will be pulled from the Reactor that we are making when using this\n",
        "    # class\n",
        "\n",
        "    # fmt: off  --> this is the flag for black to ignore this part of the code\n",
        "    default_params = [\n",
        "        [\"n_TF\", \"Number of TF coils\", 16, \"dimensionless\", None, \"Input\"],\n",
        "        [\"coolant\", \"Coolant\", \"Water\", None, \"Divertor coolant type\", \"Common sense\"],\n",
        "        [\"T_in\", \"Coolant inlet T\", 80.0, \"\u00b0C\", \"Coolant inlet T\", None],\n",
        "    ]\n",
        "    # fmt: on   --> turn formatting back on!\n",
        "\n",
        "    def __init__(self, config: Type[ParameterFrame], inputs: dict) -> None:\n",
        "        self.inputs = inputs\n",
        "\n",
        "        # Here are going to update the default Parameters with the config\n",
        "        # (which normally comes from the Reactor)\n",
        "        self._init_params(config)\n",
        "\n",
        "    def add_loop(self, loop: Type[Loop]) -> None:\n",
        "        \"\"\"\n",
        "        Assign a loop to the class.\n",
        "\n",
        "        Parameters\n",
        "        ----------\n",
        "        loop: Loop\n",
        "            The Loop to use\n",
        "        \"\"\"\n",
        "        self.something = loop"
      ],
      "outputs": [],
      "execution_count": null
    },
    {
      "cell_type": "markdown",
      "metadata": {},
      "source": [
        "Now let's make an instance of the TypicalSystem\n",
        "\n",
        "First, we make a ParameterFrame, which we will make really small here, but in\n",
        "practice will come from a Reactor, and have lots of things in it"
      ]
    },
    {
      "cell_type": "code",
      "metadata": {},
      "source": [
        "config = ParameterFrame(\n",
        "    [\n",
        "        [\"n_TF\", \"Number of TF coils\", 18, \"dimensionless\", None, \"Input\"],\n",
        "        [\"n_PF\", \"Number of PF coils\", 8, \"dimensionless\", None, \"Input\"],\n",
        "    ]\n",
        ")\n",
        "inputs = {\"something\": \"random\"}\n",
        "\n",
        "\n",
        "typ_system = TypicalSystem(config, inputs)"
      ],
      "outputs": [],
      "execution_count": null
    },
    {
      "cell_type": "markdown",
      "metadata": {},
      "source": [
        "Notice 3 things:\n",
        "*  the class default for n_TF was 16, and we passed a config with 18.\n",
        "   Now the TypicalSystem thinks n_TF = 18\n",
        "*  The config ParameterFrame had a Parameter n_PF, which wasn't defined\n",
        "   in the TypicalSystem class. TypicalSystem ignores this Parameter: it\n",
        "   simply doesn't update its ParameterFrame\n",
        "*  Some Parameters were in TypicalSystem, that were not updated by our\n",
        "   \"global\" config. They are left untouched."
      ]
    },
    {
      "cell_type": "code",
      "metadata": {},
      "source": [
        "print(typ_system.params)"
      ],
      "outputs": [],
      "execution_count": null
    },
    {
      "cell_type": "markdown",
      "metadata": {},
      "source": [
        "All normal manipulations of a a parameter value happen as if a parameter\n",
        "was the same type."
      ]
    },
    {
      "cell_type": "code",
      "metadata": {},
      "source": [
        "typ_system.params.n_TF += 4\n",
        "\n",
        "print(typ_system.params)"
      ],
      "outputs": [],
      "execution_count": null
    },
    {
      "cell_type": "markdown",
      "metadata": {},
      "source": [
        "The source of the parameter within the ParameterFrame can be changed\n",
        "at the same time as its value.\n",
        "Otherwise it should be set immediately after a value change.\n",
        "Note a warning is produced here because a parameter was modified inplace\n",
        "without setting its source\n",
        "\n",
        "Obviously you wouldn't actually want to do this with these parameters,\n",
        "`T_in` is treated as a float as defined in TypicalSystem.\n",
        "\n",
        "When the source is not set and the value assigned by the ParameterFrame\n",
        "the source is set to `None` for backward compatibility, in future this\n",
        "will also be `False` and raise a warning."
      ]
    },
    {
      "cell_type": "code",
      "metadata": {},
      "source": [
        "typ_system.params.n_TF = (typ_system.params.T_in + 10, \"New Input 1\")\n",
        "typ_system.params.n_TF = {\"value\": 10, \"source\": \"New Input 2\"}\n",
        "typ_system.params.n_TF = 20\n",
        "typ_system.params.n_TF.source = \"New Input 3\"\n",
        "\n",
        "print(typ_system.params)\n",
        "\n",
        "print(\"n_TF parameter history\")\n",
        "\n",
        "print(typ_system.params.n_TF.history(True))"
      ],
      "outputs": [],
      "execution_count": null
    },
    {
      "cell_type": "markdown",
      "metadata": {},
      "source": [
        "OK now let's add a Loop to our TypicalSystem"
      ]
    },
    {
      "cell_type": "code",
      "metadata": {},
      "source": [
        "loop = Loop(x=[1, 2, 3, 4, 5, 1], y=[0, 1, 2, 3, 0, 0])\n",
        "\n",
        "typ_system.add_loop(loop)"
      ],
      "outputs": [],
      "execution_count": null
    }
  ],
  "metadata": {
    "anaconda-cloud": {},
    "kernelspec": {
      "display_name": "Python 3",
      "language": "python",
      "name": "python3"
    },
    "language_info": {
      "codemirror_mode": {
        "name": "ipython",
        "version": 3
      },
      "file_extension": ".py",
      "mimetype": "text/x-python",
      "name": "python",
      "nbconvert_exporter": "python",
      "pygments_lexer": "ipython3",
      "version": "3.8.12"
    }
  },
  "nbformat": 4,
  "nbformat_minor": 4
}
