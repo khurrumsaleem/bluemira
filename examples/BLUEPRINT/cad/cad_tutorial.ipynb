{
  "cells": [
    {
      "cell_type": "code",
      "metadata": {},
      "source": [
        "import os\n",
        "\n",
        "from bluemira.base.file import get_bluemira_path\n",
        "from BLUEPRINT.cad.cadtools import (\n",
        "    boolean_cut,\n",
        "    boolean_fuse,\n",
        "    extrude,\n",
        "    make_axis,\n",
        "    make_circle,\n",
        "    make_face,\n",
        "    revolve,\n",
        "    save_as_STEP,\n",
        "    show_CAD,\n",
        "    translate_shape,\n",
        ")\n",
        "from BLUEPRINT.geometry.loop import Loop"
      ],
      "outputs": [],
      "execution_count": null
    },
    {
      "cell_type": "markdown",
      "metadata": {},
      "source": [
        "Let's say you want to make some 3-D shapes to impress your boss.\n",
        "You will need:\n",
        "1.  An idea of what it you want to make\n",
        "2.  An idea of how it is you will make it\n",
        "3.  Some helpful tools in order to get the job done\n",
        "\n",
        "The basic idea behind any 3-D CAD is to start with some primitives (points,\n",
        "lines, splines, etc.) to make 2-D objects, to then make 3-D objects\n",
        "\n",
        "A lot of this module simplifies out the first two steps, leaving you to worry\n",
        "about what you want to make.\n",
        "\n",
        "## MAKE A CUBE\n",
        "\n",
        "Let's say we want to make a cube. Here's one way of doing it:\n",
        "1.  make a square of size L\n",
        "2.  extrude the square by length L\n",
        "\n",
        "### Step 1: make a square\n",
        "\n",
        "For this we use a geometry object: Loop, which is a collection of coordinates"
      ]
    },
    {
      "cell_type": "code",
      "metadata": {},
      "source": [
        "square = Loop(x=[2, 4, 4, 2, 2], z=[2, 2, 4, 4, 2])\n",
        "\n",
        "print(f\"square.x: {square.x}\")\n",
        "print(f\"square.z: {square.z}\")"
      ],
      "outputs": [],
      "execution_count": null
    },
    {
      "cell_type": "markdown",
      "metadata": {},
      "source": [
        "Good, so these are the same as specified. But what about the y-dimension?"
      ]
    },
    {
      "cell_type": "code",
      "metadata": {},
      "source": [
        "print(f\"square.y: {square.y}\")"
      ],
      "outputs": [],
      "execution_count": null
    },
    {
      "cell_type": "markdown",
      "metadata": {},
      "source": [
        "It is auto-populated to an array of zeros. This kind of thing is important\n",
        "if you care where your cube is going to be.\n",
        "\n",
        "Now, we need to make a 2-D CAD representation of the square. This kind of\n",
        "object we will call a \"face\". \"make_face\" takes a Loop object"
      ]
    },
    {
      "cell_type": "code",
      "metadata": {},
      "source": [
        "face = make_face(square)"
      ],
      "outputs": [],
      "execution_count": null
    },
    {
      "cell_type": "markdown",
      "metadata": {},
      "source": [
        "Now let's say you want to look at your square face."
      ]
    },
    {
      "cell_type": "code",
      "metadata": {},
      "source": [
        "show_CAD(face)"
      ],
      "outputs": [],
      "execution_count": null
    },
    {
      "cell_type": "markdown",
      "metadata": {},
      "source": [
        "### Step 2: extrude the square\n",
        "\n",
        "We use the extrude function for this, and there are different ways of\n",
        "specifying the extrusion\n",
        "\n",
        "2.1: specifying the length and axis"
      ]
    },
    {
      "cell_type": "code",
      "metadata": {},
      "source": [
        "cube1 = extrude(face, length=2, axis=\"y\")"
      ],
      "outputs": [],
      "execution_count": null
    },
    {
      "cell_type": "markdown",
      "metadata": {},
      "source": [
        "2.1: with the \"vec\" argument,"
      ]
    },
    {
      "cell_type": "code",
      "metadata": {},
      "source": [
        "cube2 = extrude(face, vec=[0, 2, 0])"
      ],
      "outputs": [],
      "execution_count": null
    },
    {
      "cell_type": "markdown",
      "metadata": {},
      "source": [
        "Let's check that these produced the same result..."
      ]
    },
    {
      "cell_type": "code",
      "metadata": {},
      "source": [
        "show_CAD(cube1, cube2)"
      ],
      "outputs": [],
      "execution_count": null
    },
    {
      "cell_type": "markdown",
      "metadata": {},
      "source": [
        "Huh? only one cube? They are on top of each other!\n",
        "So let's move one away a little bit"
      ]
    },
    {
      "cell_type": "code",
      "metadata": {},
      "source": [
        "cube2 = translate_shape(cube2, [4, 0, 0])\n",
        "\n",
        "show_CAD(cube1, cube2)"
      ],
      "outputs": [],
      "execution_count": null
    },
    {
      "cell_type": "markdown",
      "metadata": {},
      "source": [
        "## MAKE A TORUS\n",
        "\n",
        "Let's say we want to make a torus. Here's one way of doing it:\n",
        "1.  make a circle of radius R2, at centre (0, R1)\n",
        "2.  revolve the circle by 360 degrees"
      ]
    },
    {
      "cell_type": "code",
      "metadata": {},
      "source": [
        "R1 = 9\n",
        "R2 = 3\n",
        "angle = 360"
      ],
      "outputs": [],
      "execution_count": null
    },
    {
      "cell_type": "markdown",
      "metadata": {},
      "source": [
        "### Step 1: make a circle\n",
        "\n",
        "For this we have to proceed a little differently, as making a circle with\n",
        "lots of individual points (like in a Loop object) isn't very good for CAD.\n",
        "We use a direct implementation of a circle in OCC/OCE. This directly gives\n",
        "us a face object"
      ]
    },
    {
      "cell_type": "code",
      "metadata": {},
      "source": [
        "face = make_circle(centre=[R1, 0, 0], direction=[0, 1, 0], radius=R2)"
      ],
      "outputs": [],
      "execution_count": null
    },
    {
      "cell_type": "markdown",
      "metadata": {},
      "source": [
        "(note the 3-D coordinate interface)"
      ]
    },
    {
      "cell_type": "code",
      "metadata": {},
      "source": [
        "show_CAD(face)"
      ],
      "outputs": [],
      "execution_count": null
    },
    {
      "cell_type": "markdown",
      "metadata": {},
      "source": [
        "## Step 2: revolve the circle\n",
        "\n",
        "But... about what? We need to make an axis object"
      ]
    },
    {
      "cell_type": "code",
      "metadata": {},
      "source": [
        "axis = make_axis([0, 0, 0], [0, 0, 1])  # about the z-axis\n",
        "\n",
        "torus = revolve(face, axis)\n",
        "\n",
        "show_CAD(torus)"
      ],
      "outputs": [],
      "execution_count": null
    },
    {
      "cell_type": "markdown",
      "metadata": {},
      "source": [
        "## BOOLEAN OPERATIONS\n",
        "\n",
        "Let's say your boss is really impressed by lots of CAD\n",
        "You're going to need to stick your CAD bits together...\n",
        "\n",
        "Let's take our torus, make a copy, move that to the side a little, and stick\n",
        "them together... to make a doublet torus shape"
      ]
    },
    {
      "cell_type": "code",
      "metadata": {},
      "source": [
        "torus2 = translate_shape(torus, [0, 0, 2.5])\n",
        "\n",
        "doublet = boolean_fuse(torus, torus2)\n",
        "\n",
        "show_CAD(doublet)"
      ],
      "outputs": [],
      "execution_count": null
    },
    {
      "cell_type": "markdown",
      "metadata": {},
      "source": [
        "What about the opposite result?"
      ]
    },
    {
      "cell_type": "code",
      "metadata": {},
      "source": [
        "cutlet = boolean_cut(torus, torus2)\n",
        "\n",
        "show_CAD(cutlet)"
      ],
      "outputs": [],
      "execution_count": null
    },
    {
      "cell_type": "markdown",
      "metadata": {},
      "source": [
        "What about more complex shapes?\n",
        "\n",
        "## MAKE A SPLINY SHAPE\n",
        "\n",
        "For this we're going to load some Loop shapes from files"
      ]
    },
    {
      "cell_type": "code",
      "metadata": {},
      "source": [
        "path = get_bluemira_path(\"BLUEPRINT/cad/test_data\", subfolder=\"tests\")\n",
        "name = \"plasmaloop.json\"\n",
        "filename = os.sep.join([path, name])\n",
        "\n",
        "plasma = Loop.from_file(filename)"
      ],
      "outputs": [],
      "execution_count": null
    },
    {
      "cell_type": "markdown",
      "metadata": {},
      "source": [
        "Let's have a look"
      ]
    },
    {
      "cell_type": "code",
      "metadata": {},
      "source": [
        "plasma.plot()"
      ],
      "outputs": [],
      "execution_count": null
    },
    {
      "cell_type": "markdown",
      "metadata": {},
      "source": [
        "OK, but how many points are we dealing with here?"
      ]
    },
    {
      "cell_type": "code",
      "metadata": {},
      "source": [
        "print(f\"number of points in plasma: {len(plasma)}\")"
      ],
      "outputs": [],
      "execution_count": null
    },
    {
      "cell_type": "markdown",
      "metadata": {},
      "source": [
        "That's starting to be a lot... what does it mean in practice?"
      ]
    },
    {
      "cell_type": "code",
      "metadata": {},
      "source": [
        "plasma.plot(points=True)"
      ],
      "outputs": [],
      "execution_count": null
    },
    {
      "cell_type": "markdown",
      "metadata": {},
      "source": [
        "When we make a face from a Loop, it draws lines between all the individual\n",
        "points. Let's try it:"
      ]
    },
    {
      "cell_type": "code",
      "metadata": {},
      "source": [
        "face = make_face(plasma)"
      ],
      "outputs": [],
      "execution_count": null
    },
    {
      "cell_type": "markdown",
      "metadata": {},
      "source": [
        "Just extrude it a little bit to see a bit more of what is going on..."
      ]
    },
    {
      "cell_type": "code",
      "metadata": {},
      "source": [
        "plasma_block = extrude(face, vec=[0, 5, 0])\n",
        "\n",
        "show_CAD(plasma_block)"
      ],
      "outputs": [],
      "execution_count": null
    },
    {
      "cell_type": "markdown",
      "metadata": {},
      "source": [
        "OK, so that's some really nasty CAD... Lines everywhere. Large object/file size\n",
        "What can we do about it?\n",
        "\n",
        "In general, for curvy shapes, Bezier splines are much better for CAD than\n",
        "lots of points"
      ]
    },
    {
      "cell_type": "code",
      "metadata": {},
      "source": [
        "face = make_face(plasma, spline=True)\n",
        "show_CAD(face)"
      ],
      "outputs": [],
      "execution_count": null
    },
    {
      "cell_type": "code",
      "metadata": {},
      "source": [
        "plasma_block2 = extrude(face, vec=[0, 5, 0])\n",
        "plasma_block2 = translate_shape(plasma_block2, [7, 0, 0])\n",
        "show_CAD(plasma_block, plasma_block2)"
      ],
      "outputs": [],
      "execution_count": null
    },
    {
      "cell_type": "markdown",
      "metadata": {},
      "source": [
        "We can save the CAD boundary representation (BRep) objects as STP files:\n",
        "\n",
        "Note that if you are using WSL on Windows, the part is going to be saved in your\n",
        "Ubuntu environment\n",
        "%%\n",
        "path = os.getcwd()\n",
        "filename = os.sep.join([path, \"plasma_block_test\"])\n",
        "save_as_STEP(plasma_block2, filename)"
      ]
    },
    {
      "cell_type": "markdown",
      "metadata": {},
      "source": [
        "You can check it was saved by typing: `explorer.exe .` in your ubuntu terminal, and\n",
        "navigating to the file path above.\n",
        "\n",
        "You can view the file in any CAD program, like FreeCAD..\n",
        "%%[markdown]\n",
        "OK, now: have some fun:\n",
        "\n",
        "## FREEFORM or CORED PLASMA\n",
        "\n",
        "Play around as you like, or:\n",
        "1.  Revolve the 2-D plasma profile to make a half-plasma\n",
        "2.  Take your previous torus shape (or make a new one) and hollow out the\n",
        "    plasma"
      ]
    }
  ],
  "metadata": {
    "anaconda-cloud": {},
    "kernelspec": {
      "display_name": "Python 3",
      "language": "python",
      "name": "python3"
    },
    "language_info": {
      "codemirror_mode": {
        "name": "ipython",
        "version": 3
      },
      "file_extension": ".py",
      "mimetype": "text/x-python",
      "name": "python",
      "nbconvert_exporter": "python",
      "pygments_lexer": "ipython3",
      "version": "3.10.2"
    }
  },
  "nbformat": 4,
  "nbformat_minor": 4
}
