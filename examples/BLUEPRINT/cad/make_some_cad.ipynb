{
  "cells": [
    {
      "cell_type": "code",
      "metadata": {},
      "source": [
        "from BLUEPRINT.geometry.loop import Loop\n",
        "from BLUEPRINT.geometry.shell import Shell"
      ],
      "outputs": [],
      "execution_count": null
    },
    {
      "cell_type": "markdown",
      "metadata": {},
      "source": [
        "# Make Some CAD\n",
        "\n",
        "A simple example that generates a cube and a shell and displays the CAD.\n",
        "\n",
        "First make a cube."
      ]
    },
    {
      "cell_type": "code",
      "metadata": {},
      "source": [
        "square = Loop(x=[2, 4, 4, 2, 2], z=[2, 2, 4, 4, 2])\n",
        "\n",
        "face = make_face(square)\n",
        "\n",
        "cube = extrude(face, vec=[0, 2, 0])"
      ],
      "outputs": [],
      "execution_count": null
    },
    {
      "cell_type": "markdown",
      "metadata": {},
      "source": [
        "Now make a shell and revolve it to make it 3D."
      ]
    },
    {
      "cell_type": "code",
      "metadata": {},
      "source": [
        "loop = Loop(\n",
        "    x=[1, 1, 2, 2, 3, 3, 4, 4, 5, 5, 6, 6, 5, 4, 3, 2, 1],\n",
        "    y=[7, 7, 8, 8, 9, 10, 8, 7, 6, 5, 4, 3, 1, 2, 3, 4, 7],\n",
        ")\n",
        "\n",
        "shell = Shell(loop, loop.offset(0.5))\n",
        "\n",
        "face = make_shell(shell)\n",
        "\n",
        "axis = make_axis([0, 0, 0], [0, 1, 0])\n",
        "\n",
        "revolution = revolve(face, axis, 30)"
      ],
      "outputs": [],
      "execution_count": null
    },
    {
      "cell_type": "markdown",
      "metadata": {},
      "source": [
        "Finally display the CAD.\n",
        "This will open in a pop-up window."
      ]
    },
    {
      "cell_type": "code",
      "metadata": {},
      "source": [
        "show_CAD(cube, revolution)"
      ],
      "outputs": [],
      "execution_count": null
    }
  ],
  "metadata": {
    "anaconda-cloud": {},
    "kernelspec": {
      "display_name": "Python 3",
      "language": "python",
      "name": "python3"
    },
    "language_info": {
      "codemirror_mode": {
        "name": "ipython",
        "version": 3
      },
      "file_extension": ".py",
      "mimetype": "text/x-python",
      "name": "python",
      "nbconvert_exporter": "python",
      "pygments_lexer": "ipython3",
      "version": "3.10.2"
    }
  },
  "nbformat": 4,
  "nbformat_minor": 4
}
