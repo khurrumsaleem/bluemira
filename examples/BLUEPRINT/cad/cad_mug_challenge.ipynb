{
  "cells": [
    {
      "cell_type": "code",
      "metadata": {},
      "source": [
        "import os\n",
        "\n",
        "from BLUEPRINT.cad.cadtools import (\n",
        "    boolean_cut,\n",
        "    boolean_fuse,\n",
        "    extrude,\n",
        "    make_axis,\n",
        "    make_circle,\n",
        "    revolve,\n",
        "    save_as_STEP,\n",
        "    show_CAD,\n",
        ")"
      ],
      "outputs": [],
      "execution_count": null
    },
    {
      "cell_type": "markdown",
      "metadata": {},
      "source": [
        "If you've completed the previous tutorial and played around a little making freeform\n",
        "shapes, consider this challenge: modelling a CAD mug.\n",
        "A basic mug with handle can be made in CAD using the same tools covered in the tutorial\n",
        ", namely:\n",
        "```\n",
        "make_circle()\n",
        "extrude()\n",
        "make_axis()\n",
        "revolve()\n",
        "booleon_fuse()\n",
        "boolean_cut()\n",
        "```\n",
        "In other words, a simple mug can be created by correctly building the same cylinders\n",
        "and tori from tokamak CAD. Try to make a mug in the box below using the CAD functions\n",
        "above.\n",
        "\n",
        "# MAKE A MUG"
      ]
    },
    {
      "cell_type": "code",
      "metadata": {},
      "source": [
        "# This line will create a 2D circular base for your mug.\n",
        "# You can use this as a starting point or delete the line to start from scratch.\n",
        "base = make_circle(centre=[0, 0, 0], direction=[0, 0, 1], radius=0.05)\n",
        "\n",
        "# Your code here.\n",
        "\n",
        "show_CAD(base)"
      ],
      "outputs": [],
      "execution_count": null
    },
    {
      "cell_type": "markdown",
      "metadata": {},
      "source": [
        "# WRITE A CAD FUNCTION\n",
        "\n",
        "Generally, it's good practice to functionise your code. That way, it's easy to create a\n",
        "similar object later by varying the function inputs, rather than writing out the same\n",
        "thing again. But what are the key parameters of a mug?\n",
        "\n",
        "Below is an example of function to create a CAD mug with parameters set by keyword\n",
        "arguements. For a circular mug, the radius of the base is the key parameter, along with\n",
        "height. The thickness of the mug is also set here as a fraction of radius and height.\n",
        "However, the mug handle is hard coded in shape relative to the mug radius and height.\n",
        "\n",
        "See if you can modify the code below to add parameters allowing customisation of the\n",
        "handle."
      ]
    },
    {
      "cell_type": "code",
      "metadata": {},
      "source": [
        "def CAD_mug(dimensions=(0.10, 0.10), thicknesses=(0.10, 0.10)):\n",
        "    \"\"\"\n",
        "    Plots a basic mug in CAD. Dimensions are the diameter and height of the mug in m.\n",
        "    Thicknesses is the width of the walls/base as a fraction of the mug diameter/height.\n",
        "    \"\"\"\n",
        "    # Set parameters.\n",
        "    diameter = dimensions[0]\n",
        "    radius = diameter / 2\n",
        "    height = dimensions[1]\n",
        "    wall_thickness = thicknesses[0] * diameter\n",
        "    base_thickness = thicknesses[1] * height\n",
        "\n",
        "    # Create mug vessel.\n",
        "    outer = make_circle(centre=[0, 0, 0], direction=[0, 0, 1], radius=radius)\n",
        "    outer = extrude(outer, vec=[0, 0, height])\n",
        "    inner = make_circle(\n",
        "        centre=[0, 0, base_thickness],\n",
        "        direction=[0, 0, 1],\n",
        "        radius=radius - wall_thickness,\n",
        "    )\n",
        "    inner = extrude(inner, vec=[0, 0, height - base_thickness])\n",
        "    vessel = boolean_cut(outer, inner)\n",
        "\n",
        "    # Create handle.\n",
        "    dist = 0.25 * height  # distance from base of mug to centre of lower handle joint\n",
        "    face = make_circle(\n",
        "        centre=[radius, 0, dist], direction=[1, 0, 0], radius=0.12 * radius\n",
        "    )\n",
        "    axis = make_axis([radius, 0, 0.5 * height], [0, -1, 0])\n",
        "    handle = revolve(face, axis, angle=180)\n",
        "\n",
        "    mug = boolean_fuse(vessel, handle)\n",
        "    return mug"
      ],
      "outputs": [],
      "execution_count": null
    },
    {
      "cell_type": "code",
      "metadata": {},
      "source": [
        "mug = CAD_mug(dimensions=(0.10, 0.11), thicknesses=(0.05, 0.10))\n",
        "show_CAD(mug)"
      ],
      "outputs": [],
      "execution_count": null
    },
    {
      "cell_type": "code",
      "metadata": {},
      "source": [
        "path = os.getcwd()\n",
        "filename = os.sep.join([path, \"mug_test\"])\n",
        "save_as_STEP(mug, filename)"
      ],
      "outputs": [],
      "execution_count": null
    }
  ],
  "metadata": {
    "anaconda-cloud": {},
    "kernelspec": {
      "display_name": "Python 3",
      "language": "python",
      "name": "python3"
    },
    "language_info": {
      "codemirror_mode": {
        "name": "ipython",
        "version": 3
      },
      "file_extension": ".py",
      "mimetype": "text/x-python",
      "name": "python",
      "nbconvert_exporter": "python",
      "pygments_lexer": "ipython3",
      "version": "3.10.2"
    }
  },
  "nbformat": 4,
  "nbformat_minor": 4
}
