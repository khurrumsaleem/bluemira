{
  "cells": [
    {
      "cell_type": "markdown",
      "metadata": {},
      "source": [
        "# First Wall Example"
      ]
    },
    {
      "cell_type": "code",
      "metadata": {},
      "source": [
        "import os\n",
        "\n",
        "import matplotlib.pyplot as plt\n",
        "import numpy as np\n",
        "\n",
        "from bluemira.base.file import get_bluemira_path\n",
        "from bluemira.display.auto_config import plot_defaults\n",
        "from bluemira.equilibria.equilibrium import Equilibrium\n",
        "from bluemira.equilibria.limiter import Limiter\n",
        "from BLUEPRINT.geometry.boolean import (\n",
        "    boolean_2d_difference,\n",
        "    boolean_2d_union,\n",
        "    convex_hull,\n",
        ")\n",
        "from BLUEPRINT.geometry.loop import Loop\n",
        "from BLUEPRINT.nova.firstwall import Paneller\n",
        "\n",
        "plot_defaults()"
      ],
      "outputs": [],
      "execution_count": null
    },
    {
      "cell_type": "markdown",
      "metadata": {},
      "source": [
        "Let's load some Equilibrium objects, so that we have something to work with"
      ]
    },
    {
      "cell_type": "code",
      "metadata": {},
      "source": [
        "read_path = get_bluemira_path(\"equilibria\", subfolder=\"data/bluemira\")\n",
        "eof_name = \"EU-DEMO_EOF.json\"\n",
        "sof_name = \"EU-DEMO_SOF.json\"\n",
        "\n",
        "sof_name = os.sep.join([read_path, sof_name])\n",
        "eof_name = os.sep.join([read_path, eof_name])\n",
        "\n",
        "sof = Equilibrium.from_eqdsk(sof_name)\n",
        "eof = Equilibrium.from_eqdsk(eof_name)"
      ],
      "outputs": [],
      "execution_count": null
    },
    {
      "cell_type": "markdown",
      "metadata": {},
      "source": [
        "The basic idea here is to ignore the heat fluxes due to particles and\n",
        "radiation when designing the first wall (for now), and assume that the particle\n",
        "heat fluxes will dominate. The particles will predominantly follow magnetic\n",
        "field lines, so we can use these as an ersatz for where the heat fluxes\n",
        "will be highest.\n",
        "\n",
        "It's important to remember the plasma will move around to some extent, and\n",
        "without knowing too much about this we can add some geometric criteria to the\n",
        "problem, too.\n",
        "\n",
        "We then draw a preliminary first wall shape based on some geometry and magnetic\n",
        "criteria:\n",
        "\n",
        "*  some geometrical offset to the last closed flux surface (LCFS)\n",
        "*  some normalised psi offset to the LCFS\n",
        "*  apply the above to the start and end of flat-top equilibria\n",
        "\n",
        "\n",
        "We're going to step through some of these steps now, to see what this looks\n",
        "like in practice.\n",
        "\n",
        "Let's define some values:"
      ]
    },
    {
      "cell_type": "code",
      "metadata": {},
      "source": [
        "dx = 0.125  # [m] Geometrical offset to LCFS\n",
        "psi_n = 1.06  # [-] Normalised psi of the desired boundary flux surface"
      ],
      "outputs": [],
      "execution_count": null
    },
    {
      "cell_type": "markdown",
      "metadata": {},
      "source": [
        "Now let's extract some geometry from the Equilibrium objects"
      ]
    },
    {
      "cell_type": "code",
      "metadata": {},
      "source": [
        "geometry_offset_loops = []\n",
        "flux_offsets_loops = []\n",
        "\n",
        "for equilibrium in [sof, eof]:\n",
        "    # Get the geometry of the LCFS\n",
        "    lcfs = equilibrium.get_LCFS()\n",
        "    dx_loop = lcfs.offset(dx)\n",
        "    geometry_offset_loops.append(dx_loop)\n",
        "    # Get a flux offset loop\n",
        "    psi_n_loop = equilibrium.get_flux_surface(psi_n)\n",
        "    flux_offsets_loops.append(psi_n_loop)"
      ],
      "outputs": [],
      "execution_count": null
    },
    {
      "cell_type": "markdown",
      "metadata": {},
      "source": [
        "Let's have a look at these"
      ]
    },
    {
      "cell_type": "code",
      "metadata": {},
      "source": [
        "f, ax = plt.subplots()\n",
        "\n",
        "for loop in geometry_offset_loops:\n",
        "    loop.plot(ax, fill=False, edgecolor=\"b\")\n",
        "\n",
        "for loop in flux_offsets_loops:\n",
        "    loop.plot(ax, fill=False, edgecolor=\"r\")"
      ],
      "outputs": [],
      "execution_count": null
    },
    {
      "cell_type": "markdown",
      "metadata": {},
      "source": [
        "We're going to ignore the divertor region for this exercise, as this should\n",
        "be treated separately. Let's chop all our geometries so that we ignore\n",
        "anything below the X-point\n",
        "\n",
        "Let's get the active X-points of the equilibria:\n",
        "\n",
        "*  first retrieve all O-points and X-points\n",
        "*  pick the first X-point (active, \"strongest\")"
      ]
    },
    {
      "cell_type": "code",
      "metadata": {},
      "source": [
        "sof_opoint, sof_xpoints = sof.get_OX_points()\n",
        "eof_opoint, eof_xpoints = eof.get_OX_points()\n",
        "\n",
        "sof_xpoint = sof_xpoints[0]\n",
        "eof_xpoint = eof_xpoints[0]"
      ],
      "outputs": [],
      "execution_count": null
    },
    {
      "cell_type": "markdown",
      "metadata": {},
      "source": [
        "Now get the lowest point of the X-point"
      ]
    },
    {
      "cell_type": "code",
      "metadata": {},
      "source": [
        "z_xpoint = min(sof_xpoint.z, eof_xpoint.z)"
      ],
      "outputs": [],
      "execution_count": null
    },
    {
      "cell_type": "markdown",
      "metadata": {},
      "source": [
        "And trim all the loops accordingly"
      ]
    },
    {
      "cell_type": "code",
      "metadata": {},
      "source": [
        "loops = geometry_offset_loops + flux_offsets_loops\n",
        "clipped_loops = []\n",
        "for loop in loops:\n",
        "    clip = np.where(loop.z > z_xpoint)\n",
        "    new_loop = Loop(loop.x[clip], z=loop.z[clip])\n",
        "    clipped_loops.append(new_loop)"
      ],
      "outputs": [],
      "execution_count": null
    },
    {
      "cell_type": "markdown",
      "metadata": {},
      "source": [
        "Let's have a look at these"
      ]
    },
    {
      "cell_type": "code",
      "metadata": {},
      "source": [
        "f, ax = plt.subplots()\n",
        "\n",
        "for loop in clipped_loops:\n",
        "    loop.plot(ax, fill=False, edgecolor=\"b\")"
      ],
      "outputs": [],
      "execution_count": null
    },
    {
      "cell_type": "markdown",
      "metadata": {},
      "source": [
        "Now let's imagine our first wall is not allowed inside any of these areas.\n",
        "There are two ways of going about things here:\n",
        "\n",
        "*  Boolean union\n",
        "*  Convex hull\n",
        "\n",
        "\n",
        "Let's do both and see what the difference is.\n",
        "\n",
        "## Boolean union"
      ]
    },
    {
      "cell_type": "code",
      "metadata": {},
      "source": [
        "union = clipped_loops[0]\n",
        "for loop in clipped_loops[1:]:\n",
        "    loop.close()  # Need to close the open Loops for this operation\n",
        "    union = boolean_2d_union(union, loop)[0]"
      ],
      "outputs": [],
      "execution_count": null
    },
    {
      "cell_type": "markdown",
      "metadata": {},
      "source": [
        "## Convex hull"
      ]
    },
    {
      "cell_type": "code",
      "metadata": {},
      "source": [
        "hull = convex_hull(clipped_loops)"
      ],
      "outputs": [],
      "execution_count": null
    },
    {
      "cell_type": "code",
      "metadata": {},
      "source": [
        "f, (ax1, ax2) = plt.subplots(1, 2)\n",
        "union.plot(ax1, facecolor=\"r\")\n",
        "hull.plot(ax2, facecolor=\"r\")\n",
        "for loop in clipped_loops:\n",
        "    loop.plot(ax1, fill=False, edgecolor=\"b\")\n",
        "    loop.plot(ax2, fill=False, edgecolor=\"b\")\n",
        "\n",
        "ax1.set_title(\"Boolean union\")\n",
        "ax2.set_title(\"Convex hull\")"
      ],
      "outputs": [],
      "execution_count": null
    },
    {
      "cell_type": "markdown",
      "metadata": {},
      "source": [
        "So they are pretty similar, but the subtleties are important. A convex hull\n",
        "in 2-D can be thought of an elastic band wrapping itself around the points.\n",
        "This means no re-entrant profiles.\n",
        "A boolean union will give a smaller area, and include re-entrant angles.\n",
        "\n",
        "For this example, we'll stick with the convex hull approach.\n",
        "\n",
        "Let's make an open Loop, assuming that the divertor will be managed elsewhere.\n",
        "There are lots of ways of doing this, the below is one way:"
      ]
    },
    {
      "cell_type": "code",
      "metadata": {},
      "source": [
        "hull.interpolate(200)\n",
        "z_min = min(hull.z)\n",
        "div_box = Loop(x=[0, 20, 20, 0, 0], z=[-10, -10, z_min + 0.1, z_min + 0.1, -10])\n",
        "\n",
        "count = 0\n",
        "for i, point in enumerate(hull.d2.T):\n",
        "    if div_box.point_inside(point):\n",
        "        if count > 2:\n",
        "            hull.reorder(i, 0)\n",
        "            hull.open_()\n",
        "            break\n",
        "        count += 1\n",
        "\n",
        "hull = boolean_2d_difference(hull, div_box)[0]\n",
        "\n",
        "hull.plot()"
      ],
      "outputs": [],
      "execution_count": null
    },
    {
      "cell_type": "markdown",
      "metadata": {},
      "source": [
        "Now, flux conformal walls don't really make sense, because the plasma shape\n",
        "can never really be constant. Having very curvy walls is usually quite\n",
        "expensive, too. So we tend to panel the walls, to make modules that are\n",
        "cheaper to manufacture.\n",
        "\n",
        "We don't want:\n",
        "*  the modules to be too sharply angled to each other (so we'll set a maximum\n",
        "   turning angle: angle)\n",
        "*  the modules to be too small (so we'll limit them with: dx_min)\n",
        "*  the modules to be too big (so we'll limit them with: dx_max)"
      ]
    },
    {
      "cell_type": "code",
      "metadata": {},
      "source": [
        "paneller = Paneller(hull.x, hull.z, angle=20, dx_min=0.5, dx_max=2.5)\n",
        "paneller.optimise()\n",
        "\n",
        "x, z = paneller.d2\n",
        "fw_loop = Loop(x=x, z=z)"
      ],
      "outputs": [],
      "execution_count": null
    },
    {
      "cell_type": "markdown",
      "metadata": {},
      "source": [
        "So let's look at the final result"
      ]
    },
    {
      "cell_type": "code",
      "metadata": {},
      "source": [
        "# Add an arbirtary divertor shape\n",
        "x_div = [6.5, 7, 7.5, 8, 8.5, 9]\n",
        "z_div = [-6.5, -6.6, -6, -6, -6.6, -6.5]\n",
        "x = np.append(fw_loop.x, x_div)\n",
        "z = np.append(fw_loop.z, z_div)\n",
        "fw_loop = Loop(x=x, z=z)\n",
        "fw_loop.close()\n",
        "\n",
        "\n",
        "eof.limiter = Limiter([(x, z) for x, z in zip(fw_loop.x, fw_loop.z)])\n",
        "\n",
        "f, ax = plt.subplots()\n",
        "\n",
        "eof.plot(ax)\n",
        "sof.plot(ax)"
      ],
      "outputs": [],
      "execution_count": null
    }
  ],
  "metadata": {
    "anaconda-cloud": {},
    "kernelspec": {
      "display_name": "Python 3",
      "language": "python",
      "name": "python3"
    },
    "language_info": {
      "codemirror_mode": {
        "name": "ipython",
        "version": 3
      },
      "file_extension": ".py",
      "mimetype": "text/x-python",
      "name": "python",
      "nbconvert_exporter": "python",
      "pygments_lexer": "ipython3",
      "version": "3.8.12"
    }
  },
  "nbformat": 4,
  "nbformat_minor": 4
}
