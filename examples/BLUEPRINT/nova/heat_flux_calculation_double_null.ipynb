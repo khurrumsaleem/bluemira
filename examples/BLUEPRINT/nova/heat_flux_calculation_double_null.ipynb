{
  "cells": [
    {
      "cell_type": "markdown",
      "metadata": {},
      "source": [
        "Heat Flux Calculation and first wall shaping"
      ]
    },
    {
      "cell_type": "code",
      "metadata": {},
      "source": [
        "import os\n",
        "from time import time\n",
        "\n",
        "import matplotlib.pyplot as plt\n",
        "\n",
        "from bluemira.base.file import get_bluemira_path\n",
        "from bluemira.equilibria.equilibrium import Equilibrium\n",
        "from BLUEPRINT.geometry.loop import Loop\n",
        "from BLUEPRINT.systems.firstwall import FirstWallDN"
      ],
      "outputs": [],
      "execution_count": null
    },
    {
      "cell_type": "markdown",
      "metadata": {},
      "source": [
        "Loading an equilibrium file"
      ]
    },
    {
      "cell_type": "code",
      "metadata": {},
      "source": [
        "read_path = get_bluemira_path(\"bluemira/equilibria/test_data\", subfolder=\"tests\")\n",
        "eq_name = \"DN-DEMO_eqref.json\"\n",
        "eq_name = os.sep.join([read_path, eq_name])\n",
        "eq = Equilibrium.from_eqdsk(eq_name, load_large_file=True)\n",
        "x_box = [4, 15, 15, 4, 4]\n",
        "z_box = [-11, -11, 11, 11, -11]\n",
        "vv_box = Loop(x=x_box, z=z_box)"
      ],
      "outputs": [],
      "execution_count": null
    },
    {
      "cell_type": "markdown",
      "metadata": {},
      "source": [
        "Calling the First Wall Class which will run\n",
        "the whole first wall optimisation being everything\n",
        "defined in the relevant __init__ function.\n",
        "Some basic inputs need to be specified.\n",
        "Particularly, if the user is dealing with a configuration\n",
        "different than STEP DN, this needs to be specified.\n",
        "At the moment, options alternative to STEP DN are\n",
        "\"DEMO_DN\" and \"SN\"."
      ]
    },
    {
      "cell_type": "code",
      "metadata": {},
      "source": [
        "t = time()\n",
        "fw = FirstWallDN(\n",
        "    FirstWallDN.default_params,\n",
        "    {\n",
        "        \"equilibrium\": eq,\n",
        "        \"vv_inner\": vv_box,\n",
        "        \"SN\": False,\n",
        "        \"DEMO_like_divertor\": True,\n",
        "        \"div_vertical_outer_target\": True,\n",
        "        \"div_vertical_inner_target\": False,\n",
        "        \"dx_mp\": 0.001,\n",
        "        \"FW_optimisation\": True,\n",
        "    },\n",
        ")\n",
        "\n",
        "fw.build()\n",
        "print(f\"{time()-t:.2f} seconds\")\n",
        "# %%[markdown]\n",
        "# The funtion \"plot_hf\" gives a summary plot of\n",
        "# optimised wall, heat flux and flux surfaces."
      ],
      "outputs": [],
      "execution_count": null
    },
    {
      "cell_type": "code",
      "metadata": {},
      "source": [
        "fig, ax = plt.subplots()\n",
        "fw.plot_hf()"
      ],
      "outputs": [],
      "execution_count": null
    }
  ],
  "metadata": {
    "anaconda-cloud": {},
    "kernelspec": {
      "display_name": "Python 3",
      "language": "python",
      "name": "python3"
    },
    "language_info": {
      "codemirror_mode": {
        "name": "ipython",
        "version": 3
      },
      "file_extension": ".py",
      "mimetype": "text/x-python",
      "name": "python",
      "nbconvert_exporter": "python",
      "pygments_lexer": "ipython3",
      "version": "3.10.2"
    }
  },
  "nbformat": 4,
  "nbformat_minor": 4
}
