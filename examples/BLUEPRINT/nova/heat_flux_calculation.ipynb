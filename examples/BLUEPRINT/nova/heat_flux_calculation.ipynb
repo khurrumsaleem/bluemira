{
  "cells": [
    {
      "cell_type": "markdown",
      "metadata": {},
      "source": [
        "Loading an equilibrium file and a first wall profile\n",
        "\n",
        "read_path = get_bluemira_path(\"equilibria\", subfolder=\"data\")\n",
        "eq_name = \"EU-DEMO_EOF.json\"\n",
        "eq_name = os.sep.join([read_path, eq_name])\n",
        "eq = Equilibrium.from_eqdsk(eq_name, load_large_file=True)\n",
        "x_box = [4, 15, 15, 4, 4]\n",
        "z_box = [-11, -11, 11, 11, -11]\n",
        "vv_box = Loop(x=x_box, z=z_box)"
      ]
    },
    {
      "cell_type": "markdown",
      "metadata": {},
      "source": [
        "Calling the First Wall Class which will run\n",
        "the whole first wall optimisation being everything\n",
        "defined in the relevant __init__ function.\n",
        "Some basic inputs need to be specified.\n",
        "Particularly, if the user is dealing with a configuration\n",
        "different than STEP DN, this needs to be specified.\n",
        "At the moment, options alternative to STEP DN are\n",
        "\"DEMO_DN\" and \"SN\"."
      ]
    },
    {
      "cell_type": "code",
      "metadata": {},
      "source": [
        "t = time()\n",
        "fw = FirstWallSN(\n",
        "    FirstWallSN.default_params,\n",
        "    {\n",
        "        \"equilibrium\": eq,\n",
        "        \"vv_inner\": vv_box,\n",
        "        \"SN\": True,\n",
        "        \"DEMO_like_divertor\": True,\n",
        "        \"div_vertical_outer_target\": True,\n",
        "        \"div_vertical_inner_target\": False,\n",
        "        # Can't quite replicate the extremely spaced values from the above... but it's\n",
        "        # the same for all intents and purposes. I couldn't find much on the spacing for\n",
        "        # the single null case, except for step_size = 0.02 in line 2340 of firstwall.py\n",
        "        # This 0.02 is then doubled in line 2352, but if I set 0.04 I don't get the same\n",
        "        # This is I think because of the offset from the LCFS which is taken for reasons\n",
        "        # I don't understand, so I increase from 0.04 a bit to get roughly the same\n",
        "        # number of flux surfaces.\n",
        "        # NOTE: Such low resolutions give fairly meaningless results...\n",
        "        \"dx_mp\": 0.05,\n",
        "    },\n",
        ")\n",
        "fw.build()\n",
        "print(f\"{time()-t:.2f} seconds\")"
      ],
      "outputs": [],
      "execution_count": null
    },
    {
      "cell_type": "markdown",
      "metadata": {},
      "source": [
        "The funtion \"plot_hf\" gives a summary plot of\n",
        "optimised wall, heat flux and flux surfaces."
      ]
    },
    {
      "cell_type": "code",
      "metadata": {},
      "source": [
        "fig, ax = plt.subplots()\n",
        "fw.plot_hf()"
      ],
      "outputs": [],
      "execution_count": null
    }
  ],
  "metadata": {
    "anaconda-cloud": {},
    "kernelspec": {
      "display_name": "Python 3",
      "language": "python",
      "name": "python3"
    },
    "language_info": {
      "codemirror_mode": {
        "name": "ipython",
        "version": 3
      },
      "file_extension": ".py",
      "mimetype": "text/x-python",
      "name": "python",
      "nbconvert_exporter": "python",
      "pygments_lexer": "ipython3",
      "version": "3.10.2"
    }
  },
  "nbformat": 4,
  "nbformat_minor": 4
}
