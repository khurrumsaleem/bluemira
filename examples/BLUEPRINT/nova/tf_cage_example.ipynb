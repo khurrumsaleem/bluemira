{
  "cells": [
    {
      "cell_type": "code",
      "metadata": {},
      "source": [
        "from IPython import get_ipython\n",
        "\n",
        "from bluemira.base.config import SingleNull\n",
        "from bluemira.base.file import BM_ROOT, get_bluemira_path\n",
        "from bluemira.display.auto_config import plot_defaults\n",
        "from bluemira.materials import MaterialCache\n",
        "from BLUEPRINT.nova.structuralsolver import StructuralSolver\n",
        "from BLUEPRINT.reactor import Reactor\n",
        "\n",
        "try:\n",
        "    get_ipython().run_line_magic(\"matplotlib\", \"qt\")\n",
        "except AttributeError:\n",
        "    pass\n",
        "\n",
        "plot_defaults()"
      ],
      "outputs": [],
      "execution_count": null
    },
    {
      "cell_type": "markdown",
      "metadata": {},
      "source": [
        "\n",
        "This is a worked example for how to use analyse the coil cage with a simple\n",
        "beam FE model.\n",
        "\n",
        "The first thing we'll do for this is build a full reactor object. Like that we\n",
        "have access to all the information and geometry.\n",
        "\n",
        "We start by sub-classing the Reactor object, and setting some configuration\n",
        "parameters."
      ]
    },
    {
      "cell_type": "code",
      "metadata": {},
      "source": [
        "config = {\n",
        "    \"Name\": \"Coil_Structures_Example\",\n",
        "    \"P_el_net\": 500,\n",
        "    \"tau_flattop\": 3600,  # TODO\n",
        "    \"plasma_type\": \"SN\",\n",
        "    \"reactor_type\": \"Normal\",\n",
        "    \"CS_material\": \"Nb3Sn\",\n",
        "    \"PF_material\": \"NbTi\",\n",
        "    \"A\": 3.1,\n",
        "    \"n_CS\": 5,\n",
        "    \"n_PF\": 6,\n",
        "    \"n_TF\": 16,\n",
        "}\n",
        "\n",
        "build_config = {\n",
        "    \"generated_data_root\": f\"{BM_ROOT}/generated_data/BLUEPRINT\",\n",
        "    \"plot_flag\": False,\n",
        "    \"process_mode\": \"mock\",\n",
        "    \"plasma_mode\": \"run\",\n",
        "    \"tf_mode\": \"run\",\n",
        "    # TF coil config\n",
        "    \"TF_type\": \"S\",\n",
        "    \"TF_objective\": \"L\",\n",
        "    \"GS_type\": \"ITER\",\n",
        "    # FW and VV config\n",
        "    \"VV_parameterisation\": \"S\",\n",
        "    \"FW_parameterisation\": \"S\",\n",
        "    \"BB_segmentation\": \"radial\",\n",
        "    \"lifecycle_mode\": \"life\",\n",
        "    \"HCD_method\": \"power\",\n",
        "}\n",
        "\n",
        "build_tweaks = {\n",
        "    # TF coil optimisation tweakers (n ripple filaments)\n",
        "    \"nr\": 1,\n",
        "    \"ny\": 1,\n",
        "    \"nrippoints\": 20,  # Number of points to check edge ripple on\n",
        "}\n",
        "\n",
        "\n",
        "class SingleNullReactor(Reactor):\n",
        "    \"\"\"\n",
        "    A single-null fusion power reactor class.\n",
        "    \"\"\"\n",
        "\n",
        "    config: dict\n",
        "    build_config: dict\n",
        "    build_tweaks: dict\n",
        "    default_params = SingleNull().to_records()"
      ],
      "outputs": [],
      "execution_count": null
    },
    {
      "cell_type": "markdown",
      "metadata": {},
      "source": [
        "We'll need to know some information about materials, so let's build a cache of known\n",
        "material properties"
      ]
    },
    {
      "cell_type": "code",
      "metadata": {},
      "source": [
        "material_data_path = get_bluemira_path(\"materials\", subfolder=\"data\")\n",
        "material_cache = MaterialCache()\n",
        "material_cache.load_from_file(os.sep.join([material_data_path, \"materials.json\"]))\n",
        "material_cache.load_from_file(os.sep.join([material_data_path, \"mixtures.json\"]))"
      ],
      "outputs": [],
      "execution_count": null
    },
    {
      "cell_type": "markdown",
      "metadata": {},
      "source": [
        "\n",
        "Now we build the entire Reactor object:"
      ]
    },
    {
      "cell_type": "code",
      "metadata": {},
      "source": [
        "R = SingleNullReactor(config, build_config, build_tweaks)\n",
        "R.build()"
      ],
      "outputs": [],
      "execution_count": null
    },
    {
      "cell_type": "markdown",
      "metadata": {},
      "source": [
        "When BLUEPRINT carries out the full Reactor design procedure, it designs the\n",
        "coil cage in a preliminary fashion with the CoilArchitect object.\n",
        "\n",
        "This object is responsible for the coil structures: connections between PF and TF\n",
        "coils, and the inter-TF-coil structures and cold mass gravity supports.\n",
        "\n",
        "This object can be viewed as shown below (we combine with a plot of the TF coils,\n",
        "for clarity)"
      ]
    },
    {
      "cell_type": "code",
      "metadata": {},
      "source": [
        "f, ax = plt.subplots()\n",
        "R.TF.plot_xz(ax)\n",
        "R.ATEC.plot_xz(ax)"
      ],
      "outputs": [],
      "execution_count": null
    },
    {
      "cell_type": "markdown",
      "metadata": {},
      "source": [
        "\n",
        "The inter-coil structures are optimised by:\n",
        " * Placing the maximum number of OIS structures in between the ports, if the\n",
        "   size is greater than some value (e.g. > 1 m)\n",
        " * Maximising the length of straight OIS (fixed thickness)\n",
        " * Within the geometric constraints of the TF coil case"
      ]
    },
    {
      "cell_type": "markdown",
      "metadata": {},
      "source": [
        "\n",
        "Next we're going to use an object which sets up and runs the FE problem\n",
        " * The material properties are set\n",
        " * The geometry is set\n",
        " * The element cross-sectional properties are set\n",
        " * Model boundary conditions are set\n",
        " * Cyclic symmetry is used\n",
        "\n",
        "We need to give it the load cases for the reference equilibria: Breakdown,\n",
        "start-of-flattop (SOF), and end-of-flattop (EOF).\n",
        "\n",
        "The loads added are:\n",
        " * Bursting forces\n",
        " * Toppling forces\n",
        " * PF and CS vertical loads\n",
        " * Gravity"
      ]
    },
    {
      "cell_type": "code",
      "metadata": {},
      "source": [
        "# First, we need to gather all of the Equilibrium objects for which we want to calculate\n",
        "# the TF cage response.\n",
        "\n",
        "all_equilibria = [snapshot.eq for snapshot in R.EQ.snapshots.values()]\n",
        "SS = StructuralSolver(R.ATEC, R.TF.cage, all_equilibria, material_cache)\n",
        "\n",
        "# You can take a look at the FE model (without loads)\n",
        "SS.model.plot()"
      ],
      "outputs": [],
      "execution_count": null
    },
    {
      "cell_type": "markdown",
      "metadata": {},
      "source": [
        "Now we solve the FE problem for 3 different load cases\n",
        "You can look at them individually like this:"
      ]
    },
    {
      "cell_type": "code",
      "metadata": {},
      "source": [
        "results = SS.solve()\n",
        "\n",
        "# Let's look at the result for the end of flat-top:\n",
        "results[2].plot(deflection=True)"
      ],
      "outputs": [],
      "execution_count": null
    },
    {
      "cell_type": "code",
      "metadata": {},
      "source": [],
      "outputs": [],
      "execution_count": null
    }
  ],
  "metadata": {
    "anaconda-cloud": {},
    "kernelspec": {
      "display_name": "Python 3",
      "language": "python",
      "name": "python3"
    },
    "language_info": {
      "codemirror_mode": {
        "name": "ipython",
        "version": 3
      },
      "file_extension": ".py",
      "mimetype": "text/x-python",
      "name": "python",
      "nbconvert_exporter": "python",
      "pygments_lexer": "ipython3",
      "version": "3.10.2"
    }
  },
  "nbformat": 4,
  "nbformat_minor": 4
}
