{
  "cells": [
    {
      "cell_type": "markdown",
      "metadata": {},
      "source": [
        "# How To Design TF Coils"
      ]
    },
    {
      "cell_type": "code",
      "metadata": {},
      "source": [
        "import os\n",
        "\n",
        "import matplotlib.pyplot as plt\n",
        "\n",
        "from bluemira.base.file import make_bluemira_path\n",
        "from bluemira.base.look_and_feel import bluemira_print\n",
        "from bluemira.base.parameter import ParameterFrame\n",
        "from BLUEPRINT.geometry.loop import Loop\n",
        "from BLUEPRINT.systems.baseclass import ReactorSystem\n",
        "from BLUEPRINT.systems.tfcoils import ToroidalFieldCoils"
      ],
      "outputs": [],
      "execution_count": null
    },
    {
      "cell_type": "markdown",
      "metadata": {},
      "source": [
        "## INSTANTIATE A TF COIL OBJECT\n",
        "\n",
        "First, let's initialise a TF coil object. In order to do this, we need two\n",
        "things:\n",
        "*  ParameterFrame: (contains all of the reactor parameters we need)\n",
        "*  dictionary:     (which contains some specific info for the TF coil, and\n",
        "                    some more complicated objects)\n",
        "\n",
        "\n",
        "Here is the input for the ParameterFrame for a TF coil object\n",
        "It is populated with defaults"
      ]
    },
    {
      "cell_type": "code",
      "metadata": {},
      "source": [
        "# fmt: off\n",
        "params = [\n",
        "    [\"R_0\", \"Major radius\", 9, \"m\", None, \"Input\"],\n",
        "    [\"B_0\", \"Toroidal field at R_0\", 6, \"T\", None, \"Input\"],\n",
        "    [\"n_TF\", \"Number of TF coils\", 16, \"dimensionless\", None, \"Input\"],\n",
        "    [\"rho_j\", \"TF coil WP current density\", 18.25, \"MA/m^2\", None, \"Input\"],\n",
        "    [\"tk_tf_nose\", \"TF coil inboard nose thickness\", 0.6, \"m\", None, \"Input\"],\n",
        "    [\"tk_tf_wp\", \"TF coil winding pack thickness\", 0.5, \"m\", None, \"PROCESS\"],\n",
        "    [\"tk_tf_front_ib\", \"TF coil inboard steel front plasma-facing\", 0.04, \"m\", None, \"Input\"],\n",
        "    [\"tk_tf_ins\", \"TF coil ground insulation thickness\", 0.08, \"m\", None, \"Input\"],\n",
        "    [\"tk_tf_insgap\", \"TF coil WP insertion gap\", 0.1, \"m\", \"Backfilled with epoxy resin (impregnation)\", \"Input\"],\n",
        "    [\"r_tf_in\", \"Inboard radius of the TF coil inboard leg\", 3.2, \"m\", None, \"PROCESS\"],\n",
        "    [\"ripple_limit\", \"Ripple limit constraint\", 0.6, \"%\", None, \"Input\"],\n",
        "]\n",
        "# fmt: on\n",
        "\n",
        "parameters = ParameterFrame(params)"
      ],
      "outputs": [],
      "execution_count": null
    },
    {
      "cell_type": "markdown",
      "metadata": {},
      "source": [
        "Now we need to build the dictionary, which contains some optimiser information\n",
        "and some shapes we need to define the optimisation problem.\n",
        "\n",
        "Geometry is stored in Loop objects (collections of 2/3-D coordinates, and\n",
        "associated methods).\n",
        "Load a separatrix shape, along which we will calculate the toroidal field\n",
        "ripple."
      ]
    },
    {
      "cell_type": "code",
      "metadata": {},
      "source": [
        "read_path = make_bluemira_path(\"Geometry\", subfolder=\"data/BLUEPRINT\")\n",
        "write_path = make_bluemira_path(\"Geometry\", subfolder=\"generated_data/BLUEPRINT\")\n",
        "name = os.sep.join([read_path, \"LCFS.json\"])\n",
        "lcfs = Loop.from_file(name)"
      ],
      "outputs": [],
      "execution_count": null
    },
    {
      "cell_type": "markdown",
      "metadata": {},
      "source": [
        "Load a keep-out zone for the TF coil shape"
      ]
    },
    {
      "cell_type": "code",
      "metadata": {},
      "source": [
        "name = os.sep.join([read_path, \"KOZ.json\"])\n",
        "ko_zone = Loop.from_file(name)"
      ],
      "outputs": [],
      "execution_count": null
    },
    {
      "cell_type": "markdown",
      "metadata": {},
      "source": [
        "Specify some inputs to the TF shape (that are not physical parameters)\n",
        "We also put the Loops in this dictionary."
      ]
    },
    {
      "cell_type": "code",
      "metadata": {},
      "source": [
        "to_tf = {\n",
        "    \"name\": \"Example_PolySpline_TF\",\n",
        "    \"plasma\": lcfs,\n",
        "    \"koz_loop\": ko_zone,\n",
        "    \"shape_type\": \"S\",  # This is the shape parameterisation to use\n",
        "    \"obj\": \"L\",  # This is the optimisation objective: minimise length\n",
        "    \"ny\": 1,  # This is the number of current filaments to use in y\n",
        "    \"nr\": 1,  # This is the number of current filaments to use in x\n",
        "    \"nrip\": 10,  # This is the number of points on the separatrix to calculate ripple for\n",
        "    \"read_folder\": read_path,  # This is the path that the shape will be read from\n",
        "    \"write_folder\": write_path,  # This is the path that the shape will be written to\n",
        "}"
      ],
      "outputs": [],
      "execution_count": null
    },
    {
      "cell_type": "markdown",
      "metadata": {},
      "source": [
        "So now we have everything we need to instantiate the TF coil object:"
      ]
    },
    {
      "cell_type": "code",
      "metadata": {},
      "source": [
        "tf1 = ToroidalFieldCoils(parameters, to_tf)"
      ],
      "outputs": [],
      "execution_count": null
    },
    {
      "cell_type": "markdown",
      "metadata": {},
      "source": [
        "In BLUEPRINT, Reactor objects and# sub-system objects all inherit from a base\n",
        "class: ReactorSystem\n",
        "Let's take a moment to introduce ourselves to the ReactorSystem.. It gives a\n",
        "lot of the flavour to the different sub-systems, and makes them all behave in\n",
        "similar ways.\n",
        "*  Methods\n",
        "   1. plotting (plot_xy and plot_xz)\n",
        "   2. CAD (build_CAD and show_CAD)\n",
        "*  Attributes\n",
        "   *  'params': the ParameterFrame of the ReactorSystem\n",
        "   *  'geom': the dictionary of geometry objects for the ReactorSystem\n",
        "   *  'requirements': the dictionary of requirements (I don't really use this)"
      ]
    },
    {
      "cell_type": "code",
      "metadata": {},
      "source": [
        "query_subclass = issubclass(ToroidalFieldCoils, ReactorSystem)\n",
        "query_instance = isinstance(tf1, ReactorSystem)\n",
        "print(f\"are ToroidalFieldCoils a ReactorSystem?: {query_subclass}\")\n",
        "print(f\"are my TF coils an instance of ReactorSystem?: {query_instance}\")"
      ],
      "outputs": [],
      "execution_count": null
    },
    {
      "cell_type": "markdown",
      "metadata": {},
      "source": [
        "Let's take a look at the ParameterFrame for the TF coils we instantiated."
      ]
    },
    {
      "cell_type": "code",
      "metadata": {},
      "source": [
        "print(tf1.params)"
      ],
      "outputs": [],
      "execution_count": null
    },
    {
      "cell_type": "markdown",
      "metadata": {},
      "source": [
        "Notice that there are a few more parameters in there that we didn't specify..\n",
        "\n",
        "Some of them were calculated upon instantiation, others.. well.\n",
        "There are lots of parameters required for designing ReactorSystems. Often,\n",
        "defaults are used - and these defaults are often \"good guesses\" or simply\n",
        "engineering judgement for things we don't quite know about yet.\n",
        "\n",
        "Let's plot our TF coils and we what we have so far and look at the TF coil\n",
        "itself (in the x-z plane)"
      ]
    },
    {
      "cell_type": "code",
      "metadata": {},
      "source": [
        "f1, ax1 = plt.subplots()\n",
        "\n",
        "lcfs.plot(ax1, edgecolor=\"r\", fill=False)\n",
        "ko_zone.plot(ax1, edgecolor=\"b\", fill=False)\n",
        "\n",
        "tf1.plot_xz(ax=ax1)"
      ],
      "outputs": [],
      "execution_count": null
    },
    {
      "cell_type": "markdown",
      "metadata": {},
      "source": [
        "And in the x-y plane (at the midplane)"
      ]
    },
    {
      "cell_type": "code",
      "metadata": {},
      "source": [
        "f, ax = plt.subplots()\n",
        "tf1.plot_xy(ax=ax)"
      ],
      "outputs": [],
      "execution_count": null
    },
    {
      "cell_type": "markdown",
      "metadata": {},
      "source": [
        "Looks weird, but that's because we haven't really designed the TF coil yet...\n",
        "The \"default\" shape is actually just the underlying shape parameterisation\n",
        "populated with some dummy variables. We need to find the optimum shape.\n",
        "\n",
        "We can see that the TF coil is also encroaching upon its keep-out zone..\n",
        "\n",
        "What about the ripple?"
      ]
    },
    {
      "cell_type": "code",
      "metadata": {},
      "source": [
        "f, ax2 = plt.subplots()\n",
        "tf1.plot_ripple(ax=ax2)"
      ],
      "outputs": [],
      "execution_count": null
    },
    {
      "cell_type": "markdown",
      "metadata": {},
      "source": [
        "The maximum TF ripple is lower than we specified (0.6 %)\n",
        "\n",
        "We can also look at the CAD.."
      ]
    },
    {
      "cell_type": "code",
      "metadata": {},
      "source": [
        "tf1.show_CAD()"
      ],
      "outputs": [],
      "execution_count": null
    },
    {
      "cell_type": "markdown",
      "metadata": {},
      "source": [
        "Close the pop-up window to continue!"
      ]
    },
    {
      "cell_type": "markdown",
      "metadata": {},
      "source": [
        "## OPTIMISE A TF COIL OBJECT USING A SPLINE PARAMETERISATION\n",
        "\n",
        "Second, let's design our TF coil object. In order to do this, we need a few\n",
        "things (we have already done most of these when we instantiated our coil)\n",
        "*  we need to specify a shape parameterisation (here we are using a\n",
        "   PolySpline parameterisation - shape_type = 'S')\n",
        "*  we need to specify an optimisation objective (default = winding pack\n",
        "   length)\n",
        "*  we need to specify what our ripple constraint is (default = 0.6%)\n",
        "*  we need to specify a keep-out-zone for the TF coil\n",
        "*  we need to specify a shape upon which we want to contrain the ripple\n",
        "*  we need to optimise the TF coil shape parameterisation\n",
        "\n",
        "\n",
        "Run the optimisation problem (minimise length, constrain ripple)"
      ]
    },
    {
      "cell_type": "code",
      "metadata": {},
      "source": [
        "bluemira_print(\"Optimising 'S' TF coil... could take about 20 s..\")\n",
        "tf1.optimise()"
      ],
      "outputs": [],
      "execution_count": null
    },
    {
      "cell_type": "markdown",
      "metadata": {},
      "source": [
        "Hmm.. a warning. Our maximum ripple is a little higher than we specified.\n",
        "This is because we didn't specify many points at which to check the ripple\n",
        "\n",
        "Let's look at it"
      ]
    },
    {
      "cell_type": "code",
      "metadata": {},
      "source": [
        "f, ax = plt.subplots()\n",
        "tf1.plot_xz(ax=ax)\n",
        "tf1.plot_ripple(ax=ax, fig=f)"
      ],
      "outputs": [],
      "execution_count": null
    },
    {
      "cell_type": "markdown",
      "metadata": {},
      "source": [
        "NOTE: The bigger ny, ny, and nrip are, the longer the optimisation will take\n",
        "(and the better the result)\n",
        "\n",
        "In practice, we know a bit about this problem...\n",
        "The TF ripple is usually the worst on the low field side (outboard portion)\n",
        "So we speed up the problem by only checking points on the LFS\n",
        "\n",
        "We're going to ignore this warning for now, as will we address this problem\n",
        "later."
      ]
    },
    {
      "cell_type": "markdown",
      "metadata": {},
      "source": [
        "## OPTIMISE A TF COIL OBJECT USING A PRINCETON-D PARAMETERISATION\n",
        "\n",
        "Now let's do the same thing for a different shape parameterisation\n",
        "We can use the same ParameterFrame as before, and the same dictionary\n",
        "We're just going to change the type of shape we are using"
      ]
    },
    {
      "cell_type": "code",
      "metadata": {},
      "source": [
        "to_tf[\"shape_type\"] = \"D\"  # This is the key for a Princeton-D shape\n",
        "\n",
        "tf2 = ToroidalFieldCoils(parameters, to_tf)\n",
        "bluemira_print(\"Optimising 'D' TF coil... could take about 4 s..\")\n",
        "tf2.optimise()"
      ],
      "outputs": [],
      "execution_count": null
    },
    {
      "cell_type": "markdown",
      "metadata": {},
      "source": [
        "That looks bad; the optimiser had a hard time and failed. Let's look\n",
        "at what we got:"
      ]
    },
    {
      "cell_type": "code",
      "metadata": {},
      "source": [
        "f, ax = plt.subplots()\n",
        "\n",
        "tf2.plot_ripple(ax=ax, fig=f)"
      ],
      "outputs": [],
      "execution_count": null
    },
    {
      "cell_type": "markdown",
      "metadata": {},
      "source": [
        "So now we have a few\n",
        "options:\n",
        "*  tweak the bounds and initial values\n",
        "*  tweak the optimiser parameters\n",
        "\n",
        "\n",
        "Let's try just tweaking the optimiser parameters for now."
      ]
    },
    {
      "cell_type": "code",
      "metadata": {},
      "source": [
        "tf2 = ToroidalFieldCoils(parameters, to_tf)\n",
        "# eps is a step size parameter for the gradient-based algorithm.\n",
        "tf2.optimise(eps=0.21)\n",
        "f, ax = plt.subplots()\n",
        "tf2.plot_ripple(ax=ax, fig=f)"
      ],
      "outputs": [],
      "execution_count": null
    },
    {
      "cell_type": "markdown",
      "metadata": {},
      "source": [
        "That's a bit better.. but this isn't really a robust way of doing this.\n",
        "It's because this parameterisation is very simple, and we're using an\n",
        "optimisation algorithm that does a better job on more complex problems!\n",
        "\n",
        "It's still a bit over-optimised, too. We'll deal with this kind of stuff\n",
        "later on."
      ]
    },
    {
      "cell_type": "code",
      "metadata": {},
      "source": [],
      "outputs": [],
      "execution_count": null
    },
    {
      "cell_type": "markdown",
      "metadata": {},
      "source": [
        "## OPTIMISE A TF COIL OBJECT USING A PICTUREFRAME PARAMETERISATION\n",
        "\n",
        "Now let's do the same thing for a different shape parameterisation"
      ]
    },
    {
      "cell_type": "code",
      "metadata": {},
      "source": [
        "to_tf[\"shape_type\"] = \"P\"  # This is the key for a PictureFrame shape\n",
        "\n",
        "tf3 = ToroidalFieldCoils(parameters, to_tf)\n",
        "bluemira_print(\"Optimising 'P' TF coil... could take about 3 s..\")\n",
        "tf3.optimise()"
      ],
      "outputs": [],
      "execution_count": null
    },
    {
      "cell_type": "markdown",
      "metadata": {},
      "source": [
        "Let's have a look at what we got:"
      ]
    },
    {
      "cell_type": "code",
      "metadata": {},
      "source": [
        "f, ax = plt.subplots()\n",
        "tf3.plot_ripple(ax=ax, fig=f)\n",
        "lcfs.plot(ax, edgecolor=\"r\", fill=False)\n",
        "ko_zone.plot(ax, edgecolor=\"b\", fill=False)"
      ],
      "outputs": [],
      "execution_count": null
    },
    {
      "cell_type": "markdown",
      "metadata": {},
      "source": [
        "Alright, so this is better! But our ripple is still a little higher than we\n",
        "wanted. This is because we are only actually checking ripple at certain\n",
        "places, and probably we are not capturing the worst place.\n",
        "\n",
        "Let's start over, and increase the number of current filaments we are using\n",
        "and the number of points on the separatrix at which we are checking the\n",
        "TF ripple"
      ]
    },
    {
      "cell_type": "code",
      "metadata": {},
      "source": [
        "to_tf = {\n",
        "    \"name\": \"Example_PictureFrame_TF\",\n",
        "    \"plasma\": lcfs,\n",
        "    \"koz_loop\": ko_zone,\n",
        "    \"shape_type\": \"P\",  # This is the shape parameterisation to use\n",
        "    \"obj\": \"L\",  # This is the optimisation objective: minimise length\n",
        "    \"ny\": 3,  # This is the number of current filaments to use in y\n",
        "    \"nr\": 1,  # This is the number of current filaments to use in x\n",
        "    \"nrip\": 30,  # This is the number of points on the separatrix to calculate ripple for\n",
        "    \"read_folder\": read_path,\n",
        "    \"write_folder\": write_path,\n",
        "}\n",
        "\n",
        "tf3 = ToroidalFieldCoils(parameters, to_tf)\n",
        "\n",
        "bluemira_print(\n",
        "    \"Optimising a rectangular TF coil with multiple current filaments..\\n\"\n",
        "    \"This is going to take about 44 seconds.\"\n",
        ")\n",
        "tf3.optimise()"
      ],
      "outputs": [],
      "execution_count": null
    },
    {
      "cell_type": "markdown",
      "metadata": {},
      "source": [
        "Let's take a look at our result now"
      ]
    },
    {
      "cell_type": "code",
      "metadata": {},
      "source": [
        "f, ax = plt.subplots()\n",
        "tf3.plot_ripple(ax=ax, fig=f)\n",
        "lcfs.plot(ax, edgecolor=\"r\", fill=False)\n",
        "ko_zone.plot(ax, edgecolor=\"b\", fill=False)"
      ],
      "outputs": [],
      "execution_count": null
    },
    {
      "cell_type": "markdown",
      "metadata": {},
      "source": [
        "Hmm... OK so it's all good (the TF coil is outside the keep-out zone, and the\n",
        "ripple is below 0.6% at all locations (but not lower than 0.6%).\n",
        "\n",
        "The coil also doesn't look like it could be any smaller, so this is\n",
        "what we wanted to achieve."
      ]
    }
  ],
  "metadata": {
    "anaconda-cloud": {},
    "kernelspec": {
      "display_name": "Python 3",
      "language": "python",
      "name": "python3"
    },
    "language_info": {
      "codemirror_mode": {
        "name": "ipython",
        "version": 3
      },
      "file_extension": ".py",
      "mimetype": "text/x-python",
      "name": "python",
      "nbconvert_exporter": "python",
      "pygments_lexer": "ipython3",
      "version": "3.8.12"
    }
  },
  "nbformat": 4,
  "nbformat_minor": 4
}
