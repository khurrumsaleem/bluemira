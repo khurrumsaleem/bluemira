{
  "cells": [
    {
      "cell_type": "markdown",
      "metadata": {},
      "source": [
        "# Geometry Tutorial"
      ]
    },
    {
      "cell_type": "code",
      "metadata": {},
      "source": [
        "import os\n",
        "\n",
        "import matplotlib.pyplot as plt\n",
        "import numpy as np\n",
        "\n",
        "from bluemira.base.file import get_bluemira_path\n",
        "from bluemira.base.look_and_feel import bluemira_print\n",
        "from BLUEPRINT.geometry.boolean import (\n",
        "    boolean_2d_common,\n",
        "    boolean_2d_difference,\n",
        "    boolean_2d_union,\n",
        "    simplify_loop,\n",
        ")\n",
        "from BLUEPRINT.geometry.loop import Loop\n",
        "from BLUEPRINT.geometry.shell import Shell\n",
        "\n",
        "plt.close(\"all\")"
      ],
      "outputs": [],
      "execution_count": null
    },
    {
      "cell_type": "markdown",
      "metadata": {},
      "source": [
        "## BACKGROUND\n",
        "\n",
        "Geometry matters. It is not plasma physics, but it is not trivial.\n",
        "It is the source of most errors in BLUEPRINT, because of the number of\n",
        "funny edge and corner cases, and because when you parameterise lots of\n",
        "different things in very different ways there is a combinatorial explosion of\n",
        "geometrical possibilities.\n",
        "\n",
        "The CAD in BLUEPRINT is not smart. It doesn't know when there are clashes.\n",
        "We try to avoid clashes as much as possible in 2-D first.\n",
        "\n",
        "A bit of background on BLUEPRINT coordinates...\n",
        "\n",
        "The coordinate system is right-handed and centred at (0, 0, 0).\n",
        "\n",
        "See e.g. https://mathworld.wolfram.com/Right-HandedCoordinateSystem.html\n",
        "\n",
        "Or enjoy some of my finest ASCII art instead:\n",
        "\n",
        "```\n",
        "  z(+) y (+)\n",
        "  ^   &\n",
        "  |  /\n",
        "  |/\n",
        "  |-----------> x (+)\n",
        "```\n",
        "\n",
        "The default plane in BLUEPRINT is the x-z plane.\n",
        "The default axis of revolution is the z-axis.\n",
        "Rotations are counter-clockwise\n",
        "The unit of length is the [metre]. The units in BLUEPRINT are SI (..mostly..)\n",
        "\n",
        "So, for example, a plasma shape would have a 2-D cross-section specified in m\n",
        "on the x-z plane, and rotated about the z-axis to form a torus."
      ]
    },
    {
      "cell_type": "markdown",
      "metadata": {},
      "source": [
        "\n",
        "## INTRODUCTION TO THE LOOP\n",
        "\n",
        "Problem: we need to store geometry information in a coherent way.\n",
        "Solution: the Loop class\n",
        "\n",
        "*  It is an intelligent collection of coordinates (ordered set of vertices)\n",
        "*  With methods to modify the coordinates, or use them in other ways\n",
        "\n",
        "\n",
        "Let's make a triangle:"
      ]
    },
    {
      "cell_type": "code",
      "metadata": {},
      "source": [
        "triangle = Loop(x=[1, 2, 0], y=[2**0.5, 0, 0])\n",
        "\n",
        "print(f\"triangle.x: {triangle.x}\")\n",
        "print(f\"triangle.y: {triangle.y}\")"
      ],
      "outputs": [],
      "execution_count": null
    },
    {
      "cell_type": "markdown",
      "metadata": {},
      "source": [
        "Good, so these coordinates are the same as specified... Or are they??\n",
        "\n",
        "*  No.. They have been re-ordered! The Loop is now counter-clockwise\n",
        "*  Also, the coordinates are now floats, not integers.\n",
        "\n",
        "\n",
        "These details are important when dealing with various operations, and it is\n",
        "important to understand that Loops are by default counter-clockwise (ccw) and\n",
        "have underlying numpy arrays of floats for coordinates.\n",
        "\n",
        "But what about the z-dimension?"
      ]
    },
    {
      "cell_type": "code",
      "metadata": {},
      "source": [
        "print(f\"triangle.z: {triangle.z}\")"
      ],
      "outputs": [],
      "execution_count": null
    },
    {
      "cell_type": "markdown",
      "metadata": {},
      "source": [
        "It is auto-populated to an array of zeros. This kind of thing is important\n",
        "if you care where things are in 3-D.\n",
        "\n",
        "You can get a quick summary of the Loop by printing it to the console"
      ]
    },
    {
      "cell_type": "code",
      "metadata": {},
      "source": [
        "print(triangle)"
      ],
      "outputs": [],
      "execution_count": null
    },
    {
      "cell_type": "markdown",
      "metadata": {},
      "source": [
        "That doesn't look great.. does it?"
      ]
    },
    {
      "cell_type": "code",
      "metadata": {},
      "source": [
        "bluemira_print(str(triangle))  # :)"
      ],
      "outputs": [],
      "execution_count": null
    },
    {
      "cell_type": "markdown",
      "metadata": {},
      "source": [
        "So let's look at the triangle, and its points"
      ]
    },
    {
      "cell_type": "code",
      "metadata": {},
      "source": [
        "triangle.plot(points=True)"
      ],
      "outputs": [],
      "execution_count": null
    },
    {
      "cell_type": "markdown",
      "metadata": {},
      "source": [
        "The defaults are a red line for open loops, a black line for closed loops, and the\n",
        "Loop is filled with a polygon face if it is closed.\n",
        "Notice that the triangle is an open Loop as it only has two segments."
      ]
    },
    {
      "cell_type": "code",
      "metadata": {},
      "source": [
        "print(f\"Is my triangle a closed loop?: {triangle.closed}\")"
      ],
      "outputs": [],
      "execution_count": null
    },
    {
      "cell_type": "markdown",
      "metadata": {},
      "source": [
        "It is usually desirable to work with closed Loops. These are used frequently\n",
        "in BLUEPRINT to describe space reservation of things in 2-D.\n",
        "\n",
        "Unlike ccw, Loops are not forced to be closed Loops."
      ]
    },
    {
      "cell_type": "code",
      "metadata": {},
      "source": [
        "triangle.close()\n",
        "print(triangle)"
      ],
      "outputs": [],
      "execution_count": null
    },
    {
      "cell_type": "markdown",
      "metadata": {},
      "source": [
        "Notice it is now of length = 4, and not 3 as before. The first and end points\n",
        "are coincident.\n",
        "\n",
        "Now, let's plot the triangle again, and make it look a little different"
      ]
    },
    {
      "cell_type": "code",
      "metadata": {},
      "source": [
        "triangle.plot(edgecolor=\"k\", facecolor=\"grey\")"
      ],
      "outputs": [],
      "execution_count": null
    },
    {
      "cell_type": "markdown",
      "metadata": {},
      "source": [
        "Let's see what else this thing can do:"
      ]
    },
    {
      "cell_type": "code",
      "metadata": {},
      "source": [
        "bluemira_print(\n",
        "    \"Summary of the triangle loop:\\n\"\n",
        "    f\"|   area: {triangle.area:.2f} m\\n\"\n",
        "    f\"|   perimeter: {triangle.length:.2f} m\\n\"\n",
        "    f\"|   centroid: {triangle.centroid}\"\n",
        ")"
      ],
      "outputs": [],
      "execution_count": null
    },
    {
      "cell_type": "markdown",
      "metadata": {},
      "source": [
        "## ACCESSING COORDINATES\n",
        "\n",
        "The underlying Loop coordinates can be accessed in a variety of ways.\n",
        "\n",
        "For full coordinate arrays, via access to the xyz attribute"
      ]
    },
    {
      "cell_type": "code",
      "metadata": {},
      "source": [
        "print(triangle.xyz)"
      ],
      "outputs": [],
      "execution_count": null
    },
    {
      "cell_type": "markdown",
      "metadata": {},
      "source": [
        "For full single coordinates, via attribute access or dictionary call"
      ]
    },
    {
      "cell_type": "code",
      "metadata": {},
      "source": [
        "print(triangle.x)\n",
        "print(triangle[\"x\"])"
      ],
      "outputs": [],
      "execution_count": null
    },
    {
      "cell_type": "markdown",
      "metadata": {},
      "source": [
        "For individual vertices, via indexing and slicing"
      ]
    },
    {
      "cell_type": "code",
      "metadata": {},
      "source": [
        "print(f\"First point in triangle: {triangle[0]}\")\n",
        "print(f\"First two points in triangle: {triangle[:2]}\")"
      ],
      "outputs": [],
      "execution_count": null
    },
    {
      "cell_type": "markdown",
      "metadata": {},
      "source": [
        "Note that when we access single points, we always get the 3 dimensions\n",
        "If we only want the \"most important\" 2 dimensions, then we have to do this:"
      ]
    },
    {
      "cell_type": "code",
      "metadata": {},
      "source": [
        "print(f\"First point x-y: {triangle.d2.T[0]}\")\n",
        "print(f\"First two points x-y: {triangle.d2.T[:2]}\")"
      ],
      "outputs": [],
      "execution_count": null
    },
    {
      "cell_type": "markdown",
      "metadata": {},
      "source": [
        "The d2 attribute accesses the two important coordinates in which the Loop was\n",
        "specified. So x-y for x-y Loops and y-z for y-z Loops, etc."
      ]
    },
    {
      "cell_type": "markdown",
      "metadata": {},
      "source": [
        "## INSTANTIATING A LOOP\n",
        "\n",
        "There are other ways to instantiate a Loop:\n",
        "1.  from a dictionary\n",
        "2.  from a numpy array\n",
        "3.  from a file"
      ]
    },
    {
      "cell_type": "markdown",
      "metadata": {},
      "source": [
        "### Instantiating a loop from a dictionary"
      ]
    },
    {
      "cell_type": "code",
      "metadata": {},
      "source": [
        "dictionary = {\"x\": [1, 2, 3], \"y\": 4.4573, \"z\": [0, 0, 2]}"
      ],
      "outputs": [],
      "execution_count": null
    },
    {
      "cell_type": "markdown",
      "metadata": {},
      "source": [
        "Notice that if we give a single value to one of the dimensions, the Loop will\n",
        "assume that it is on e.g. x-z plane, at an offset of y from the 0-x-z plane."
      ]
    },
    {
      "cell_type": "code",
      "metadata": {},
      "source": [
        "dict_loop = Loop.from_dict(dictionary)"
      ],
      "outputs": [],
      "execution_count": null
    },
    {
      "cell_type": "markdown",
      "metadata": {},
      "source": [
        "### Instantiating a loop from a numpy array"
      ]
    },
    {
      "cell_type": "code",
      "metadata": {},
      "source": [
        "coordinates = np.array(\n",
        "    [\n",
        "        [0, 0, 2, 3, 4, 5, 6, 7, 5, 4, 3, 0],\n",
        "        [0, 0, 0, 0, 0, 0, 0, 0, 0, 0, 0, 0],\n",
        "        [2, 2, 4, 5, 6, 6, 7, 5, 4, 3, 2, 2],\n",
        "    ]\n",
        ")\n",
        "\n",
        "array_loop = Loop.from_array(coordinates)"
      ],
      "outputs": [],
      "execution_count": null
    },
    {
      "cell_type": "markdown",
      "metadata": {},
      "source": [
        "When plotting Loops, it is also nice sometimes to specify the matplotlib\n",
        "Axes object onto which they are plotted.\n",
        "f, ax = plt.subplots()\n",
        "\n",
        "array_loop.plot(ax)\n",
        "ax.set_title(\"A loop from a numpy array\")"
      ]
    },
    {
      "cell_type": "markdown",
      "metadata": {},
      "source": [
        "### Instantiating a loop from a file\n",
        "\n",
        "This is mostly useful for debugging, save Loops if they are nasty geometry\n",
        "edge cases, or passing information to people. Loops are saved in a JSON\n",
        "format, because it is widely-used and human readable.\n",
        "\n",
        "First we need to get the folder where some Loops are stored:"
      ]
    },
    {
      "cell_type": "code",
      "metadata": {},
      "source": [
        "path = get_bluemira_path(\"BLUEPRINT/cad/test_data\", subfolder=\"tests\")\n",
        "\n",
        "print(path)"
      ],
      "outputs": [],
      "execution_count": null
    },
    {
      "cell_type": "markdown",
      "metadata": {},
      "source": [
        "Then we need to pick a Loop"
      ]
    },
    {
      "cell_type": "code",
      "metadata": {},
      "source": [
        "name = \"plasmaloop.json\"\n",
        "filename = os.sep.join([path, name])"
      ],
      "outputs": [],
      "execution_count": null
    },
    {
      "cell_type": "markdown",
      "metadata": {},
      "source": [
        "And instantiate a Loop from it."
      ]
    },
    {
      "cell_type": "code",
      "metadata": {},
      "source": [
        "plasma_loop = Loop.from_file(filename)\n",
        "\n",
        "f, ax = plt.subplots()\n",
        "plasma_loop.plot(ax, edgecolor=\"r\", facecolor=\"pink\")"
      ],
      "outputs": [],
      "execution_count": null
    },
    {
      "cell_type": "markdown",
      "metadata": {},
      "source": [
        "## TRANSFORMING LOOPS\n",
        "\n",
        "Obviously, we want to be able to move this stuff around"
      ]
    },
    {
      "cell_type": "code",
      "metadata": {},
      "source": [
        "f, ax = plt.subplots()\n",
        "plasma_loop.translate([4, 0, 0])\n",
        "plasma_loop.plot(ax, edgecolor=\"r\", facecolor=\"pink\")"
      ],
      "outputs": [],
      "execution_count": null
    },
    {
      "cell_type": "markdown",
      "metadata": {},
      "source": [
        "The plasma_loop has been permanently moved. What if we want a copy?"
      ]
    },
    {
      "cell_type": "code",
      "metadata": {},
      "source": [
        "plasma_loop2 = plasma_loop.translate([4, 0, 0], update=False)"
      ],
      "outputs": [],
      "execution_count": null
    },
    {
      "cell_type": "markdown",
      "metadata": {},
      "source": [
        "Now let's rotate it (about the y-axis, clockwise by 30 degrees)"
      ]
    },
    {
      "cell_type": "code",
      "metadata": {},
      "source": [
        "plasma_loop2.rotate(theta=-30, p1=[0, 0, 0], p2=[0, 1, 0])"
      ],
      "outputs": [],
      "execution_count": null
    },
    {
      "cell_type": "code",
      "metadata": {},
      "source": [
        "f, ax = plt.subplots()\n",
        "plasma_loop.plot(ax, edgecolor=\"b\", facecolor=\"grey\")\n",
        "plasma_loop2.plot(ax, edgecolor=\"r\", facecolor=\"pink\")"
      ],
      "outputs": [],
      "execution_count": null
    },
    {
      "cell_type": "markdown",
      "metadata": {},
      "source": [
        "Alright, but what about 3-D? Sure, why not"
      ]
    },
    {
      "cell_type": "code",
      "metadata": {},
      "source": [
        "loop = plasma_loop.rotate(\n",
        "    theta=45, p1=[0.1, 0.254, 0.74], p2=[0.4, 0.2, 0.1], update=False\n",
        ")\n",
        "\n",
        "loop.plot(facecolor=\"green\")"
      ],
      "outputs": [],
      "execution_count": null
    },
    {
      "cell_type": "markdown",
      "metadata": {},
      "source": [
        "---\n",
        "**NOTE**\n",
        "matplotlib is not great at 3-D stuff.. some homebrew hacks make this\n",
        "work, but if you want to break it you won't have to try very hard.\n",
        "\n",
        "---"
      ]
    },
    {
      "cell_type": "markdown",
      "metadata": {},
      "source": [
        "## WORKING WITH LOOPS\n",
        "\n",
        "There are lots of things we want to do with geometry.. below are some helpful methods"
      ]
    },
    {
      "cell_type": "markdown",
      "metadata": {},
      "source": [
        "### Offsetting"
      ]
    },
    {
      "cell_type": "code",
      "metadata": {},
      "source": [
        "f, ax = plt.subplots()\n",
        "plasma_loop.plot(ax)"
      ],
      "outputs": [],
      "execution_count": null
    },
    {
      "cell_type": "markdown",
      "metadata": {},
      "source": [
        "Outwards"
      ]
    },
    {
      "cell_type": "code",
      "metadata": {},
      "source": [
        "f, ax = plt.subplots()\n",
        "plasma_loop.plot(ax)\n",
        "for offset_size, color in zip([0.2, 0.4, 0.6, 1], [\"r\", \"orange\", \"g\", \"b\"]):\n",
        "    offset_plasma = plasma_loop.offset(offset_size)\n",
        "    offset_plasma.plot(ax, edgecolor=color, fill=False)"
      ],
      "outputs": [],
      "execution_count": null
    },
    {
      "cell_type": "markdown",
      "metadata": {},
      "source": [
        "Inwards"
      ]
    },
    {
      "cell_type": "code",
      "metadata": {},
      "source": [
        "f, ax = plt.subplots()\n",
        "plasma_loop.plot(ax)\n",
        "for offset_size, color in zip([0.2, 0.4, 0.6, 1], [\"r\", \"orange\", \"g\", \"b\"]):\n",
        "    offset_plasma = plasma_loop.offset(-offset_size)\n",
        "    offset_plasma.plot(ax, edgecolor=color, fill=False)"
      ],
      "outputs": [],
      "execution_count": null
    },
    {
      "cell_type": "markdown",
      "metadata": {},
      "source": [
        "That last one looks a little funny... welcome to geometry!\n",
        "Loops are not yet smart enough to detect that they are self-intersecting..\n",
        "Be careful. There are ways of dealing with this, see e.g. below."
      ]
    },
    {
      "cell_type": "code",
      "metadata": {},
      "source": [
        "clean_offset = simplify_loop(offset_plasma)\n",
        "\n",
        "f, ax = plt.subplots()\n",
        "offset_plasma.plot(ax, facecolor=\"r\")\n",
        "clean_offset.plot(ax, facecolor=\"b\")\n",
        "ax.set_xlim([11.64, 11.74])\n",
        "ax.set_ylim([3.7, 3.76])"
      ],
      "outputs": [],
      "execution_count": null
    },
    {
      "cell_type": "markdown",
      "metadata": {},
      "source": [
        "### Boolean operations\n",
        "\n",
        "Let's pick up with some fresh plasma loops"
      ]
    },
    {
      "cell_type": "code",
      "metadata": {},
      "source": [
        "loop1 = Loop.from_file(filename)\n",
        "\n",
        "loop2 = loop1.translate([4, 0, 0], update=False)"
      ],
      "outputs": [],
      "execution_count": null
    },
    {
      "cell_type": "markdown",
      "metadata": {},
      "source": [
        "We can join Loops with boolean union operations"
      ]
    },
    {
      "cell_type": "code",
      "metadata": {},
      "source": [
        "union = boolean_2d_union(loop1, loop2)[0]\n",
        "f, ax = plt.subplots()\n",
        "union.plot(ax, facecolor=\"b\")"
      ],
      "outputs": [],
      "execution_count": null
    },
    {
      "cell_type": "markdown",
      "metadata": {},
      "source": [
        "We can subtract loops with boolean difference operations\n",
        "We can intersect the loops with boolean common operations\n",
        "\n",
        "Note that in both the cases there can be multiple answers!\n",
        "(in this case there is only one, but we are expecting a list anyway (hence [0])"
      ]
    },
    {
      "cell_type": "code",
      "metadata": {},
      "source": [
        "diff = boolean_2d_difference(loop1, loop2)[0]\n",
        "\n",
        "common = boolean_2d_common(loop1, loop2)[0]\n",
        "\n",
        "f, ax = plt.subplots()\n",
        "diff.plot(ax, facecolor=\"r\")\n",
        "common.plot(ax, facecolor=\"b\")"
      ],
      "outputs": [],
      "execution_count": null
    },
    {
      "cell_type": "markdown",
      "metadata": {},
      "source": [
        "OK, enough about Loops."
      ]
    },
    {
      "cell_type": "markdown",
      "metadata": {},
      "source": [
        "## INTRODUCTION TO THE SHELL\n",
        "\n",
        "In BLUEPRINT, a Shell is Loop within a Loop. It is a subset of the Polygon\n",
        "with holes problem.\n",
        "\n",
        "Let's make one\n",
        "We have to specify an inner Loop and an outer Loop\n",
        "It's not super-smart, so if you want to break it, again, you can."
      ]
    },
    {
      "cell_type": "code",
      "metadata": {},
      "source": [
        "shell = Shell(clean_offset, plasma_loop)"
      ],
      "outputs": [],
      "execution_count": null
    },
    {
      "cell_type": "markdown",
      "metadata": {},
      "source": [
        "Shells work in much the same way as Loops"
      ]
    },
    {
      "cell_type": "code",
      "metadata": {},
      "source": [
        "f, ax = plt.subplots()\n",
        "shell.plot(ax, linewidth=8, edgecolor=\"k\", facecolor=\"orange\")"
      ],
      "outputs": [],
      "execution_count": null
    },
    {
      "cell_type": "markdown",
      "metadata": {},
      "source": [
        "---\n",
        "**NOTE**\n",
        "matplotlib kwargs will usually work.. usually\n",
        "\n",
        "---\n",
        "\n",
        "WE can transform them too"
      ]
    },
    {
      "cell_type": "code",
      "metadata": {},
      "source": [
        "rotated_shell = shell.rotate(\n",
        "    theta=234, p1=[0, 23, 5], p2=[23.5, 423, np.pi], update=False\n",
        ")\n",
        "\n",
        "rotated_shell.plot(edgecolor=\"k\", facecolor=\"b\")"
      ],
      "outputs": [],
      "execution_count": null
    }
  ],
  "metadata": {
    "anaconda-cloud": {},
    "kernelspec": {
      "display_name": "Python 3",
      "language": "python",
      "name": "python3"
    },
    "language_info": {
      "codemirror_mode": {
        "name": "ipython",
        "version": 3
      },
      "file_extension": ".py",
      "mimetype": "text/x-python",
      "name": "python",
      "nbconvert_exporter": "python",
      "pygments_lexer": "ipython3",
      "version": "3.8.12"
    }
  },
  "nbformat": 4,
  "nbformat_minor": 4
}
