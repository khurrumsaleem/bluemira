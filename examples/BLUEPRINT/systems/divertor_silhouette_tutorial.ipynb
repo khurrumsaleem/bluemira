{
  "cells": [
    {
      "cell_type": "markdown",
      "metadata": {},
      "source": [
        "# Divertor Silhouette Tutorial\n",
        "This tutorial goes through different divertor silhouette build recipes in BLUEPRINT.\n",
        "\n",
        "The design recipe chosen to shape the divertor can vary depending on the design\n",
        "intent of the reactor and the level of fidelity needed. This example shows a few\n",
        "simple divertor recipes that are supported out of the box by BLUEPRINT. Note that\n",
        "some of these recipes will be more or less appropriate for different choices of\n",
        "reactor parameterisations.\n",
        "\n",
        "import os"
      ]
    },
    {
      "cell_type": "code",
      "metadata": {},
      "source": [
        "import matplotlib.pyplot as plt\n",
        "import numpy as np\n",
        "\n",
        "from bluemira.base.file import get_bluemira_root\n",
        "from bluemira.base.parameter import ParameterFrame\n",
        "from BLUEPRINT.geometry.geomtools import unique\n",
        "from BLUEPRINT.geometry.loop import Loop\n",
        "from BLUEPRINT.nova.firstwall import FirstWallProfile\n",
        "from BLUEPRINT.nova.stream import StreamFlow\n",
        "from BLUEPRINT.systems.divertor_silhouette import (  # noqa :F401\n",
        "    DivertorSilhouette,\n",
        "    DivertorSilhouetteFlatDome,\n",
        "    DivertorSilhouetteFlatDomePsiBaffle,\n",
        "    DivertorSilhouettePsiBaffle,\n",
        ")"
      ],
      "outputs": [],
      "execution_count": null
    },
    {
      "cell_type": "markdown",
      "metadata": {},
      "source": [
        "## Setting BLUEPRINT Parameters\n",
        "When creating any `ReactorSystem` in BLUEPRINT, we need to set the relevant parameters.\n",
        "The list below gives a basic set of values for a `FirstWallProfile` + `DivertorProfile`\n",
        "build, which we will use in this tutorial. You can edit the third element in each row\n",
        "to change the parameter's value.\n",
        "\n",
        "We'll also build the BLUEPRINT `ParameterFrame` from that list."
      ]
    },
    {
      "cell_type": "code",
      "metadata": {},
      "source": [
        "params = [\n",
        "    [\"Name\", \"The reactor name\", \"DIV_TEST\", \"dimensionless\", None, \"Input\"],\n",
        "    [\"plasma_type\", \"Type of plasma\", \"DN\", \"dimensionless\", None, \"Input\"],\n",
        "    [\"A\", \"Plasma aspect ratio\", 1.667, \"dimensionless\", None, \"Input\"],\n",
        "    [\"R_0\", \"Major radius\", 2.5, \"m\", None, \"Input\"],\n",
        "    [\"fw_dL_min\", \"Minimum FW module length\", 0.75, \"m\", None, \"Input\"],\n",
        "    [\"fw_dL_max\", \"Maximum FW module length\", 3, \"m\", None, \"Input\"],\n",
        "    [\"fw_a_max\", \"Maximum angle between FW modules\", 20, \"\u00b0\", None, \"Input\"],\n",
        "    [\n",
        "        \"fw_psi_n\",\n",
        "        \"Normalised psi boundary to fit FW to\",\n",
        "        1.005,\n",
        "        \"dimensionless\",\n",
        "        None,\n",
        "        \"Input\",\n",
        "    ],\n",
        "    [\"div_L2D_ib\", \"Inboard divertor leg length\", 0.3, \"m\", None, \"Input\"],\n",
        "    [\"div_L2D_ob\", \"Outboard divertor leg length\", 3.0, \"m\", None, \"Input\"],\n",
        "    [\"div_graze_angle\", \"Divertor SOL grazing angle\", 15.0, \"\u00b0\", None, \"Input\"],\n",
        "    [\"div_Ltarg\", \"Divertor target length\", 1.0, \"m\", None, \"Input\"],\n",
        "    [\n",
        "        \"div_open\",\n",
        "        \"Divertor open/closed configuration\",\n",
        "        True,\n",
        "        \"dimensionless\",\n",
        "        None,\n",
        "        \"Input\",\n",
        "    ],\n",
        "    [\"div_r_min\", \"Divertor minimum radial extent\", 0.25, \"m\", None, \"Input\"],\n",
        "    [\"tk_div\", \"Divertor thickness\", 0.1, \"m\", None, \"Input\"],\n",
        "    [\"tk_sol_ib\", \"Inboard SOL thickness\", 0.011, \"m\", None, \"Input\"],\n",
        "    [\"tk_sol_ob\", \"Outboard SOL thickness\", 0.06, \"m\", None, \"Input\"],\n",
        "    [\"bb_gap\", \"Gap between divertor and breeding blanket\", 0.05, \"m\", None, \"Input\"],\n",
        "    [\"r_fw_ib_in\", \"Inboard first wall inner radius\", 0.92, \"m\", None, \"PROCESS\"],\n",
        "    [\"r_fw_ob_in\", \"Outboard first wall inner radius\", 4.17, \"m\", None, \"PROCESS\"],\n",
        "]\n",
        "\n",
        "params = ParameterFrame(params)"
      ],
      "outputs": [],
      "execution_count": null
    },
    {
      "cell_type": "markdown",
      "metadata": {},
      "source": [
        "Let's also select an equilibrium to read in so that we can shape our first wall and\n",
        "divertor around it. We'll also make a `StreamFlow` object from that equilibrium file.\n",
        "A `StreamFlow` contains utilities for the analysis of equilibrium information."
      ]
    },
    {
      "cell_type": "code",
      "metadata": {},
      "source": [
        "eq_filename = os.path.join(\n",
        "    get_bluemira_root(), \"data\", \"BLUEPRINT\", \"eqdsk\", \"step_v7_format.geqdsk\"\n",
        ")\n",
        "sf = StreamFlow(eq_filename)"
      ],
      "outputs": [],
      "execution_count": null
    },
    {
      "cell_type": "markdown",
      "metadata": {},
      "source": [
        "## Creating a FirstWallProfile\n",
        "Now we'll make a `FirstWallProfile` using a spline shape parameterisation and generate\n",
        "the first wall shape using a flux offset from the plasma boundary."
      ]
    },
    {
      "cell_type": "code",
      "metadata": {},
      "source": [
        "first_wall = FirstWallProfile(\n",
        "    params,\n",
        "    {\n",
        "        \"name\": params.Name,\n",
        "        \"parameterisation\": \"S\",\n",
        "    },\n",
        ")\n",
        "\n",
        "first_wall.generate(\n",
        "    [eq_filename],\n",
        "    dx=params.tk_sol_ib,\n",
        "    psi_n=params.fw_psi_n,\n",
        "    flux_fit=True,\n",
        ")"
      ],
      "outputs": [],
      "execution_count": null
    },
    {
      "cell_type": "markdown",
      "metadata": {},
      "source": [
        "Let's discretise and clean up our first wall so that we can take a look at it."
      ]
    },
    {
      "cell_type": "code",
      "metadata": {},
      "source": [
        "x, z = first_wall.draw(npoints=500)\n",
        "istart = np.argmin((x - sf.x_point[0]) ** 2 + (z - sf.x_point[1]) ** 2)\n",
        "x = np.append(x[istart:], x[: istart + 1])\n",
        "z = np.append(z[istart:], z[: istart + 1])\n",
        "x, z = unique(x, z)[:2]\n",
        "fw_loop = Loop(x=x, z=z)\n",
        "fw_loop.plot()\n",
        "\n",
        "plt.show()"
      ],
      "outputs": [],
      "execution_count": null
    },
    {
      "cell_type": "markdown",
      "metadata": {},
      "source": [
        "## Targets Definitions\n",
        "The divertor is shaped using a parameterisation of the targets. This is provided to\n",
        "the `DivertorSilhouette` as a dictionary containing the relevant default settings and\n",
        "any specific settings for either leg."
      ]
    },
    {
      "cell_type": "code",
      "metadata": {},
      "source": [
        "targets = {}\n",
        "targets[\"default\"] = {}\n",
        "targets[\"inner\"] = {}\n",
        "targets[\"outer\"] = {}\n",
        "targets[\"default\"][\"L2D\"] = params.div_L2D_ib\n",
        "targets[\"default\"][\"open\"] = params.div_open\n",
        "targets[\"default\"][\"graze\"] = params.div_graze_angle * np.pi / 180\n",
        "targets[\"default\"][\"dPlate\"] = params.div_Ltarg\n",
        "targets[\"default\"][\"dR\"] = 0\n",
        "targets[\"inner\"][\"open\"] = params.div_open\n",
        "targets[\"outer\"][\"open\"] = params.div_open\n",
        "targets[\"inner\"][\"L2D\"] = params.div_L2D_ib\n",
        "targets[\"outer\"][\"L2D\"] = params.div_L2D_ob"
      ],
      "outputs": [],
      "execution_count": null
    },
    {
      "cell_type": "markdown",
      "metadata": {},
      "source": [
        "## Making the DivertorSilhouette\n",
        "Now we have enough information to create an instance of our `DivertorSilhouette` class.\n",
        "There are a few options available, so comment out / in the recipe that you'd like to\n",
        "run. We also create an input dictionary to the class to contain any arguments that are\n",
        "needed beyond our `ParameterFrame`."
      ]
    },
    {
      "cell_type": "code",
      "metadata": {},
      "source": [
        "to_dp = {\n",
        "    \"sf\": sf,\n",
        "    \"targets\": targets,\n",
        "}\n",
        "\n",
        "# div = DivertorSilhouette(params, to_dp)\n",
        "# div = DivertorSilhouetteFlatDome(params, to_dp)\n",
        "# div = DivertorSilhouettePsiBaffle(params, to_dp)\n",
        "div = DivertorSilhouetteFlatDomePsiBaffle(params, to_dp)"
      ],
      "outputs": [],
      "execution_count": null
    },
    {
      "cell_type": "markdown",
      "metadata": {},
      "source": [
        "## Make Some Divertor Targets\n",
        "We can use our `DivertorSilhouette` to generate some target shapes - these are just\n",
        "numpy arrays, so can be manipulated if you'd like. We'll just plot them for now along\n",
        "with the scrape off layer legs."
      ]
    },
    {
      "cell_type": "code",
      "metadata": {},
      "source": [
        "div_targets = {}\n",
        "div_targets[\"lower\"] = {}\n",
        "div_targets[\"upper\"] = {}\n",
        "div_targets[\"lower\"][\"inner\"] = div.make_target(\"lower\", \"inner\")\n",
        "div_targets[\"lower\"][\"outer\"] = div.make_target(\"lower\", \"outer\")\n",
        "div_targets[\"upper\"][\"inner\"] = div.make_target(\"upper\", \"inner\")\n",
        "div_targets[\"upper\"][\"outer\"] = div.make_target(\"upper\", \"outer\")\n",
        "\n",
        "plt.plot(div_targets[\"lower\"][\"inner\"].T[0], div_targets[\"lower\"][\"inner\"].T[1])\n",
        "plt.plot(div_targets[\"lower\"][\"outer\"].T[0], div_targets[\"lower\"][\"outer\"].T[1])\n",
        "plt.plot(div_targets[\"upper\"][\"inner\"].T[0], div_targets[\"upper\"][\"inner\"].T[1])\n",
        "plt.plot(div_targets[\"upper\"][\"outer\"].T[0], div_targets[\"upper\"][\"outer\"].T[1])\n",
        "plt.gca().set_aspect(\"equal\")\n",
        "\n",
        "sol = div.get_sol_leg(\"lower\", \"inner\")\n",
        "plt.plot(sol[0], sol[1], \"--\")\n",
        "sol = div.get_sol_leg(\"lower\", \"outer\")\n",
        "plt.plot(sol[0], sol[1], \"--\")\n",
        "sol = div.get_sol_leg(\"upper\", \"inner\")\n",
        "plt.plot(sol[0], sol[1], \"--\")\n",
        "sol = div.get_sol_leg(\"upper\", \"outer\")\n",
        "plt.plot(sol[0], sol[1], \"--\")\n",
        "\n",
        "plt.show()"
      ],
      "outputs": [],
      "execution_count": null
    },
    {
      "cell_type": "markdown",
      "metadata": {},
      "source": [
        "## Make Some Domes\n",
        "Next we'll make some dome sections, which connect the inner and outer targets."
      ]
    },
    {
      "cell_type": "code",
      "metadata": {},
      "source": [
        "domes = {}\n",
        "domes[\"lower\"] = div.make_dome(\n",
        "    \"lower\", div_targets[\"lower\"][\"inner\"][-1], div_targets[\"lower\"][\"outer\"][0]\n",
        ")\n",
        "domes[\"upper\"] = div.make_dome(\n",
        "    \"upper\", div_targets[\"upper\"][\"inner\"][-1], div_targets[\"upper\"][\"outer\"][0]\n",
        ")\n",
        "plt.plot(domes[\"lower\"].T[0], domes[\"lower\"].T[1])\n",
        "plt.plot(domes[\"upper\"].T[0], domes[\"upper\"].T[1])\n",
        "plt.gca().set_aspect(\"equal\")\n",
        "\n",
        "plt.show()"
      ],
      "outputs": [],
      "execution_count": null
    },
    {
      "cell_type": "markdown",
      "metadata": {},
      "source": [
        "## Make Some Baffles\n",
        "Finally we'll make some baffles, which will connect the divertor to the first wall."
      ]
    },
    {
      "cell_type": "code",
      "metadata": {},
      "source": [
        "baffles = {}\n",
        "baffles[\"lower\"] = {}\n",
        "baffles[\"upper\"] = {}\n",
        "\n",
        "baffles[\"lower\"][\"inner\"] = div.make_baffle(\n",
        "    \"lower\", \"inner\", div_targets[\"lower\"][\"inner\"]\n",
        ")\n",
        "baffles[\"lower\"][\"outer\"] = div.make_baffle(\n",
        "    \"lower\", \"outer\", div_targets[\"lower\"][\"outer\"]\n",
        ")\n",
        "baffles[\"upper\"][\"inner\"] = div.make_baffle(\n",
        "    \"upper\", \"inner\", div_targets[\"upper\"][\"inner\"]\n",
        ")\n",
        "baffles[\"upper\"][\"outer\"] = div.make_baffle(\n",
        "    \"upper\", \"outer\", div_targets[\"upper\"][\"outer\"]\n",
        ")\n",
        "plt.plot(baffles[\"lower\"][\"inner\"].T[0], baffles[\"lower\"][\"inner\"].T[1])\n",
        "plt.plot(baffles[\"lower\"][\"outer\"].T[0], baffles[\"lower\"][\"outer\"].T[1])\n",
        "plt.plot(baffles[\"upper\"][\"inner\"].T[0], baffles[\"upper\"][\"inner\"].T[1])\n",
        "plt.plot(baffles[\"upper\"][\"outer\"].T[0], baffles[\"upper\"][\"outer\"].T[1])\n",
        "plt.gca().set_aspect(\"equal\")\n",
        "\n",
        "plt.show()"
      ],
      "outputs": [],
      "execution_count": null
    },
    {
      "cell_type": "markdown",
      "metadata": {},
      "source": [
        "## The DivertorSilhouette Build\n",
        "In reality we don't want to be building each section of the divertor by hand.\n",
        "Fortunately the `DivertorSilhouette` has a `make_divertor` and a `build` method to\n",
        "bring all of this together - use `build` if you want to build the full divertor system\n",
        "with the upper and lower divertor, or use `make_divertor` if you just want to make a\n",
        "single divertor in isolation. The different component sections are stored in the `geom`\n",
        "dictionary, so we can make some plots of the divertor shape as below. We'll make use\n",
        "of our first wall `Loop` to connect the divertor up."
      ]
    },
    {
      "cell_type": "code",
      "metadata": {},
      "source": [
        "div.build(fw_loop)\n",
        "div.geom[\"divertors\"][\"upper\"].plot()\n",
        "div.geom[\"divertors\"][\"lower\"].plot()\n",
        "\n",
        "plt.show()"
      ],
      "outputs": [],
      "execution_count": null
    },
    {
      "cell_type": "code",
      "metadata": {},
      "source": [
        "div_geom = div.make_divertor(fw_loop, \"lower\")\n",
        "div_geom[\"divertor\"].plot()\n",
        "\n",
        "plt.show()"
      ],
      "outputs": [],
      "execution_count": null
    }
  ],
  "metadata": {
    "anaconda-cloud": {},
    "kernelspec": {
      "display_name": "Python 3",
      "language": "python",
      "name": "python3"
    },
    "language_info": {
      "codemirror_mode": {
        "name": "ipython",
        "version": 3
      },
      "file_extension": ".py",
      "mimetype": "text/x-python",
      "name": "python",
      "nbconvert_exporter": "python",
      "pygments_lexer": "ipython3",
      "version": "3.8.12"
    }
  },
  "nbformat": 4,
  "nbformat_minor": 4
}
