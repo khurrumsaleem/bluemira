{
  "cells": [
    {
      "cell_type": "markdown",
      "metadata": {},
      "source": [
        "# Configuration Tutorial\n",
        "This tutorial goes through different ways of modifying the BLUEPRINT configuration.\n",
        "\n",
        "The BLUEPRINT configuration controls the initial state of the physical parameters that\n",
        "setup the BLUEPRINT run for a given reactor design."
      ]
    },
    {
      "cell_type": "code",
      "metadata": {},
      "source": [
        "from bluemira.base.parameter import Parameter, ParameterFrame\n",
        "\n",
        "from BLUEPRINT.base.config_schema import ConfigurationSchema\n",
        "from BLUEPRINT.base.file import get_bluemira_root\n",
        "from BLUEPRINT.reactor import Reactor\n",
        "from BLUEPRINT.systems.config import Configuration\n",
        "\n",
        "c = Configuration()\n",
        "c.to_dict()"
      ],
      "outputs": [],
      "execution_count": null
    },
    {
      "cell_type": "markdown",
      "metadata": {},
      "source": [
        "## The Core BLUEPRINT Configuration\n",
        "\n",
        "BLUEPRINT has a default (core) configuration, which defines the physical parameters\n",
        "that control how the built-in functionality of BLUEPRINT works. It has default\n",
        "values provided for all of those parameters."
      ]
    },
    {
      "cell_type": "code",
      "metadata": {},
      "source": [
        "core_c = Configuration()"
      ],
      "outputs": [],
      "execution_count": null
    },
    {
      "cell_type": "markdown",
      "metadata": {},
      "source": [
        "The configuration is based on the concept of a ParameterFrame. You can think of this as\n",
        "a table of parameters with their names and values, but also additional data that gives\n",
        "more description to the parameters without affecting their behaviour (that kind of data\n",
        "is called metadata). We can inspect the configuration parameters as a table simply by\n",
        "printing it out."
      ]
    },
    {
      "cell_type": "code",
      "metadata": {},
      "source": [
        "print(core_c)"
      ],
      "outputs": [],
      "execution_count": null
    },
    {
      "cell_type": "markdown",
      "metadata": {},
      "source": [
        "We can easily explore the parameters and their metadata, either in your favourite IDE\n",
        "or in the python interpreter."
      ]
    },
    {
      "cell_type": "code",
      "metadata": {},
      "source": [
        "# You can explore the available parameters in your IDE by uncommenting the below\n",
        "# line and adding a dot (core_c.)\n",
        "# core_c"
      ],
      "outputs": [],
      "execution_count": null
    },
    {
      "cell_type": "code",
      "metadata": {},
      "source": [
        "# Or we can get the parameter names as keys:\n",
        "core_c.keys()"
      ],
      "outputs": [],
      "execution_count": null
    },
    {
      "cell_type": "code",
      "metadata": {},
      "source": [
        "# We can see the value of a parameter by accessing it directly:\n",
        "core_c.R_0"
      ],
      "outputs": [],
      "execution_count": null
    },
    {
      "cell_type": "code",
      "metadata": {},
      "source": [
        "# Or we can get the underlying parameter by accessing via the get function:\n",
        "param = core_c.get_param(\"R_0\")"
      ],
      "outputs": [],
      "execution_count": null
    },
    {
      "cell_type": "code",
      "metadata": {},
      "source": [
        "# And we can look at the metadata on the parameter, for example as a dictionary:\n",
        "param.to_dict()"
      ],
      "outputs": [],
      "execution_count": null
    },
    {
      "cell_type": "markdown",
      "metadata": {},
      "source": [
        "What if we want to change a configuration value though? Just being able to use the\n",
        "default values would make for some pretty boring analysis. If we're running an\n",
        "interactive analysis then we might just want to change a few values by hand."
      ]
    },
    {
      "cell_type": "code",
      "metadata": {},
      "source": [
        "core_c.R_0 = 8.5\n",
        "core_c.Name = \"My reactor\""
      ],
      "outputs": [],
      "execution_count": null
    },
    {
      "cell_type": "markdown",
      "metadata": {},
      "source": [
        "That's great for exploring some settings, but not so good if we want to be able to\n",
        "look back on what we've done later. When you've settled on some values the it might\n",
        "be useful to create a custom class to codify your design parameters - you can see\n",
        "examples of that in the BLUEPRINT/systems/config.py file for DoubleNull and Spherical\n",
        "configurations, or below to see how the parameters we've changed above would be set\n",
        "in a configuration class."
      ]
    },
    {
      "cell_type": "code",
      "metadata": {},
      "source": [
        "class MyConfiguration(Configuration):\n",
        "    \"\"\"\n",
        "    A configuration class that sets a couple of parameters to custom values.\n",
        "    \"\"\"\n",
        "\n",
        "    new_params = {\"P_el_net\": 450, \"Name\": \"My reactor\"}\n",
        "\n",
        "    def __init__(self, default_params=Configuration.params, custom_params=new_params):\n",
        "        super().__init__(default_params, custom_params)\n",
        "\n",
        "\n",
        "my_config = MyConfiguration()\n",
        "print(my_config.P_el_net)\n",
        "print(my_config.Name)"
      ],
      "outputs": [],
      "execution_count": null
    },
    {
      "cell_type": "markdown",
      "metadata": {},
      "source": [
        "We can then define a reactor that uses our custom configuration to set its default\n",
        "parameters."
      ]
    },
    {
      "cell_type": "code",
      "metadata": {},
      "source": [
        "class MyReactor(Reactor):\n",
        "    \"\"\"\n",
        "    My custom reactor class.\n",
        "    \"\"\"\n",
        "\n",
        "    config: dict\n",
        "    build_config: dict\n",
        "    build_tweaks: dict\n",
        "    default_params = MyConfiguration().to_records()"
      ],
      "outputs": [],
      "execution_count": null
    },
    {
      "cell_type": "markdown",
      "metadata": {},
      "source": [
        "And we can set the reactor configuration values for each run."
      ]
    },
    {
      "cell_type": "code",
      "metadata": {},
      "source": [
        "config_run1 = {\"A\": 3.0}\n",
        "config_run2 = {\"A\": 2.9}\n",
        "config_run3 = {\"A\": 2.8}\n",
        "config_run4 = {\"A\": 2.7}"
      ],
      "outputs": [],
      "execution_count": null
    },
    {
      "cell_type": "markdown",
      "metadata": {},
      "source": [
        "The configuration of the physical parameters for the run are kept distinct from\n",
        "the configuration that controls how the run will be executed, know as build config.\n",
        "We'll need to define one of those to be able to define our reactor for each run."
      ]
    },
    {
      "cell_type": "code",
      "metadata": {},
      "source": [
        "build_config = {\n",
        "    \"reference_data_root\": \"data/BLUEPRINT\",\n",
        "    \"generated_data_root\": \"generated_data/BLUEPRINT\",\n",
        "    \"plot_flag\": False,\n",
        "    \"process_mode\": \"read\",\n",
        "    \"plasmod_mode\": \"read\",\n",
        "    \"plasma_mode\": \"run\",\n",
        "    \"tf_mode\": \"run\",\n",
        "    # TF coil config\n",
        "    \"TF_type\": \"S\",\n",
        "    \"TF_objective\": \"L\",\n",
        "    # FW and VV config\n",
        "    \"VV_parameterisation\": \"S\",\n",
        "    \"FW_parameterisation\": \"S\",\n",
        "    \"BB_segmentation\": \"radial\",\n",
        "    \"lifecycle_mode\": \"life\",\n",
        "    # Plasmod modes\n",
        "    \"eq_mode\": \"I_p\",  # Or 'q_95'\n",
        "    \"HCD_method\": \"power\",\n",
        "}"
      ],
      "outputs": [],
      "execution_count": null
    },
    {
      "cell_type": "markdown",
      "metadata": {},
      "source": [
        "If we want, we can also define some build tweak parameters, for example if needed to\n",
        "stabilise some of BLUEPRINT's optimisers"
      ]
    },
    {
      "cell_type": "code",
      "metadata": {},
      "source": [
        "build_tweaks = {\n",
        "    # TF coil optimisation tweakers (n ripple filaments)\n",
        "    \"nr\": 1,\n",
        "    \"ny\": 1,\n",
        "    \"nrippoints\": 20,  # Number of points to check edge ripple on\n",
        "}"
      ],
      "outputs": [],
      "execution_count": null
    },
    {
      "cell_type": "markdown",
      "metadata": {},
      "source": [
        "Now we can define our reactors for each run. You could call the build() function if\n",
        "you'd like to see how the runs execute and the results that they produce, but we won't\n",
        "do that as part of this tutorial."
      ]
    },
    {
      "cell_type": "code",
      "metadata": {},
      "source": [
        "r_run1 = MyReactor(config_run1, build_config, build_tweaks)\n",
        "r_run2 = MyReactor(config_run2, build_config, build_tweaks)\n",
        "r_run3 = MyReactor(config_run3, build_config, build_tweaks)\n",
        "r_run4 = MyReactor(config_run4, build_config, build_tweaks)"
      ],
      "outputs": [],
      "execution_count": null
    },
    {
      "cell_type": "markdown",
      "metadata": {},
      "source": [
        "## Extracting and Importing Configuration Parameters\n",
        "\n",
        "The method for defining our configuration that we've used so far is fine if we're\n",
        "writing our configuration in Python. However, it may be convenient to save and load\n",
        "configuration parameters from text files. This is supported in BLUEPRINT in JSON\n",
        "format.\n",
        "\n",
        "### Extracting a BLUEPRINT configuration\n",
        "\n",
        "Let's first look at how to extract a configuration from BLUEPRINT. This can be done in\n",
        "two levels of verbosity: concise and verbose. The concise level just gives the\n",
        "parameter names and their values, while the verbose level expands each parameter with\n",
        "it's metadata. The default verbosity level is concise."
      ]
    },
    {
      "cell_type": "code",
      "metadata": {},
      "source": [
        "concise_json = core_c.to_json()\n",
        "verbose_json = core_c.to_json(verbose=True)"
      ],
      "outputs": [],
      "execution_count": null
    },
    {
      "cell_type": "markdown",
      "metadata": {},
      "source": [
        "It is also possible to write the configuration to JSON files."
      ]
    },
    {
      "cell_type": "code",
      "metadata": {},
      "source": [
        "core_c.to_json(\n",
        "    output_path=f\"{get_bluemira_root()}/examples/BLUEPRINT/systems/config_data/core_c_concise_out.json\"\n",
        ")\n",
        "core_c.to_json(\n",
        "    output_path=f\"{get_bluemira_root()}/examples/BLUEPRINT/systems/config_data/core_c_verbose_out.json\",\n",
        "    verbose=True,\n",
        ")"
      ],
      "outputs": [],
      "execution_count": null
    },
    {
      "cell_type": "markdown",
      "metadata": {},
      "source": [
        "### Loading a BLUEPRINT configuration\n",
        "\n",
        "We can also load configurations from JSON files. In this case the verbose and concise\n",
        "configuration formats perform two different roles.\n",
        "\n",
        "*  Verbose configurations allow the full configuration to be defined, along with\n",
        "   metadata;\n",
        "*  Concise configurations allow values to be set on defined paramters.\n",
        "\n",
        "\n",
        "Let's take a look at loading a verbose configuration first."
      ]
    },
    {
      "cell_type": "code",
      "metadata": {},
      "source": [
        "class MyVerboseReactor(Reactor):\n",
        "    \"\"\"\n",
        "    My custom reactor class using a verbose configuration loaded from file.\n",
        "    \"\"\"\n",
        "\n",
        "    config: dict\n",
        "    build_config: dict\n",
        "    build_tweaks: dict\n",
        "    default_params = Configuration.from_json(\n",
        "        f\"{get_bluemira_root()}/examples/BLUEPRINT/systems/config_data/verbose_in.json\"\n",
        "    ).to_records()\n",
        "\n",
        "\n",
        "# Make a reactor that just uses the default configuration values\n",
        "r_verbose = MyVerboseReactor({}, build_config, build_tweaks)"
      ],
      "outputs": [],
      "execution_count": null
    },
    {
      "cell_type": "markdown",
      "metadata": {},
      "source": [
        "Next let's load a concise configuration. Notice how in this case we need a default set\n",
        "of configuration values that have their values set using the concise configuration\n",
        "format. This allows the default metadata to be used, but the specific values in the\n",
        "configuration are set. In turn, this allows multiple analyses to be loaded from\n",
        "different files, allowing a record of those analyses to be held in JSON format."
      ]
    },
    {
      "cell_type": "code",
      "metadata": {},
      "source": [
        "class MyConciseReactor(Reactor):\n",
        "    \"\"\"\n",
        "    My custom reactor class using a concise configuration loaded from file.\n",
        "    \"\"\"\n",
        "\n",
        "    config_path: str\n",
        "    config: dict\n",
        "    build_config: dict\n",
        "    build_tweaks: dict\n",
        "    default_params = Configuration().to_records()\n",
        "\n",
        "    def __init__(self, config_path, build_config, build_tweaks):\n",
        "        config = Configuration().set_values_from_json(config_path).to_dict()\n",
        "        super().__init__(config, build_config, build_tweaks)\n",
        "\n",
        "\n",
        "# Make a reactor that loads all the configuration values from a file\n",
        "r_concise = MyConciseReactor(\n",
        "    f\"{get_bluemira_root()}/examples/BLUEPRINT/systems/config_data/concise_in.json\",\n",
        "    build_config,\n",
        "    build_tweaks,\n",
        ")"
      ],
      "outputs": [],
      "execution_count": null
    },
    {
      "cell_type": "markdown",
      "metadata": {},
      "source": [
        "In this case we've set all the values in our configuration, which is great for knowing\n",
        "exactly what we ran with, for example if the default values change as some point in\n",
        "the future. However, that may be overkill if we're making some exploratory runs, so\n",
        "it's also possible to a partial concise configuration that only sets the values that\n",
        "we want to change."
      ]
    },
    {
      "cell_type": "code",
      "metadata": {},
      "source": [
        "r_partial = MyConciseReactor(\n",
        "    f\"{get_bluemira_root()}/examples/BLUEPRINT/systems/config_data/partial_in.json\",\n",
        "    build_config,\n",
        "    build_tweaks,\n",
        ")"
      ],
      "outputs": [],
      "execution_count": null
    },
    {
      "cell_type": "markdown",
      "metadata": {},
      "source": [
        "The configuration is used to set the params attribute on the reactor, so we can\n",
        "extract that back to JSON if we've setted on the values that we want to run with\n",
        "and want to extract the full set."
      ]
    },
    {
      "cell_type": "code",
      "metadata": {},
      "source": [
        "r_partial.params.to_json(\n",
        "    f\"{get_bluemira_root()}/examples/BLUEPRINT/systems/config_data/partial_full_out.json\"\n",
        ")"
      ],
      "outputs": [],
      "execution_count": null
    },
    {
      "cell_type": "markdown",
      "metadata": {},
      "source": [
        "## Extending the BLUEPRINT configuration\n",
        "\n",
        "It is possible to add new parameters or to define new values for parameters by\n",
        "extending the core BLUEPRINT configuration. This section gives some examples to\n",
        "show how you might go about doing that.\n",
        "\n",
        "### Schema Definition\n",
        "\n",
        "The configuration schema tells BLUEPRINT what parameters are available for that run.\n",
        "The basic set of parameters are defined in the `ConfigurationSchema` class. However,\n",
        "it is possible to add new parameters with a custom schema class, which inherits from\n",
        "the basic `ConfigurationSchema`. This could be useful if you'd want to provide\n",
        "additional functionality in BLUEPRINT that needs your new parameter.\n",
        "\n",
        "---\n",
        "**Note**\n",
        "The schema class should only contain parameters, it should not contain any functions.\n",
        "---"
      ]
    },
    {
      "cell_type": "code",
      "metadata": {},
      "source": [
        "class MyExtendedConfigurationSchema(ConfigurationSchema):\n",
        "    \"\"\"\n",
        "    A custom schema that extends the core BLUEPRINT configuration with my_new_parameter.\n",
        "    \"\"\"\n",
        "\n",
        "    my_new_parameter: Parameter"
      ],
      "outputs": [],
      "execution_count": null
    },
    {
      "cell_type": "markdown",
      "metadata": {},
      "source": [
        "### Configuration definition\n",
        "\n",
        "Once you've defined your configuration schema, you can then use it in a Configuration\n",
        "class. If you're extending the base configuration class, which will be most likely,\n",
        "then you can define the default parameters for your configuration by extending the\n",
        "default_params from the core Configuration class. You can also define custom values\n",
        "for your specific Configuration class."
      ]
    },
    {
      "cell_type": "code",
      "metadata": {},
      "source": [
        "class MyExtendedConfiguration(MyExtendedConfigurationSchema, ParameterFrame):\n",
        "    \"\"\"\n",
        "    A custom configuration that extends the core BLUEPRINT configuration with\n",
        "    my_new_parameter and sets a custom major radius value.\n",
        "    \"\"\"\n",
        "\n",
        "    # Add our new parameter and default value to the list of default parameters\n",
        "    params = Configuration.params + [[\"my_new_parameter\", \"Super Awesome Config!\", 42]]\n",
        "\n",
        "    new_params = {\"R_0\": 6}\n",
        "\n",
        "    def __init__(self, default_params=params, custom_params=new_params):\n",
        "        super().__init__(default_params)\n",
        "        if custom_params is not None:\n",
        "            self.add_parameters(custom_params)"
      ],
      "outputs": [],
      "execution_count": null
    },
    {
      "cell_type": "markdown",
      "metadata": {},
      "source": [
        "If you want a new configuration that uses the same default parameters but sets\n",
        "some different custom parameter values then you can define a class that sets\n",
        "these."
      ]
    },
    {
      "cell_type": "code",
      "metadata": {},
      "source": [
        "class MyNewConfiguration(MyExtendedConfiguration):\n",
        "    \"\"\"\n",
        "    A custom class that sets some different custom parameter values.\n",
        "    \"\"\"\n",
        "\n",
        "    new_params = {\n",
        "        **MyExtendedConfiguration.new_params,\n",
        "        \"Name\": \"Super Reactor!\",\n",
        "        \"my_new_parameter\": 999,\n",
        "    }\n",
        "\n",
        "    def __init__(\n",
        "        self, default_params=MyExtendedConfiguration.params, custom_params=new_params\n",
        "    ):\n",
        "        super().__init__(default_params)\n",
        "        if custom_params is not None:\n",
        "            self.add_parameters(custom_params)"
      ],
      "outputs": [],
      "execution_count": null
    },
    {
      "cell_type": "markdown",
      "metadata": {},
      "source": [
        "Or you can set the custom params when you create an instance of that class."
      ]
    },
    {
      "cell_type": "code",
      "metadata": {},
      "source": [
        "my_new_config = MyExtendedConfiguration(custom_params=MyNewConfiguration.new_params)"
      ],
      "outputs": [],
      "execution_count": null
    },
    {
      "cell_type": "markdown",
      "metadata": {},
      "source": [
        "We can check the two methods are equivalent."
      ]
    },
    {
      "cell_type": "code",
      "metadata": {},
      "source": [
        "my_new_config.to_records() == MyNewConfiguration().to_records()"
      ],
      "outputs": [],
      "execution_count": null
    }
  ],
  "metadata": {
    "anaconda-cloud": {},
    "kernelspec": {
      "display_name": "Python 3",
      "language": "python",
      "name": "python3"
    },
    "language_info": {
      "codemirror_mode": {
        "name": "ipython",
        "version": 3
      },
      "file_extension": ".py",
      "mimetype": "text/x-python",
      "name": "python",
      "nbconvert_exporter": "python",
      "pygments_lexer": "ipython3",
      "version": "3.8.12"
    }
  },
  "nbformat": 4,
  "nbformat_minor": 4
}