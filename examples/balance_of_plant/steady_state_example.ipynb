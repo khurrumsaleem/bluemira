{
  "cells": [
    {
      "cell_type": "code",
      "metadata": {},
      "source": [
        "from bluemira.balance_of_plant.steady_state import (\n",
        "    BalanceOfPlantModel,\n",
        "    H2OPumping,\n",
        "    HePumping,\n",
        "    NeutronPowerStrategy,\n",
        "    ParasiticLoadStrategy,\n",
        "    PredeterminedEfficiency,\n",
        "    RadChargedPowerStrategy,\n",
        "    SuperheatedRankine,\n",
        ")\n",
        "from bluemira.base.parameter import ParameterFrame"
      ],
      "outputs": [],
      "execution_count": null
    },
    {
      "cell_type": "markdown",
      "metadata": {},
      "source": [
        "\n",
        "Let's set up a typical power balance model. We start by specifying some parameters we\n",
        "want to use."
      ]
    },
    {
      "cell_type": "code",
      "metadata": {},
      "source": [
        "# fmt: off\n",
        "default_params = ParameterFrame([\n",
        "    ['P_fus_DT', 'D-T fusion power', 1995, 'MW', None, 'Input'],\n",
        "    ['P_fus_DD', 'D-D fusion power', 5, 'MW', None, 'Input'],\n",
        "    ['P_rad', 'Radiation power', 400, 'MW', None, 'Input'],\n",
        "    ['P_hcd_ss', \"Steady-state heating and current drive power\", 50, \"MW\", None, 'Input'],\n",
        "    ['P_hcd_ss_el', \"Steady-state heating and current drive electrical power\", 150, \"MW\", None, 'Input'],\n",
        "])\n",
        "# fmt: on"
      ],
      "outputs": [],
      "execution_count": null
    },
    {
      "cell_type": "markdown",
      "metadata": {},
      "source": [
        "\n",
        "We then weed to specify how we're going to treat the neutrons, radiation, and charged\n",
        "particle loads. We do this by specifying \"strategies\"."
      ]
    },
    {
      "cell_type": "code",
      "metadata": {},
      "source": [
        "neutron_power_strat = NeutronPowerStrategy(\n",
        "    f_blanket=0.9,\n",
        "    f_divertor=0.05,\n",
        "    f_vessel=0.04,\n",
        "    f_other=0.01,\n",
        "    energy_multiplication=1.35,\n",
        "    decay_multiplication=1.0175,\n",
        ")\n",
        "rad_sep_strat = RadChargedPowerStrategy(\n",
        "    f_core_rad_fw=0.9,\n",
        "    f_sol_rad=0.75,\n",
        "    f_sol_rad_fw=0.8,\n",
        "    f_sol_ch_fw=0.8,\n",
        "    f_fw_aux=0.09,\n",
        ")"
      ],
      "outputs": [],
      "execution_count": null
    },
    {
      "cell_type": "markdown",
      "metadata": {},
      "source": [
        "\n",
        "Now we specify how the in-vessel components are being cooled, to calculate pumping\n",
        "powers, and the balance of plant cycle design."
      ]
    },
    {
      "cell_type": "code",
      "metadata": {},
      "source": [
        "blanket_pump_strat = HePumping(8, 7.5, 300, 500, eta_isentropic=0.9, eta_electric=0.87)\n",
        "bop_cycle = SuperheatedRankine(bb_t_out=500, delta_t_turbine=20)\n",
        "divertor_pump_strat = H2OPumping(f_pump=0.05, eta_isentropic=0.99, eta_electric=0.87)"
      ],
      "outputs": [],
      "execution_count": null
    },
    {
      "cell_type": "markdown",
      "metadata": {},
      "source": [
        "\n",
        "Maybe we don't have any good models to estimate some of the other parasitic loads. We\n",
        "can set up a simple scaling with respect to a known reference point, by sub-classing\n",
        "from the ABC and specifying some calculation in the `calculate` method."
      ]
    },
    {
      "cell_type": "code",
      "metadata": {},
      "source": [
        "class EUDEMOReferenceParasiticLoadStrategy(ParasiticLoadStrategy):\n",
        "    \"\"\"\n",
        "    One way of defining the parasitic loads w.r.t. a known reference point.\n",
        "    \"\"\"\n",
        "\n",
        "    def __init__(self):\n",
        "        self.p_fusion_ref = 2037\n",
        "        self.p_cryo = 44\n",
        "        self.p_mag = 44\n",
        "        self.p_t_plant = 15.5\n",
        "        self.p_other = 31\n",
        "\n",
        "    def calculate(self, p_fusion):\n",
        "        \"\"\"\n",
        "        Because we were told to do this. Nobody trusts models.\n",
        "        \"\"\"\n",
        "        f_norm = p_fusion / self.p_fusion_ref\n",
        "        p_mag = f_norm * self.p_mag\n",
        "        p_cryo = f_norm * self.p_cryo\n",
        "        p_t_plant = f_norm * self.p_t_plant\n",
        "        p_other = f_norm * self.p_other\n",
        "        return p_mag, p_cryo, p_t_plant, p_other\n",
        "\n",
        "\n",
        "parasitic_load_strat = EUDEMOReferenceParasiticLoadStrategy()"
      ],
      "outputs": [],
      "execution_count": null
    },
    {
      "cell_type": "markdown",
      "metadata": {},
      "source": [
        "\n",
        "Now, we put everything together and build it"
      ]
    },
    {
      "cell_type": "code",
      "metadata": {},
      "source": [
        "HCPB_bop = BalanceOfPlantModel(\n",
        "    default_params,\n",
        "    rad_sep_strat=rad_sep_strat,\n",
        "    neutron_strat=neutron_power_strat,\n",
        "    blanket_pump_strat=blanket_pump_strat,\n",
        "    divertor_pump_strat=divertor_pump_strat,\n",
        "    bop_cycle_strat=bop_cycle,\n",
        "    parasitic_load_strat=parasitic_load_strat,\n",
        ")\n",
        "HCPB_bop.build()"
      ],
      "outputs": [],
      "execution_count": null
    },
    {
      "cell_type": "markdown",
      "metadata": {},
      "source": [
        "\n",
        "And we can take a look..."
      ]
    },
    {
      "cell_type": "code",
      "metadata": {},
      "source": [
        "HCPB_bop.plot(title=\"HCPB blanket\")"
      ],
      "outputs": [],
      "execution_count": null
    },
    {
      "cell_type": "markdown",
      "metadata": {},
      "source": [
        "\n",
        "What about if we had a different blanket concept? The coolant is different, which means\n",
        "the pumping loads will differ, and the power cycle will also be different. It's likely\n",
        "that the energy multiplication is different too"
      ]
    },
    {
      "cell_type": "code",
      "metadata": {},
      "source": [
        "neutron_power_strat = NeutronPowerStrategy(\n",
        "    f_blanket=0.9,\n",
        "    f_divertor=0.05,\n",
        "    f_vessel=0.04,\n",
        "    f_other=0.01,\n",
        "    energy_multiplication=1.25,\n",
        "    decay_multiplication=1.002,\n",
        ")\n",
        "blanket_pump_strat = H2OPumping(0.005, eta_isentropic=0.99, eta_electric=0.87)\n",
        "bop_cycle = PredeterminedEfficiency(0.33)\n",
        "\n",
        "WCLL_bop = BalanceOfPlantModel(\n",
        "    default_params,\n",
        "    rad_sep_strat=rad_sep_strat,\n",
        "    neutron_strat=neutron_power_strat,\n",
        "    blanket_pump_strat=blanket_pump_strat,\n",
        "    divertor_pump_strat=divertor_pump_strat,\n",
        "    bop_cycle_strat=bop_cycle,\n",
        "    parasitic_load_strat=parasitic_load_strat,\n",
        ")\n",
        "WCLL_bop.build()\n",
        "WCLL_bop.plot(title=\"WCLL blanket\")"
      ],
      "outputs": [],
      "execution_count": null
    }
  ],
  "metadata": {
    "anaconda-cloud": {},
    "kernelspec": {
      "display_name": "Python 3",
      "language": "python",
      "name": "python3"
    },
    "language_info": {
      "codemirror_mode": {
        "name": "ipython",
        "version": 3
      },
      "file_extension": ".py",
      "mimetype": "text/x-python",
      "name": "python",
      "nbconvert_exporter": "python",
      "pygments_lexer": "ipython3",
      "version": "3.8.12"
    }
  },
  "nbformat": 4,
  "nbformat_minor": 4
}
