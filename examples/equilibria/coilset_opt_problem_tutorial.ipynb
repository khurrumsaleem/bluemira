{
  "cells": [
    {
      "cell_type": "markdown",
      "metadata": {},
      "source": [
        "\n",
        "# Introduction\n",
        "\n",
        "In this example, we will outline how to specify a CoilsetOptimisationProblem\n",
        "that specifies how an 'optimised' coilset state is found during the Free Boundary\n",
        "Equilibrium solve step.\n",
        "\n",
        "# Imports\n",
        "\n",
        "Import necessary equilbria module definitions."
      ]
    },
    {
      "cell_type": "code",
      "metadata": {},
      "source": [
        "import matplotlib.pyplot as plt\n",
        "import numpy as np\n",
        "\n",
        "import bluemira.equilibria.opt_constraint_funcs as opt_constraint_funcs\n",
        "from bluemira.equilibria.coils import Coil, CoilSet, SymmetricCircuit\n",
        "from bluemira.equilibria.equilibrium import Equilibrium\n",
        "from bluemira.equilibria.grid import Grid\n",
        "from bluemira.equilibria.opt_constraints import IsofluxConstraint, MagneticConstraintSet\n",
        "from bluemira.equilibria.opt_problems import (\n",
        "    TikhonovCurrentCOP,\n",
        "    UnconstrainedTikhonovCurrentGradientCOP,\n",
        ")\n",
        "from bluemira.equilibria.profiles import CustomProfile\n",
        "from bluemira.equilibria.solve import DudsonConvergence, PicardIterator\n",
        "from bluemira.utilities.opt_problems import OptimisationConstraint\n",
        "from bluemira.utilities.optimiser import Optimiser"
      ],
      "outputs": [],
      "execution_count": null
    },
    {
      "cell_type": "markdown",
      "metadata": {},
      "source": [
        "\n",
        "# OptimisationProblem\n",
        "\n",
        "The `OptimisationProblem` class is intended to be the general base class for defining\n",
        "optimisation problems across Bluemira.\n",
        "\n",
        "It is constructed from the following four objects:\n",
        "- `parameterisation`\n",
        "    - Object storing data that is updated during the optimisation to be carried out.\n",
        "- `optimiser: Optimiser`\n",
        "    - `Optimiser` object specifying the numerical algorithm used to optimise an array\n",
        "       representing the parameterisation state. Usually based on NLOpt.\n",
        "- `objective: OptimisationObjective`\n",
        "    - OptimisationObjective object, specifying objective function to be minimised\n",
        "      during optimisation.\n",
        "- `constraints: List[OptimisationConstraint]`\n",
        "    - List of `OptimisationConstraints`, specifying the set of constraints that must\n",
        "      be satisfied during the numerical optimisation.\n",
        "\n",
        "\n",
        "The goal of the `OptimisationProblem` is to be able to return an optimised\n",
        "parameterisation, judged according to the provided objective, subject to\n",
        "the set of constraints, using a numerical search algorithm defined in the optimiser.\n",
        "\n",
        "Crucially, it provides an `optimise()` method that returns this optimised\n",
        "parameterisation. Subclasses may override this `optimise()` method, but must still\n",
        "return an optimised parametrisation when `optimise()` is called\n",
        "on the OptimisationProblem.\n",
        "\n",
        "A `CoilsetOP` is a subclass of `OptimisationProblem`, intended for problems where\n",
        "the parameterisation is a `CoilSet` object, which provides some useful additional\n",
        "methods for getting and setting coilset state vectors/arrays.\n",
        "\n",
        "Subclasses of `CoilsetOP`, such as `BoundedCurrentCOP` or `NestedCoilsetPositionCOP`,\n",
        "can be made to bind a `CoilsetOP` to a specific objective function, which is often\n",
        "useful for performance reasons where some data in the OptimisationProblem\n",
        "does not need to be updated at every iteration.\n",
        "\n",
        "# Example\n",
        "We will present an example problem where we take an existing `CoilsetOP`subclass,\n",
        "`BoundedCurrentCOP`, and apply some additional constraints that\n",
        "must be held during the optimisation.\n",
        "\n",
        "As the objective function for the `BoundedCurrentCOP` OptimisationProblem is already\n",
        "specified, we only need to provide the `coilset` (parameterisation), `Optimiser`,\n",
        "`OptimisationConstraints`, and any additional arguments that are used in the\n",
        "`BoundedCurrentCOP` objective function.\n",
        "\n",
        "### Parametrisation\n",
        "\n",
        "We first define the parameterisation to be used in the OptimisationProblem.\n",
        "This is just the starting `coilset` in this case."
      ]
    },
    {
      "cell_type": "code",
      "metadata": {},
      "source": [
        "coil_x = [1.05, 6.85, 6.85, 1.05, 3.2, 5.7, 5.3]\n",
        "coil_z = [7.85, 4.75, 3.35, 6.0, 8.0, 7.8, 5.50]\n",
        "coil_dx = [0.45, 0.5, 0.5, 0.3, 0.6, 0.5, 0.25]\n",
        "coil_dz = [0.5, 0.8, 0.8, 0.8, 0.5, 0.5, 0.5]\n",
        "currents = [0, 0, 0, 0, 0, 0, 0]\n",
        "\n",
        "circuits = []\n",
        "for i in range(len(coil_x)):\n",
        "    coil = Coil(\n",
        "        coil_x[i],\n",
        "        coil_z[i],\n",
        "        dx=coil_dx[i] / 2,\n",
        "        dz=coil_dz[i] / 2,\n",
        "        current=currents[i],\n",
        "        ctype=\"PF\",\n",
        "    )\n",
        "    circuit = SymmetricCircuit(coil)\n",
        "    circuits.append(circuit)\n",
        "coilset = CoilSet(*circuits)"
      ],
      "outputs": [],
      "execution_count": null
    },
    {
      "cell_type": "markdown",
      "metadata": {},
      "source": [
        "\n",
        "### Optimiser\n",
        "\n",
        "We next define the `Optimiser` to be used. There is no one-size-fits-all approach\n",
        "here, as the best optimiser for a given problem will depend strongly on the\n",
        "OptimisationObjective and OptimisationConstraints being applied in the problem.\n",
        "\n",
        "`Optimiser` is currently only a wrapper for NLOpt based optimisers, and as such,\n",
        "the range of algorithms that may be chosen is determined by those available in\n",
        "the NLOpt library. Not all algorithms will work for all objectives - some\n",
        "require gradient information, for example - and some require additional parameters.\n",
        "Check the NLOpt API documentation for more details.\n",
        "\n",
        "Care must also be taken to ensure the termination criteria for the optimisation\n",
        "are suitable. Otherwise, the optimisation may never stop running if tolerances\n",
        "are too tight, or may stop early and return poorly optimised states if the\n",
        "maximum number of evaluations is too low or tolerances are too large."
      ]
    },
    {
      "cell_type": "code",
      "metadata": {},
      "source": [
        "optimiser = Optimiser(\n",
        "    algorithm_name=\"COBYLA\",\n",
        "    opt_conditions={\"max_eval\": 200},\n",
        "    opt_parameters={\"initial_step\": 0.03},\n",
        ")"
      ],
      "outputs": [],
      "execution_count": null
    },
    {
      "cell_type": "markdown",
      "metadata": {},
      "source": [
        "\n",
        "### Additional Parameters\n",
        "\n",
        "`BoundedCurrentCOP` requires two additional parameters for generating arguments for\n",
        "its `OptimisationObjective` during its `optimise()` call. The `OptimisationObjective`\n",
        "figure of merit for `BoundedCurrentCOP` is the regularised least-squares deviation of a\n",
        "provided Equilibrium from a set of magnetic field targets (eg. isoflux targets).\n",
        "\n",
        "We use a default set of isoflux targets here for this example."
      ]
    },
    {
      "cell_type": "code",
      "metadata": {},
      "source": [
        "x_lcfs = np.array([1.0, 1.67, 4.0, 1.73])\n",
        "z_lcfs = np.array([0, 4.19, 0, -4.19])\n",
        "\n",
        "lcfs_isoflux = IsofluxConstraint(\n",
        "    x_lcfs, z_lcfs, ref_x=x_lcfs[2], ref_z=z_lcfs[2], constraint_value=0.1\n",
        ")\n",
        "\n",
        "x_lfs = np.array([1.86, 2.53, 3.43, 5.80, 6.70])\n",
        "z_lfs = np.array([4.80, 5.84, 6.60, 6.71, 6.71])\n",
        "x_hfs = np.array([1.42, 0.81, 0.62, 0.64, 0.60])\n",
        "z_hfs = np.array([4.80, 5.38, 6.01, 6.82, 7.34])\n",
        "\n",
        "\n",
        "x_legs = np.concatenate([x_lfs, x_lfs, x_hfs, x_hfs])\n",
        "z_legs = np.concatenate([z_lfs, -z_lfs, z_hfs, -z_hfs])\n",
        "\n",
        "legs_isoflux = IsofluxConstraint(\n",
        "    x_legs, z_legs, ref_x=x_lcfs[2], ref_z=z_lcfs[2], constraint_value=0.1\n",
        ")\n",
        "\n",
        "magnetic_targets = MagneticConstraintSet([lcfs_isoflux, legs_isoflux])\n",
        "magnetic_core_targets = MagneticConstraintSet([lcfs_isoflux])"
      ],
      "outputs": [],
      "execution_count": null
    },
    {
      "cell_type": "markdown",
      "metadata": {},
      "source": [
        "\n",
        "We also specify an initial Equilibrium state to be used in the optimisation.\n",
        "\n",
        "For this we need a Grid and some plasma profiles"
      ]
    },
    {
      "cell_type": "code",
      "metadata": {},
      "source": [
        "# Intialise some parameters\n",
        "R_0 = 2.6\n",
        "Z_0 = 0\n",
        "B_t = 1.9\n",
        "I_p = 16e6\n",
        "\n",
        "r0, r1 = 0.2, 8\n",
        "z0, z1 = -8, 8\n",
        "nx, nz = 129, 257\n",
        "grid = Grid(r0, r1, z0, z1, nx, nz)\n",
        "\n",
        "# fmt: off\n",
        "pprime = np.array(\n",
        "    [\n",
        "        -850951, -844143, -782311, -714610, -659676, -615987, -572963, -540556, -509991,\n",
        "        -484261, -466462, -445186, -433472, -425413, -416325, -411020, -410672, -406795,\n",
        "        -398001, -389309, -378528, -364607, -346119, -330297, -312817, -293764, -267515,\n",
        "        -261466, -591725, -862663,\n",
        "    ]\n",
        ")\n",
        "ffprime = np.array(\n",
        "    [\n",
        "        7.23, 5.89, 4.72, 3.78, 3.02, 2.39, 1.86, 1.43, 1.01, 0.62, 0.33, 0.06, -0.27,\n",
        "        -0.61, -0.87, -1.07, -1.24, -1.18, -0.83, -0.51, -0.2, 0.08, 0.24, 0.17, 0.13,\n",
        "        0.1, 0.07, 0.05, 0.15, 0.28,\n",
        "    ]\n",
        ")\n",
        "# fmt: on\n",
        "\n",
        "profiles = CustomProfile(pprime, ffprime, R_0=R_0, B_0=B_t, I_p=I_p)\n",
        "eq = Equilibrium(\n",
        "    coilset,\n",
        "    grid,\n",
        "    profiles,\n",
        "    force_symmetry=True,\n",
        "    vcontrol=None,\n",
        "    psi=None,\n",
        "    li=None,\n",
        ")"
      ],
      "outputs": [],
      "execution_count": null
    },
    {
      "cell_type": "markdown",
      "metadata": {},
      "source": [
        "\n",
        "### Constraints\n",
        "\n",
        "We next define the list of `OptimisationConstraints` to apply.\n",
        "In this case, we wish to apply a constraint to prevent solutions where the\n",
        "plasma boundary at the inboard midplane of the plasma is prevented from moving\n",
        "inside a provided radius.\n",
        "\n",
        "We will use `bluemira.equilibria.opt_constraints.current_midplane_constraint`\n",
        "as our constraint function here to do this.\n",
        "\n",
        "```python\n",
        "def current_midplane_constraint(\n",
        "    constraint, vector, grad, opt_problem, radius, inboard=True\n",
        "):\n",
        "    \"\"\"\n",
        "    Constraint function to constrain the inboard or outboard midplane\n",
        "    of the plasma during optimisation.\n",
        "\n",
        "    Parameters\n",
        "    ----------\n",
        "    radius: float\n",
        "        Toroidal radius at which to constrain the plasma midplane.\n",
        "    inboard: bool (default=True)\n",
        "        Boolean controlling whether to constrain the inboard (if True) or\n",
        "        outboard (if False) side of the plasma midplane.\n",
        "    \"\"\"\n",
        "    coilset_state = np.concatenate((opt_problem.x0, opt_problem.z0, vector))\n",
        "    opt_problem.set_coilset_state(coilset_state)\n",
        "    lcfs = opt_problem.eq.get_LCFS()\n",
        "    if inboard:\n",
        "        constraint[:] = radius - min(lcfs.x)\n",
        "    else:\n",
        "        constraint[:] = max(lcfs.x) - radius\n",
        "    return constraint\n",
        "```\n",
        "\n",
        "The first three arguments here are expected by NLOpt, and must always be present in\n",
        "constraint functions.\n",
        "- constraint\n",
        "    - np.array storing constraint information. During the optimisation,\n",
        "      `constraint[:]<=0` is considered to represent the constraint being satisfied,\n",
        "      and `constraint[:]>0` represents the constraint being violated.\n",
        "- vector\n",
        "    - np.array representing the state vector that is optimised during the\n",
        "      numerical optimisation.\n",
        "- grad\n",
        "    - np.array representing Jacobian for the constraint function. This must always\n",
        "      be present in the arguments, but only needs to be calculated if the `Optimiser`\n",
        "      is employing an algorithm that requires derivative information.\n",
        "\n",
        "The fourth, `opt_problem`, is optional, and provides an interface to the\n",
        "`OptimisationProblem` the constraint is applied to. This may be useful for performance\n",
        "reasons, where data needed by the `constraint` does not need to be updated every\n",
        "iteration of the optimisation. Where possible, explicit arguments should be provided to\n",
        "the `OptimisationProblem`, however.\n",
        "\n",
        "The remaining arguments are explicit arguments that can be passed to the constraint to\n",
        "control its behaviour.\n",
        "\n",
        "This constraint function can be passed to a `OptimisationConstraint` object, along with\n",
        "explicit arguments, constraint tolerances, and constraint type, that is used by\n",
        "NLOpt when applying the constraint.\n",
        "\n",
        "User specified constraints can be supplied here, if so desired."
      ]
    },
    {
      "cell_type": "code",
      "metadata": {},
      "source": [
        "opt_constraint_funcs = [\n",
        "    OptimisationConstraint(\n",
        "        f_constraint=opt_constraint_funcs.current_midplane_constraint,\n",
        "        f_constraint_args={\"eq\": eq, \"radius\": 1.0, \"scale\": 1e6},\n",
        "        tolerance=np.array([1e-4]),\n",
        "        constraint_type=\"inequality\",\n",
        "    )\n",
        "]"
      ],
      "outputs": [],
      "execution_count": null
    },
    {
      "cell_type": "markdown",
      "metadata": {},
      "source": [
        "\n",
        "We now have all the requirements to specify our `CoilsetOP`, and can now initialise it:"
      ]
    },
    {
      "cell_type": "code",
      "metadata": {},
      "source": [
        "opt_problem = TikhonovCurrentCOP(\n",
        "    coilset,\n",
        "    eq,\n",
        "    magnetic_targets,\n",
        "    gamma=1e-8,\n",
        "    max_currents=3.0e7,\n",
        "    optimiser=optimiser,\n",
        "    constraints=opt_constraint_funcs,\n",
        ")"
      ],
      "outputs": [],
      "execution_count": null
    },
    {
      "cell_type": "markdown",
      "metadata": {},
      "source": [
        "\n",
        "# Iterators\n",
        "\n",
        "The `CoilsetOP` is only used to optimise the coilset state at fixed plasma psi;\n",
        "the Grad-Shafranov equation for the plasma is not guaranteed to still be satisfied\n",
        "after the coilset state is optimised.\n",
        "\n",
        "Picard iteration is therefore used to find a self-consistent solution, employed\n",
        "by `Iterator` objects. `PicardCoilsetIterator` specifies a scheme in which a\n",
        "Grad-Shafranov iteration is used to update the plasma psi alternate with Coilset\n",
        "optimisation at fixed plasma psi until the psi converges for the `Equilbrium`."
      ]
    },
    {
      "cell_type": "code",
      "metadata": {},
      "source": [
        "constrained_iterator = PicardIterator(\n",
        "    eq,\n",
        "    opt_problem,\n",
        "    plot=False,\n",
        "    relaxation=0.3,\n",
        "    maxiter=400,\n",
        "    convergence=DudsonConvergence(1e-4),\n",
        ")"
      ],
      "outputs": [],
      "execution_count": null
    },
    {
      "cell_type": "markdown",
      "metadata": {},
      "source": [
        "\n",
        "However, a poor initial `Equilibrium` (with corresponding `coilset`) will lead\n",
        "to difficulties during the Picard iteration used to find a self-consistent solution.\n",
        "It is therefore useful to perform a coarser fast pre-optimisation to try find a\n",
        "self-consistent state within the basin of convergence of the\n",
        "full constrained `OptimisationProblem`."
      ]
    },
    {
      "cell_type": "code",
      "metadata": {},
      "source": [
        "unconstrained_cop = UnconstrainedTikhonovCurrentGradientCOP(\n",
        "    coilset, eq, magnetic_targets, gamma=1e-8\n",
        ")\n",
        "unconstrained_iterator = PicardIterator(\n",
        "    eq,\n",
        "    unconstrained_cop,\n",
        "    plot=False,\n",
        "    relaxation=0.3,\n",
        "    convergence=DudsonConvergence(1e-2),\n",
        "    maxiter=400,\n",
        ")"
      ],
      "outputs": [],
      "execution_count": null
    },
    {
      "cell_type": "markdown",
      "metadata": {},
      "source": [
        "\n",
        "# FBE Optimisation\n",
        "We have now initialised the necessary objects to perform the optimisation of the\n",
        "`coilset` state.\n",
        "\n",
        "We first plot the initial `Equilibrium` state - as the initial coilset for this\n",
        "example has no current in the coils, it is predictably extremely poor!"
      ]
    },
    {
      "cell_type": "code",
      "metadata": {},
      "source": [
        "f, ax = plt.subplots()\n",
        "eq.plot(ax=ax)\n",
        "unconstrained_cop.targets.plot(ax=ax)"
      ],
      "outputs": [],
      "execution_count": null
    },
    {
      "cell_type": "markdown",
      "metadata": {},
      "source": [
        "\n",
        "### Pre-optimisation\n",
        "\n",
        "Constrained optimisation of this poor initial state would be difficult, as\n",
        "local optimisers would likely struggle to find the basin of convergence of\n",
        "the desired state.\n",
        "\n",
        "We therefore perform a fast pre-optimisation to get closer to a physical\n",
        "state that satisfies our constrained optimisation problem."
      ]
    },
    {
      "cell_type": "code",
      "metadata": {},
      "source": [
        "unconstrained_iterator()\n",
        "\n",
        "f, ax = plt.subplots()\n",
        "eq.plot(ax=ax)\n",
        "magnetic_targets.plot(ax=ax)\n",
        "plt.show()"
      ],
      "outputs": [],
      "execution_count": null
    },
    {
      "cell_type": "markdown",
      "metadata": {},
      "source": [
        "\n",
        "### Constrained Optimisation\n",
        "\n",
        "Now we have a better starting `Equilibrium` for our constrained optimisation"
      ]
    },
    {
      "cell_type": "code",
      "metadata": {},
      "source": [
        "constrained_iterator()\n",
        "\n",
        "f, ax = plt.subplots()\n",
        "eq.plot(ax=ax)\n",
        "magnetic_targets.plot(ax=ax)\n",
        "plt.show()"
      ],
      "outputs": [],
      "execution_count": null
    }
  ],
  "metadata": {
    "anaconda-cloud": {},
    "kernelspec": {
      "display_name": "Python 3",
      "language": "python",
      "name": "python3"
    },
    "language_info": {
      "codemirror_mode": {
        "name": "ipython",
        "version": 3
      },
      "file_extension": ".py",
      "mimetype": "text/x-python",
      "name": "python",
      "nbconvert_exporter": "python",
      "pygments_lexer": "ipython3",
      "version": "3.8.13"
    }
  },
  "nbformat": 4,
  "nbformat_minor": 4
}
