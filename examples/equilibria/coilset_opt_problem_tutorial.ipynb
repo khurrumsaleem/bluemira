{
  "cells": [
    {
      "cell_type": "markdown",
      "metadata": {},
      "source": [
        "\n",
        "# Introduction\n",
        "\n",
        "In this example, we will outline how to specify a CoilsetOptimisationProblem\n",
        "that specifies how an 'optimised' coilset state is found during the Free Boundary\n",
        "Equilibrium solve step.\n",
        "\n",
        "# Imports\n",
        "\n",
        "Import necessary equilbria module definitions."
      ]
    },
    {
      "cell_type": "code",
      "metadata": {},
      "source": [
        "import matplotlib.pyplot as plt\n",
        "import numpy as np\n",
        "\n",
        "import bluemira.equilibria.opt_constraints as opt_constraints\n",
        "import examples.equilibria.double_null_ST as double_null_ST\n",
        "from bluemira.equilibria.equilibrium import Equilibrium\n",
        "from bluemira.equilibria.opt_problems import BoundedCurrentCOP, UnconstrainedCurrentCOP\n",
        "from bluemira.equilibria.solve import DudsonConvergence, PicardCoilsetIterator\n",
        "from bluemira.utilities.opt_problems import OptimisationConstraint\n",
        "from bluemira.utilities.optimiser import Optimiser"
      ],
      "outputs": [],
      "execution_count": null
    },
    {
      "cell_type": "markdown",
      "metadata": {},
      "source": [
        "\n",
        "# OptimisationProblem\n",
        "\n",
        "The `OptimisationProblem` class is intended to be the general base class for defining\n",
        "optimisation problems across Bluemira.\n",
        "\n",
        "It is constructed from the following four objects:\n",
        "- `parameterisation`\n",
        "    - Object storing data that is updated during the optimisation to be carried out.\n",
        "- `optimiser: Optimiser`\n",
        "    - `Optimiser` object specifying the numerical algorithm used to optimise an array\n",
        "       representing the parameterisation state. Usually based on NLOpt.\n",
        "- `objective: OptimisationObjective`\n",
        "    - OptimisationObjective object, specifying objective function to be minimised\n",
        "      during optimisation.\n",
        "- `constraints: List[OptimisationConstraint]`\n",
        "    - List of `OptimisationConstraints`, specifying the set of constraints that must\n",
        "      be satisfied during the numerical optimisation.\n",
        "\n",
        "\n",
        "The goal of the `OptimisationProblem` is to be able to return an optimised\n",
        "parameterisation, judged according to the provided objective, subject to\n",
        "the set of constraints, using a numerical search algorithm defined in the optimiser.\n",
        "\n",
        "Crucially, it provides an `optimise()` method that returns this optimised\n",
        "parameterisation. Subclasses may override this `optimise()` method, but must still\n",
        "return an optimised parametrisation when `optimise()` is called\n",
        "on the OptimisationProblem.\n",
        "\n",
        "A `CoilsetOP` is a subclass of `OptimisationProblem`, intended for problems where\n",
        "the parameterisation is a `CoilSet` object, which provides some useful additional\n",
        "methods for getting and setting coilset state vectors/arrays.\n",
        "\n",
        "Subclasses of `CoilsetOP`, such as `BoundedCurrentCOP` or `NestedCoilsetPositionCOP`,\n",
        "can be made to bind a `CoilsetOP` to a specific objective function, which is often\n",
        "useful for performance reasons where some data in the OptimisationProblem\n",
        "does not need to be updated at every iteration.\n",
        "\n",
        "# Example\n",
        "We will present an example problem where we take an existing `CoilsetOP`subclass,\n",
        "`BoundedCurrentCOP`, and apply some additional constraints that\n",
        "must be held during the optimisation.\n",
        "\n",
        "As the objective function for the `BoundedCurrentCOP` OptimisationProblem is already\n",
        "specified, we only need to provide the `coilset` (parameterisation), `Optimiser`,\n",
        "`OptimisationConstraints`, and any additional arguments that are used in the\n",
        "`BoundedCurrentCOP` objective function.\n",
        "\n",
        "### Parametrisation\n",
        "\n",
        "We first define the parameterisation to be used in the OptimisationProblem.\n",
        "This is just the starting `coilset` in this case."
      ]
    },
    {
      "cell_type": "code",
      "metadata": {},
      "source": [
        "coilset = double_null_ST.init_coilset()"
      ],
      "outputs": [],
      "execution_count": null
    },
    {
      "cell_type": "markdown",
      "metadata": {},
      "source": [
        "\n",
        "### Optimiser\n",
        "\n",
        "We next define the `Optimiser` to be used. There is no one-size-fits-all approach\n",
        "here, as the best optimiser for a given problem will depend strongly on the\n",
        "OptimisationObjective and OptimisationConstraints being applied in the problem.\n",
        "\n",
        "`Optimiser` is currently only a wrapper for NLOpt based optimisers, and as such,\n",
        "the range of algorithms that may be chosen is determined by those available in\n",
        "the NLOpt library. Not all algorithms will work for all objectives - some\n",
        "require gradient information, for example - and some require additional parameters.\n",
        "Check the NLOpt API documentation for more details.\n",
        "\n",
        "Care must also be taken to ensure the termination criteria for the optimisation\n",
        "are suitable. Otherwise, the optimisation may never stop running if tolerances\n",
        "are too tight, or may stop early and return poorly optimised states if the\n",
        "maximum number of evaluations is too low or tolerances are too large."
      ]
    },
    {
      "cell_type": "code",
      "metadata": {},
      "source": [
        "optimiser = Optimiser(\n",
        "    algorithm_name=\"COBYLA\",\n",
        "    opt_conditions={\"max_eval\": 200},\n",
        "    opt_parameters={\"initial_step\": 0.03},\n",
        ")"
      ],
      "outputs": [],
      "execution_count": null
    },
    {
      "cell_type": "markdown",
      "metadata": {},
      "source": [
        "\n",
        "### Additional Parameters\n",
        "\n",
        "`BoundedCurrentCOP` requires two additional parameters for generating arguments for\n",
        "its `OptimisationObjective` during its `optimise()` call. The `OptimisationObjective`\n",
        "figure of merit for `BoundedCurrentCOP` is the regularised least-squares deviation of a\n",
        "provided Equilibrium from a set of magnetic field targets (eg. isoflux targets).\n",
        "\n",
        "We use a default set of isoflux targets here for this example."
      ]
    },
    {
      "cell_type": "code",
      "metadata": {},
      "source": [
        "magnetic_targets, magnetic_core_targets = double_null_ST.init_targets()"
      ],
      "outputs": [],
      "execution_count": null
    },
    {
      "cell_type": "markdown",
      "metadata": {},
      "source": [
        "\n",
        "We also specify an initial Equilibrium state to be used in the optimisation."
      ]
    },
    {
      "cell_type": "code",
      "metadata": {},
      "source": [
        "grid = double_null_ST.init_grid()\n",
        "profile = double_null_ST.init_profile()\n",
        "eq = Equilibrium(\n",
        "    coilset,\n",
        "    grid,\n",
        "    force_symmetry=True,\n",
        "    vcontrol=None,\n",
        "    psi=None,\n",
        "    profiles=profile,\n",
        "    Ip=16e6,\n",
        "    li=None,\n",
        ")"
      ],
      "outputs": [],
      "execution_count": null
    },
    {
      "cell_type": "markdown",
      "metadata": {},
      "source": [
        "\n",
        "### Constraints\n",
        "\n",
        "We next define the list of `OptimisationConstraints` to apply.\n",
        "In this case, we wish to apply a constraint to prevent solutions where the\n",
        "plasma boundary at the inboard midplane of the plasma is prevented from moving\n",
        "inside a provided radius.\n",
        "\n",
        "We will use `bluemira.equilibria.opt_constraints.current_midplane_constraint`\n",
        "as our constraint function here to do this.\n",
        "\n",
        "```python\n",
        "def current_midplane_constraint(\n",
        "    constraint, vector, grad, opt_problem, radius, inboard=True\n",
        "):\n",
        "    \"\"\"\n",
        "    Constraint function to constrain the inboard or outboard midplane\n",
        "    of the plasma during optimisation.\n",
        "\n",
        "    Parameters\n",
        "    ----------\n",
        "    radius: float\n",
        "        Toroidal radius at which to constrain the plasma midplane.\n",
        "    inboard: bool (default=True)\n",
        "        Boolean controlling whether to constrain the inboard (if True) or\n",
        "        outboard (if False) side of the plasma midplane.\n",
        "    \"\"\"\n",
        "    coilset_state = np.concatenate((opt_problem.x0, opt_problem.z0, vector))\n",
        "    opt_problem.set_coilset_state(coilset_state)\n",
        "    lcfs = opt_problem.eq.get_LCFS()\n",
        "    if inboard:\n",
        "        constraint[:] = radius - min(lcfs.x)\n",
        "    else:\n",
        "        constraint[:] = max(lcfs.x) - radius\n",
        "    return constraint\n",
        "```\n",
        "\n",
        "The first three arguments here are expected by NLOpt, and must always be present in\n",
        "constraint functions.\n",
        "- constraint\n",
        "    - np.array storing constraint information. During the optimisation,\n",
        "      `constraint[:]<=0` is considered to represent the constraint being satisfied,\n",
        "      and `constraint[:]>0` represents the constraint being violated.\n",
        "- vector\n",
        "    - np.array representing the state vector that is optimised during the\n",
        "      numerical optimisation.\n",
        "- grad\n",
        "    - np.array representing Jacobian for the constraint function. This must always\n",
        "      be present in the arguments, but only needs to be calculated if the `Optimiser`\n",
        "      is employing an algorithm that requires derivative information.\n",
        "\n",
        "The fourth, `opt_problem`, is optional, and provides an interface to the\n",
        "`OptimisationProblem` the constraint is applied to. This may be useful for performance\n",
        "reasons, where data needed by the `constraint` does not need to be updated every\n",
        "iteration of the optimisation. Where possible, explicit arguments should be provided to\n",
        "the `OptimisationProblem`, however.\n",
        "\n",
        "The remaining arguments are explicit arguments that can be passed to the constraint to\n",
        "control its behaviour.\n",
        "\n",
        "This constraint function can be passed to a `OptimisationConstraint` object, along with\n",
        "explicit arguments, constraint tolerances, and constraint type, that is used by\n",
        "NLOpt when applying the constraint.\n",
        "\n",
        "User specified constraints can be supplied here, if so desired."
      ]
    },
    {
      "cell_type": "code",
      "metadata": {},
      "source": [
        "opt_constraints = [\n",
        "    OptimisationConstraint(\n",
        "        f_constraint=opt_constraints.current_midplane_constraint,\n",
        "        f_constraint_args={\"eq\": eq, \"radius\": 1.0},\n",
        "        tolerance=np.array([1e-4]),\n",
        "        constraint_type=\"inequality\",\n",
        "    )\n",
        "]"
      ],
      "outputs": [],
      "execution_count": null
    },
    {
      "cell_type": "markdown",
      "metadata": {},
      "source": [
        "\n",
        "We now have all the requirements to specify our `CoilsetOP`, and can now initialise it:"
      ]
    },
    {
      "cell_type": "code",
      "metadata": {},
      "source": [
        "opt_problem = BoundedCurrentCOP(\n",
        "    coilset,\n",
        "    eq,\n",
        "    magnetic_targets,\n",
        "    gamma=1e-8,\n",
        "    max_currents=3.0e7,\n",
        "    optimiser=optimiser,\n",
        "    opt_constraints=opt_constraints,\n",
        ")"
      ],
      "outputs": [],
      "execution_count": null
    },
    {
      "cell_type": "markdown",
      "metadata": {},
      "source": [
        "\n",
        "# Iterators\n",
        "\n",
        "The `CoilsetOP` is only used to optimise the coilset state at fixed plasma psi;\n",
        "the Grad-Shafranov equation for the plasma is not guaranteed to still be satisfied\n",
        "after the coilset state is optimised.\n",
        "\n",
        "Picard iteration is therefore used to find a self-consistent solution, employed\n",
        "by `Iterator` objects. `PicardCoilsetIterator` specifies a scheme in which a\n",
        "Grad-Shafranov iteration is used to update the plasma psi alternate with Coilset\n",
        "optimisation at fixed plasma psi until the psi converges for the `Equilbrium`."
      ]
    },
    {
      "cell_type": "code",
      "metadata": {},
      "source": [
        "constrained_iterator = PicardCoilsetIterator(\n",
        "    eq,\n",
        "    profile,\n",
        "    magnetic_core_targets,\n",
        "    opt_problem,\n",
        "    plot=False,\n",
        "    relaxation=0.3,\n",
        "    maxiter=400,\n",
        "    convergence=DudsonConvergence(1e-4),\n",
        ")"
      ],
      "outputs": [],
      "execution_count": null
    },
    {
      "cell_type": "markdown",
      "metadata": {},
      "source": [
        "\n",
        "However, a poor initial `Equilibrium` (with corresponding `coilset`) will lead\n",
        "to difficulties during the Picard iteration used to find a self-consistent solution.\n",
        "It is therefore useful to perform a coarser fast pre-optimisation to try find a\n",
        "self-consistent state within the basin of convergence of the\n",
        "full constrained `OptimisationProblem`."
      ]
    },
    {
      "cell_type": "code",
      "metadata": {},
      "source": [
        "unconstrained_cop = UnconstrainedCurrentCOP(eq.coilset, eq, magnetic_targets, gamma=1e-8)\n",
        "unconstrained_iterator = PicardCoilsetIterator(\n",
        "    eq,\n",
        "    profile,  # jetto\n",
        "    magnetic_core_targets,\n",
        "    unconstrained_cop,\n",
        "    plot=False,\n",
        "    relaxation=0.3,\n",
        "    convergence=DudsonConvergence(1e-2),\n",
        "    maxiter=400,\n",
        ")"
      ],
      "outputs": [],
      "execution_count": null
    },
    {
      "cell_type": "markdown",
      "metadata": {},
      "source": [
        "\n",
        "# FBE Optimisation\n",
        "We have now initialised the necessary objects to perform the optimisation of the\n",
        "`coilset` state.\n",
        "\n",
        "We first plot the initial `Equilibrium` state - as the initial coilset for this\n",
        "example has no current in the coils, it is predictably extremely poor!"
      ]
    },
    {
      "cell_type": "code",
      "metadata": {},
      "source": [
        "f, ax = plt.subplots()\n",
        "eq.plot(ax=ax)\n",
        "unconstrained_iterator.constraints.plot(ax=ax)"
      ],
      "outputs": [],
      "execution_count": null
    },
    {
      "cell_type": "markdown",
      "metadata": {},
      "source": [
        "\n",
        "### Pre-optimisation\n",
        "\n",
        "Constrained optimisation of this poor initial state would be difficult, as\n",
        "local optimisers would likely struggle to find the basin of convergence of\n",
        "the desired state.\n",
        "\n",
        "We therefore perform a fast pre-optimisation to get closer to a physical\n",
        "state that satisfies our constrained optimisation problem."
      ]
    },
    {
      "cell_type": "code",
      "metadata": {},
      "source": [
        "unconstrained_iterator()\n",
        "\n",
        "f, ax = plt.subplots()\n",
        "eq.plot(ax=ax)\n",
        "unconstrained_iterator.constraints.plot(ax=ax)\n",
        "plt.show()"
      ],
      "outputs": [],
      "execution_count": null
    },
    {
      "cell_type": "markdown",
      "metadata": {},
      "source": [
        "\n",
        "### Constrained Optimisation\n",
        "\n",
        "Now we have a better starting `Equilibrium` for our constrained optimisation\n",
        "scheme, we can apply it to try to find a solution that satisfies the\n",
        "optimisation problem including our additional constraints."
      ]
    },
    {
      "cell_type": "code",
      "metadata": {},
      "source": [
        "constrained_iterator()\n",
        "\n",
        "f, ax = plt.subplots()\n",
        "eq.plot(ax=ax)\n",
        "constrained_iterator.constraints.plot(ax=ax)\n",
        "plt.show()"
      ],
      "outputs": [],
      "execution_count": null
    }
  ],
  "metadata": {
    "anaconda-cloud": {},
    "kernelspec": {
      "display_name": "Python 3",
      "language": "python",
      "name": "python3"
    },
    "language_info": {
      "codemirror_mode": {
        "name": "ipython",
        "version": 3
      },
      "file_extension": ".py",
      "mimetype": "text/x-python",
      "name": "python",
      "nbconvert_exporter": "python",
      "pygments_lexer": "ipython3",
      "version": "3.8.12"
    }
  },
  "nbformat": 4,
  "nbformat_minor": 4
}
