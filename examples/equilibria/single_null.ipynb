{
  "cells": [
    {
      "cell_type": "markdown",
      "metadata": {},
      "source": [
        "# Single Null example pulsed equilibrium problem\n",
        "\n",
        "import os\n",
        "\n",
        "import matplotlib.pyplot as plt\n",
        "import numpy as np"
      ]
    },
    {
      "cell_type": "code",
      "metadata": {},
      "source": [
        "from IPython import get_ipython\n",
        "\n",
        "from bluemira.base.file import get_bluemira_path\n",
        "from bluemira.display.auto_config import plot_defaults\n",
        "from bluemira.equilibria._deprecated_run import AbInitioEquilibriumProblem\n",
        "from bluemira.equilibria.profiles import DoublePowerFunc\n",
        "from bluemira.geometry._deprecated_loop import Loop\n",
        "\n",
        "try:\n",
        "    get_ipython().run_line_magic(\"matplotlib\", \"qt\")\n",
        "except AttributeError:\n",
        "    pass"
      ],
      "outputs": [],
      "execution_count": null
    },
    {
      "cell_type": "markdown",
      "metadata": {},
      "source": [
        "Set some plotting defaults"
      ]
    },
    {
      "cell_type": "code",
      "metadata": {},
      "source": [
        "plt.close(\"all\")\n",
        "plot_defaults()"
      ],
      "outputs": [],
      "execution_count": null
    },
    {
      "cell_type": "markdown",
      "metadata": {},
      "source": [
        "Make a TF coil shape and use it as an exclusion zone object"
      ]
    },
    {
      "cell_type": "code",
      "metadata": {},
      "source": [
        "fp = get_bluemira_path(\"BLUEPRINT/Geometry\", subfolder=\"data\")\n",
        "TF = Loop.from_file(os.sep.join([fp, \"TFreference.json\"]))\n",
        "TF = TF.offset(2.4)\n",
        "clip = np.where(TF.x >= 3.5)\n",
        "TF = Loop(TF.x[clip], z=TF.z[clip])\n",
        "TF.interpolate(200)"
      ],
      "outputs": [],
      "execution_count": null
    },
    {
      "cell_type": "markdown",
      "metadata": {},
      "source": [
        "Choose a flux function parameterisation (with some initial values)\n",
        "The shape function parameters will be optimised to meet the integral plasma\n",
        "parameters we specify later on"
      ]
    },
    {
      "cell_type": "code",
      "metadata": {},
      "source": [
        "p = DoublePowerFunc([2, 2])"
      ],
      "outputs": [],
      "execution_count": null
    },
    {
      "cell_type": "markdown",
      "metadata": {},
      "source": [
        "Set up an equilibrium problem (a typical sized pulsed EU-DEMO like machine)"
      ]
    },
    {
      "cell_type": "code",
      "metadata": {},
      "source": [
        "SN = AbInitioEquilibriumProblem(\n",
        "    R_0=9,  # [m]\n",
        "    B_0=5.8,  # [T]\n",
        "    A=3.1,\n",
        "    Ip=19e6,  # [A]\n",
        "    betap=1.3,\n",
        "    li=0.8,\n",
        "    kappa_u=1.65,\n",
        "    kappa_l=1.8,\n",
        "    delta_u=0.4,\n",
        "    delta_l=0.4,\n",
        "    psi_u_neg=180,\n",
        "    psi_u_pos=0,\n",
        "    psi_l_neg=-120,\n",
        "    psi_l_pos=30,\n",
        "    div_l_ib=1.0,\n",
        "    div_l_ob=1.45,\n",
        "    r_cs=2.85,  # [m]\n",
        "    tk_cs=0.3,  # [m]\n",
        "    tfbnd=TF,\n",
        "    n_PF=6,\n",
        "    n_CS=5,\n",
        "    eqtype=\"SN\",\n",
        "    rtype=\"Normal\",\n",
        "    profile=p,\n",
        "    psi=None,\n",
        ")"
      ],
      "outputs": [],
      "execution_count": null
    },
    {
      "cell_type": "markdown",
      "metadata": {},
      "source": [
        "Get an initial unconstrained solution"
      ]
    },
    {
      "cell_type": "code",
      "metadata": {},
      "source": [
        "eqref = SN.solve()"
      ],
      "outputs": [],
      "execution_count": null
    },
    {
      "cell_type": "markdown",
      "metadata": {},
      "source": [
        "Make all coils use by making regions for coils"
      ]
    },
    {
      "cell_type": "code",
      "metadata": {},
      "source": [
        "pf_coilregions = {}\n",
        "region_coils = {\n",
        "    1: {\"x\": 6.01, \"z\": 10.09},\n",
        "    3: {\"x\": 19.00, \"z\": 3.67},\n",
        "    5: {\"x\": 10.92, \"z\": -10.77},\n",
        "}\n",
        "for coil in SN.coilset.coils.values():\n",
        "    coil_number = int(coil.name.split(\"_\")[-1])\n",
        "    if coil.ctype != \"PF\" or coil_number not in region_coils:\n",
        "        continue\n",
        "    dx, dz = coil.dx * 4, coil.dz * 4  # Arbitrarily sized region\n",
        "    pf_coilregions[coil.name] = Loop(\n",
        "        x=region_coils[coil_number][\"x\"] + np.array([-dx, dx, dx, -dx, -dx]),\n",
        "        z=region_coils[coil_number][\"z\"] + np.array([-dz, -dz, dz, dz, -dz]),\n",
        "    )"
      ],
      "outputs": [],
      "execution_count": null
    },
    {
      "cell_type": "markdown",
      "metadata": {},
      "source": [
        "Let's look at the coilset on its own"
      ]
    },
    {
      "cell_type": "code",
      "metadata": {},
      "source": [
        "SN.coilset.plot()"
      ],
      "outputs": [],
      "execution_count": null
    },
    {
      "cell_type": "markdown",
      "metadata": {},
      "source": [
        "Define some exclusion zones for the PF coils"
      ]
    },
    {
      "cell_type": "code",
      "metadata": {},
      "source": [
        "UP = Loop(x=[7.5, 14, 14, 7.5, 7.5], z=[3, 3, 14.5, 14.5, 3])\n",
        "LP = Loop(x=[10, 10, 15, 22, 22, 15, 10], z=[-6, -10, -13, -13, -8, -8, -6])\n",
        "EQ = Loop(x=[14, 22, 22, 14, 14], z=[-1.4, -1.4, 1.4, 1.4, -1.4])"
      ],
      "outputs": [],
      "execution_count": null
    },
    {
      "cell_type": "markdown",
      "metadata": {},
      "source": [
        "Look at the \"track\" for the PF coil locations, and the exclusion zones:"
      ]
    },
    {
      "cell_type": "code",
      "metadata": {},
      "source": [
        "f, ax = plt.subplots()\n",
        "\n",
        "TF.plot(ax, fill=False)\n",
        "UP.plot(ax, edgecolor=\"r\", facecolor=\"r\", alpha=0.5)\n",
        "LP.plot(ax, edgecolor=\"r\", facecolor=\"r\", alpha=0.5)\n",
        "EQ.plot(ax, edgecolor=\"r\", facecolor=\"r\", alpha=0.5)"
      ],
      "outputs": [],
      "execution_count": null
    },
    {
      "cell_type": "markdown",
      "metadata": {},
      "source": [
        "Now let's optimise:\n",
        "*  positions of the PF coils\n",
        "*  currents of the PF and CS coils\n",
        "\n",
        "constraining:\n",
        "*  plasma shape\n",
        "*  plasma integral values (I_p, beta_p, l_i)\n",
        "*  coil positions         (L)\n",
        "*  coil currents          (I)\n",
        "*  coil forces            (F)\n",
        "*  field at coils         (B)\n",
        "*  pulse length           (tau_flattop)\n",
        "\n",
        "The resulting equilibria will automatically be converged once the coil sizes\n",
        "have been fixed at their maximum\n",
        "(sometimes problematic for end of flattop)\n",
        "\n",
        "The following method will:\n",
        "*  calculate the breakdown flux for this reactor\n",
        "*  optimise the coil positions for the start and end of flat-top\n",
        "*  converge the resulting SOF and EOF equilibria"
      ]
    },
    {
      "cell_type": "code",
      "metadata": {},
      "source": [
        "SN.optimise_positions(\n",
        "    max_PF_current=25e6,  # [A]\n",
        "    PF_Fz_max=400e6,  # [N]\n",
        "    CS_Fz_sum=300e6,  # [N]\n",
        "    CS_Fz_sep=250e6,  # [N]\n",
        "    tau_flattop=1.5 * 3600,  # [s]\n",
        "    v_burn=0.04,  # [V]\n",
        "    psi_bd=None,\n",
        "    pfcoiltrack=TF,\n",
        "    pf_exclusions=[LP, EQ, UP],\n",
        "    pf_coilregions=pf_coilregions,\n",
        "    CS=False,\n",
        "    plot=False,\n",
        "    gif=False,\n",
        ")"
      ],
      "outputs": [],
      "execution_count": null
    }
  ],
  "metadata": {
    "anaconda-cloud": {},
    "kernelspec": {
      "display_name": "Python 3",
      "language": "python",
      "name": "python3"
    },
    "language_info": {
      "codemirror_mode": {
        "name": "ipython",
        "version": 3
      },
      "file_extension": ".py",
      "mimetype": "text/x-python",
      "name": "python",
      "nbconvert_exporter": "python",
      "pygments_lexer": "ipython3",
      "version": "3.8.12"
    }
  },
  "nbformat": 4,
  "nbformat_minor": 4
}
