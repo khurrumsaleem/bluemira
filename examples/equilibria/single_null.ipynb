{
  "cells": [
    {
      "cell_type": "markdown",
      "metadata": {},
      "source": [
        "\n",
        "An example on how to produce an equilibrium from a known coilset, profiles, and\n",
        "plasma shape."
      ]
    },
    {
      "cell_type": "code",
      "metadata": {},
      "source": [
        "import json\n",
        "import os\n",
        "\n",
        "import matplotlib.pyplot as plt\n",
        "import numpy as np\n",
        "from IPython import get_ipython\n",
        "\n",
        "from bluemira.base.file import get_bluemira_path\n",
        "from bluemira.display import plot_defaults\n",
        "from bluemira.equilibria.coils import Coil, CoilSet\n",
        "from bluemira.equilibria.equilibrium import Equilibrium\n",
        "from bluemira.equilibria.grid import Grid\n",
        "from bluemira.equilibria.opt_constraints import (\n",
        "    CoilFieldConstraints,\n",
        "    CoilForceConstraints,\n",
        "    FieldNullConstraint,\n",
        "    IsofluxConstraint,\n",
        "    MagneticConstraintSet,\n",
        "    PsiBoundaryConstraint,\n",
        ")\n",
        "from bluemira.equilibria.opt_problems import (\n",
        "    MinimalCurrentCOP,\n",
        "    TikhonovCurrentCOP,\n",
        "    UnconstrainedTikhonovCurrentGradientCOP,\n",
        ")\n",
        "from bluemira.equilibria.profiles import CustomProfile\n",
        "from bluemira.equilibria.solve import DudsonConvergence, PicardIterator\n",
        "from bluemira.utilities.optimiser import Optimiser\n",
        "\n",
        "plot_defaults()\n",
        "\n",
        "try:\n",
        "    get_ipython().run_line_magic(\"matplotlib\", \"qt\")\n",
        "except AttributeError:\n",
        "    pass"
      ],
      "outputs": [],
      "execution_count": null
    },
    {
      "cell_type": "markdown",
      "metadata": {},
      "source": [
        "\n",
        "First let's create our coilset."
      ]
    },
    {
      "cell_type": "code",
      "metadata": {},
      "source": [
        "x = [5.4, 14.0, 17.75, 17.75, 14.0, 7.0, 2.77, 2.77, 2.77, 2.77, 2.77]\n",
        "z = [9.26, 7.9, 2.5, -2.5, -7.9, -10.5, 7.07, 4.08, -0.4, -4.88, -7.86]\n",
        "dx = [0.6, 0.7, 0.5, 0.5, 0.7, 1.0, 0.4, 0.4, 0.4, 0.4, 0.4]\n",
        "dz = [0.6, 0.7, 0.5, 0.5, 0.7, 1.0, 2.99 / 2, 2.99 / 2, 5.97 / 2, 2.99 / 2, 2.99 / 2]\n",
        "\n",
        "coils = []\n",
        "j = 1\n",
        "for i, (xi, zi, dxi, dzi) in enumerate(zip(x, z, dx, dz)):\n",
        "    if j > 6:\n",
        "        j = 1\n",
        "    ctype = \"PF\" if i < 6 else \"CS\"\n",
        "    coil = Coil(\n",
        "        xi,\n",
        "        zi,\n",
        "        current=0,\n",
        "        dx=dxi,\n",
        "        dz=dzi,\n",
        "        ctype=ctype,\n",
        "        control=True,\n",
        "        name=f\"{ctype}_{j}\",\n",
        "    )\n",
        "    coils.append(coil)\n",
        "    j += 1\n",
        "\n",
        "coilset = CoilSet(coils)\n",
        "\n",
        "# Assign current density and peak field constraints\n",
        "coilset.assign_coil_materials(\"CS\", j_max=16.5, b_max=12.5)\n",
        "coilset.assign_coil_materials(\"PF\", j_max=12.5, b_max=11.0)\n",
        "coilset.fix_sizes()"
      ],
      "outputs": [],
      "execution_count": null
    },
    {
      "cell_type": "markdown",
      "metadata": {},
      "source": [
        "\n",
        "Now, we set up our grid, equilibrium, and profiles"
      ]
    },
    {
      "cell_type": "code",
      "metadata": {},
      "source": [
        "# Machine parameters\n",
        "I_p = 19.07e6  # A\n",
        "R_0 = 8.938\n",
        "B_0 = 4.8901  # T\n",
        "\n",
        "grid = Grid(3.0, 13.0, -10.0, 10.0, 65, 65)\n",
        "\n",
        "profiles = CustomProfile(\n",
        "    np.array([86856, 86506, 84731, 80784, 74159, 64576, 52030, 36918, 20314, 4807, 0.0]),\n",
        "    -np.array(\n",
        "        [0.125, 0.124, 0.122, 0.116, 0.106, 0.093, 0.074, 0.053, 0.029, 0.007, 0.0]\n",
        "    ),\n",
        "    R_0=R_0,\n",
        "    B_0=B_0,\n",
        "    I_p=I_p,\n",
        ")\n",
        "\n",
        "eq = Equilibrium(coilset, grid, profiles, psi=None)"
      ],
      "outputs": [],
      "execution_count": null
    },
    {
      "cell_type": "markdown",
      "metadata": {},
      "source": [
        "\n",
        "Now we need to specify some constraints on the plasma\n",
        "\n",
        "We'll load up a known plasma boundary and use that to specify some constraints on the\n",
        "plasma"
      ]
    },
    {
      "cell_type": "code",
      "metadata": {},
      "source": [
        "path = get_bluemira_path(\"equilibria\", subfolder=\"examples\")\n",
        "name = \"EUDEMO_2017_CREATE_SOF_separatrix.json\"\n",
        "filename = os.sep.join([path, name])\n",
        "with open(filename, \"r\") as file:\n",
        "    data = json.load(file)\n",
        "\n",
        "sof_xbdry = data[\"xbdry\"]\n",
        "sof_zbdry = data[\"zbdry\"]\n",
        "\n",
        "isoflux = IsofluxConstraint(\n",
        "    np.array(sof_xbdry)[::10],\n",
        "    np.array(sof_zbdry)[::10],\n",
        "    sof_xbdry[0],\n",
        "    sof_zbdry[0],\n",
        "    tolerance=1e-3,\n",
        "    constraint_value=0.5,  # Difficult to choose...\n",
        ")\n",
        "\n",
        "psi_boundary = PsiBoundaryConstraint(\n",
        "    np.array(sof_xbdry)[::10],\n",
        "    np.array(sof_zbdry)[::10],\n",
        "    100 / (2 * np.pi),\n",
        "    tolerance=1.0,\n",
        ")\n",
        "\n",
        "xp_idx = np.argmin(sof_zbdry)\n",
        "x_point = FieldNullConstraint(\n",
        "    sof_xbdry[xp_idx], sof_zbdry[xp_idx], tolerance=1e-3, constraint_type=\"inequality\"\n",
        ")"
      ],
      "outputs": [],
      "execution_count": null
    },
    {
      "cell_type": "markdown",
      "metadata": {},
      "source": [
        "\n",
        "It's often very useful to solve an unconstrained optimised problem in order to get\n",
        "an initial guess for the equilibrium result.\n",
        "\n",
        "This is done by using the magnetic constraints in a \"set\" for which the error is then\n",
        "minimised with an L2 norm and a Tikhonov regularisation on the currents.\n",
        "\n",
        "We can use this to optimise the current gradients during the solution of the\n",
        "equilibrium until convergence."
      ]
    },
    {
      "cell_type": "code",
      "metadata": {},
      "source": [
        "opt_problem = UnconstrainedTikhonovCurrentGradientCOP(\n",
        "    coilset, eq, MagneticConstraintSet([psi_boundary, x_point]), gamma=1e-7\n",
        ")\n",
        "\n",
        "program = PicardIterator(eq, opt_problem, fixed_coils=True, relaxation=0.2)\n",
        "program()"
      ],
      "outputs": [],
      "execution_count": null
    },
    {
      "cell_type": "markdown",
      "metadata": {},
      "source": [
        "\n",
        "Now say we want to use bounds on our current vector, and that we want to solve a\n",
        "constrained optimisation problem.\n",
        "\n",
        "We can minimise the error on our target set with some bounds on the current vector,\n",
        "some additional constraints (e.g. on the field in the coils), and solve a new\n",
        "optimisation problem, using the previously converged equilibrium as a starting point.\n",
        "\n",
        "Note that here we are optimising the current vector and not the current gradient\n",
        "vector."
      ]
    },
    {
      "cell_type": "code",
      "metadata": {},
      "source": [
        "field_constraints = CoilFieldConstraints(\n",
        "    eq.coilset, eq.coilset.get_max_fields(), tolerance=1e-6\n",
        ")\n",
        "\n",
        "PF_Fz_max = 450\n",
        "CS_Fz_sum_max = 300\n",
        "CS_Fz_sep_max = 250\n",
        "force_constraints = CoilForceConstraints(\n",
        "    eq.coilset,\n",
        "    PF_Fz_max=PF_Fz_max,\n",
        "    CS_Fz_sum_max=CS_Fz_sum_max,\n",
        "    CS_Fz_sep_max=CS_Fz_sep_max,\n",
        "    tolerance=1e-6,\n",
        ")\n",
        "\n",
        "\n",
        "opt_problem = TikhonovCurrentCOP(\n",
        "    coilset,\n",
        "    eq,\n",
        "    targets=MagneticConstraintSet([psi_boundary, x_point]),\n",
        "    gamma=1e-8,\n",
        "    optimiser=Optimiser(\"SLSQP\", opt_conditions={\"max_eval\": 2000, \"ftol_rel\": 1e-6}),\n",
        "    max_currents=coilset.get_max_currents(0.0),\n",
        "    constraints=[field_constraints, force_constraints],\n",
        ")\n",
        "\n",
        "program = PicardIterator(\n",
        "    eq,\n",
        "    opt_problem,\n",
        "    fixed_coils=True,\n",
        "    convergence=DudsonConvergence(1e-4),\n",
        "    relaxation=0.3,\n",
        ")\n",
        "program()"
      ],
      "outputs": [],
      "execution_count": null
    },
    {
      "cell_type": "markdown",
      "metadata": {},
      "source": [
        "\n",
        "Now let's say we don't actually want to minimise the error, but we want to minimise the\n",
        "coil currents, and use the constraints that we specified above as actual constraints\n",
        "in the optimisation problem (rather than in the objective function as above)"
      ]
    },
    {
      "cell_type": "code",
      "metadata": {},
      "source": [
        "opt_problem = MinimalCurrentCOP(\n",
        "    coilset,\n",
        "    eq,\n",
        "    Optimiser(\"SLSQP\", opt_conditions={\"max_eval\": 2000, \"ftol_rel\": 1e-6}),\n",
        "    max_currents=coilset.get_max_currents(0.0),\n",
        "    constraints=[psi_boundary, x_point, field_constraints, force_constraints],\n",
        ")\n",
        "\n",
        "program = PicardIterator(\n",
        "    eq,\n",
        "    opt_problem,\n",
        "    fixed_coils=True,\n",
        "    convergence=DudsonConvergence(1e-4),\n",
        "    relaxation=0.3,\n",
        ")\n",
        "program()\n",
        "\n",
        "f, ax = plt.subplots()\n",
        "eq.plot(ax=ax)\n",
        "eq.coilset.plot(ax=ax)"
      ],
      "outputs": [],
      "execution_count": null
    }
  ],
  "metadata": {
    "anaconda-cloud": {},
    "kernelspec": {
      "display_name": "Python 3",
      "language": "python",
      "name": "python3"
    },
    "language_info": {
      "codemirror_mode": {
        "name": "ipython",
        "version": 3
      },
      "file_extension": ".py",
      "mimetype": "text/x-python",
      "name": "python",
      "nbconvert_exporter": "python",
      "pygments_lexer": "ipython3",
      "version": "3.8.12"
    }
  },
  "nbformat": 4,
  "nbformat_minor": 4
}
