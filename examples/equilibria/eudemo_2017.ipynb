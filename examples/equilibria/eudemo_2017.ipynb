{
  "cells": [
    {
      "cell_type": "markdown",
      "metadata": {},
      "source": [
        "\n",
        "# EU-DEMO 2017 reference breakdown and equilibrium benchmark"
      ]
    },
    {
      "cell_type": "code",
      "metadata": {},
      "source": [
        "import json\n",
        "import os\n",
        "from copy import deepcopy\n",
        "\n",
        "import matplotlib.pyplot as plt\n",
        "import numpy as np\n",
        "from IPython import get_ipython\n",
        "\n",
        "from bluemira.base.file import get_bluemira_path\n",
        "from bluemira.base.look_and_feel import bluemira_print\n",
        "from bluemira.display import plot_defaults\n",
        "from bluemira.equilibria.coils import Coil, CoilSet\n",
        "from bluemira.equilibria.eq_constraints import AutoConstraints\n",
        "from bluemira.equilibria.equilibrium import Breakdown, Equilibrium\n",
        "from bluemira.equilibria.grid import Grid\n",
        "from bluemira.equilibria.optimiser import BreakdownOptimiser, FBIOptimiser\n",
        "from bluemira.equilibria.physics import calc_beta_p, calc_li, calc_psib\n",
        "from bluemira.equilibria.profiles import BetaIpProfile, CustomProfile, DoublePowerFunc\n",
        "from bluemira.equilibria.solve import PicardAbsIterator, PicardLiAbsIterator"
      ],
      "outputs": [],
      "execution_count": null
    },
    {
      "cell_type": "markdown",
      "metadata": {},
      "source": [
        "\n",
        "Load the reference equilibria from EFDA_D_2MUW9R"
      ]
    },
    {
      "cell_type": "code",
      "metadata": {},
      "source": [
        "plot_defaults()\n",
        "\n",
        "try:\n",
        "    get_ipython().run_line_magic(\"matplotlib\", \"qt\")\n",
        "except AttributeError:\n",
        "    pass\n",
        "\n",
        "path = get_bluemira_path(\"equilibria\", subfolder=\"examples\")\n",
        "name = \"EUDEMO_2017_CREATE_SOF_separatrix.json\"\n",
        "filename = os.sep.join([path, name])\n",
        "with open(filename, \"r\") as file:\n",
        "    data = json.load(file)\n",
        "\n",
        "sof_xbdry = data[\"xbdry\"]\n",
        "sof_zbdry = data[\"zbdry\"]"
      ],
      "outputs": [],
      "execution_count": null
    },
    {
      "cell_type": "markdown",
      "metadata": {},
      "source": [
        "\n",
        "Make the same CoilSet as CREATE"
      ]
    },
    {
      "cell_type": "code",
      "metadata": {},
      "source": [
        "x = [5.4, 14, 17.75, 17.75, 14.0, 7, 2.77, 2.77, 2.77, 2.77, 2.77]\n",
        "z = [9.26, 7.9, 2.5, -2.5, -7.9, -10.5, 7.07, 4.08, -0.4, -4.88, -7.86]\n",
        "dx = [0.6, 0.7, 0.5, 0.5, 0.7, 1.0, 0.4, 0.4, 0.4, 0.4, 0.4]\n",
        "dz = [0.6, 0.7, 0.5, 0.5, 0.7, 1.0, 2.99 / 2, 2.99 / 2, 5.97 / 2, 2.99 / 2, 2.99 / 2]\n",
        "\n",
        "coils = []\n",
        "j = 1\n",
        "for i, (xi, zi, dxi, dzi) in enumerate(zip(x, z, dx, dz)):\n",
        "    if j > 6:\n",
        "        j = 1\n",
        "    ctype = \"PF\" if i < 6 else \"CS\"\n",
        "    coil = Coil(\n",
        "        xi,\n",
        "        zi,\n",
        "        current=0,\n",
        "        dx=dxi,\n",
        "        dz=dzi,\n",
        "        ctype=ctype,\n",
        "        control=True,\n",
        "        name=f\"{ctype}_{j}\",\n",
        "    )\n",
        "    coils.append(coil)\n",
        "    j += 1\n",
        "\n",
        "coilset = CoilSet(coils)\n",
        "\n",
        "# Assign current density and peak field constraints\n",
        "coilset.assign_coil_materials(\"CS\", j_max=16.5, b_max=12.5)\n",
        "coilset.assign_coil_materials(\"PF\", j_max=12.5, b_max=11)\n",
        "coilset.fix_sizes()\n",
        "coilset.mesh_coils(0.3)\n",
        "\n",
        "coilset.plot()"
      ],
      "outputs": [],
      "execution_count": null
    },
    {
      "cell_type": "markdown",
      "metadata": {},
      "source": [
        "\n",
        "Define parameters"
      ]
    },
    {
      "cell_type": "code",
      "metadata": {},
      "source": [
        "# Machine parameters\n",
        "I_p = 19.07e6  # A\n",
        "beta_p = 1.141\n",
        "l_i = 0.8\n",
        "R_0 = 8.938\n",
        "Z_0 = 0.027454\n",
        "B_0 = 4.8901  # ???\n",
        "A = 3.1\n",
        "kappa_95 = 1.65\n",
        "delta_95 = 0.33\n",
        "tau_flattop = 2 * 3600\n",
        "v_burn = 4.220e-2  # V\n",
        "c_ejima = 0.3\n",
        "\n",
        "# Breakdown constraints (I can't quite get it with 3mT..) I've gotten close to 305 V.s,\n",
        "# but only using a smaller low-field region.\n",
        "# This is quite a sensitive optimisation, and is possibly a multi-modal space\n",
        "# May want to think about optimising with a stochastic optimiser, and including\n",
        "# a parametric location of the breakdown point...\n",
        "x_zone = 9.84  # ??\n",
        "z_zone = 0.0  # ??\n",
        "r_zone = 2.0  # ??\n",
        "b_zone_max = 0.003  # T\n",
        "\n",
        "# Coil constraints\n",
        "PF_Fz_max = 450e6\n",
        "CS_Fz_sum = 300e6\n",
        "CS_Fz_sep = 350e6"
      ],
      "outputs": [],
      "execution_count": null
    },
    {
      "cell_type": "markdown",
      "metadata": {},
      "source": [
        "Use the same grid as CREATE (but less discretised):"
      ]
    },
    {
      "cell_type": "code",
      "metadata": {},
      "source": [
        "grid = Grid(2, 16.0, -9.0, 9.0, 100, 100)"
      ],
      "outputs": [],
      "execution_count": null
    },
    {
      "cell_type": "markdown",
      "metadata": {},
      "source": [
        "\n",
        "Set up the Breakdown object"
      ]
    },
    {
      "cell_type": "code",
      "metadata": {},
      "source": [
        "max_currents = coilset.get_max_currents(0)\n",
        "coilset.set_control_currents(max_currents, update_size=False)\n",
        "\n",
        "\n",
        "breakdown = Breakdown(deepcopy(coilset), grid, R_0=R_0)\n",
        "breakdown.set_breakdown_point(x_zone, z_zone)\n",
        "\n",
        "optimiser = BreakdownOptimiser(\n",
        "    x_zone,\n",
        "    z_zone,\n",
        "    r_zone,\n",
        "    b_zone_max,\n",
        "    max_currents,\n",
        "    coilset.get_max_fields(),\n",
        "    PF_Fz_max=PF_Fz_max,\n",
        "    CS_Fz_sum=CS_Fz_sum,\n",
        "    CS_Fz_sep=CS_Fz_sep,\n",
        ")\n",
        "\n",
        "currents = optimiser(breakdown)\n",
        "breakdown.coilset.set_control_currents(currents)\n",
        "\n",
        "bluemira_print(f\"Breakdown psi: {breakdown.breakdown_psi*2*np.pi:.2f} V.s\")"
      ],
      "outputs": [],
      "execution_count": null
    },
    {
      "cell_type": "markdown",
      "metadata": {},
      "source": [
        "\n",
        "Calculate SOF and EOF plasma boundary fluxes"
      ]
    },
    {
      "cell_type": "code",
      "metadata": {},
      "source": [
        "psi_sof = calc_psib(breakdown.breakdown_psi * 2 * np.pi, R_0, I_p, l_i, c_ejima)\n",
        "psi_eof = psi_sof - tau_flattop * v_burn\n",
        "\n",
        "# CREATE then knocked off an extra 10 V.s for misc plasma stuff I didnt look into\n",
        "\n",
        "psi_sof -= 10\n",
        "psi_eof -= 10"
      ],
      "outputs": [],
      "execution_count": null
    },
    {
      "cell_type": "markdown",
      "metadata": {},
      "source": [
        "\n",
        "Set up a parameterised profile"
      ]
    },
    {
      "cell_type": "code",
      "metadata": {},
      "source": [
        "shape = DoublePowerFunc([2, 2])\n",
        "profile = BetaIpProfile(beta_p, I_p, R_0, B_0, shape=shape)"
      ],
      "outputs": [],
      "execution_count": null
    },
    {
      "cell_type": "markdown",
      "metadata": {},
      "source": [
        "Solve the SOF and EOF equilibria"
      ]
    },
    {
      "cell_type": "code",
      "metadata": {},
      "source": [
        "sof = Equilibrium(\n",
        "    deepcopy(coilset),\n",
        "    grid,\n",
        "    Ip=I_p / 1e6,\n",
        "    li=l_i,\n",
        "    profiles=None,\n",
        "    RB0=[R_0, B_0],\n",
        ")\n",
        "eof = Equilibrium(\n",
        "    deepcopy(coilset),\n",
        "    grid,\n",
        "    Ip=I_p / 1e6,\n",
        "    li=l_i,\n",
        "    profiles=None,\n",
        "    RB0=[R_0, B_0],\n",
        ")\n",
        "\n",
        "# Make a set of magnetic constraints for the equilibria... I got lazy here,\n",
        "# this is just:\n",
        "#   * LCFS boundary fluxes\n",
        "#   * Field null at lower X-point\n",
        "#   * divertor legs are not treated, but could easily be added\n",
        "\n",
        "sof_constraints = AutoConstraints(\n",
        "    sof_xbdry,\n",
        "    sof_zbdry,\n",
        "    psi_sof / 2 / np.pi,\n",
        "    n_points=50,\n",
        ")\n",
        "eof_constraints = AutoConstraints(\n",
        "    sof_xbdry,\n",
        "    sof_zbdry,\n",
        "    psi_eof / 2 / np.pi,\n",
        "    n_points=50,\n",
        ")\n",
        "\n",
        "\n",
        "optimiser = FBIOptimiser(\n",
        "    coilset.get_max_fields(),\n",
        "    PF_Fz_max,\n",
        "    CS_Fz_sum,\n",
        "    CS_Fz_sep,\n",
        ")\n",
        "optimiser.update_current_constraint(coilset.get_max_currents(0))\n",
        "\n",
        "\n",
        "iterator = PicardLiAbsIterator(sof, profile, sof_constraints, optimiser, plot=True)\n",
        "iterator()\n",
        "\n",
        "profile_eof = CustomProfile(\n",
        "    profile.pprime(np.linspace(0, 1)), profile.ffprime(np.linspace(0, 1)), R_0, B_0\n",
        ")\n",
        "\n",
        "\n",
        "iterator = PicardAbsIterator(\n",
        "    eof, profile_eof, eof_constraints, optimiser, plot=True, relaxation=0.2\n",
        ")\n",
        "iterator()"
      ],
      "outputs": [],
      "execution_count": null
    },
    {
      "cell_type": "markdown",
      "metadata": {},
      "source": [
        "Plot the results"
      ]
    },
    {
      "cell_type": "code",
      "metadata": {},
      "source": [
        "f, ax = plt.subplots(1, 3)\n",
        "breakdown.plot(ax[0])\n",
        "breakdown.coilset.plot(ax[0])\n",
        "sof.plot(ax[1])\n",
        "sof.coilset.plot(ax[1])\n",
        "eof.plot(ax[2])\n",
        "eof.coilset.plot(ax[2])\n",
        "\n",
        "sof_psi = 2 * np.pi * sof.psi(*sof._x_points[0][:2])[0][0]\n",
        "eof_psi = 2 * np.pi * eof.psi(*eof._x_points[0][:2])[0][0]\n",
        "ax[1].set_title(\"$\\\\psi_{b}$ = \" + f\"{sof_psi:.2f} V.s\")\n",
        "ax[2].set_title(\"$\\\\psi_{b}$ = \" + f\"{eof_psi:.2f} V.s\")\n",
        "\n",
        "\n",
        "bluemira_print(\"SOF:\\n\" f\"beta_p: {calc_beta_p(sof):.2f}\\n\" f\"l_i: {calc_li(sof):.2f}\")\n",
        "\n",
        "# TODO: Fix this example...\n",
        "# bluemira_print(\"EOF:\\n\" f\"beta_p: {calc_beta_p(eof):.2f}\\n\" f\"l_i: {calc_li(sof):.2f}\")"
      ],
      "outputs": [],
      "execution_count": null
    }
  ],
  "metadata": {
    "anaconda-cloud": {},
    "kernelspec": {
      "display_name": "Python 3",
      "language": "python",
      "name": "python3"
    },
    "language_info": {
      "codemirror_mode": {
        "name": "ipython",
        "version": 3
      },
      "file_extension": ".py",
      "mimetype": "text/x-python",
      "name": "python",
      "nbconvert_exporter": "python",
      "pygments_lexer": "ipython3",
      "version": "3.8.12"
    }
  },
  "nbformat": 4,
  "nbformat_minor": 4
}
