{
  "cells": [
    {
      "cell_type": "code",
      "metadata": {},
      "source": [
        "import os\n",
        "import shutil\n",
        "\n",
        "from bluemira.base.file import get_bluemira_path, get_bluemira_root\n",
        "from bluemira.base.logs import set_log_level\n",
        "from bluemira.codes import transport_code_solver\n",
        "from bluemira.equilibria.fem_fixed_boundary.equilibrium import (\n",
        "    solve_transport_fixed_boundary,\n",
        ")\n",
        "from bluemira.equilibria.fem_fixed_boundary.fem_magnetostatic_2D import (\n",
        "    FemGradShafranovFixedBoundary,\n",
        ")\n",
        "from bluemira.equilibria.shapes import JohnerLCFS\n",
        "\n",
        "set_log_level(\"NOTSET\")"
      ],
      "outputs": [],
      "execution_count": null
    },
    {
      "cell_type": "markdown",
      "metadata": {},
      "source": [
        "Setup the Plasma shape parameterisation variables"
      ]
    },
    {
      "cell_type": "code",
      "metadata": {},
      "source": [
        "johner_parameterisation = JohnerLCFS(\n",
        "    {\n",
        "        \"r_0\": {\"value\": 8.9830e00},\n",
        "        \"a\": {\"value\": 3.1},\n",
        "        \"kappa_u\": {\"value\": 1.6},\n",
        "        \"kappa_l\": {\"value\": 1.75},\n",
        "        \"delta_u\": {\"value\": 0.33},\n",
        "        \"delta_l\": {\"value\": 0.45},\n",
        "    }\n",
        ")"
      ],
      "outputs": [],
      "execution_count": null
    },
    {
      "cell_type": "markdown",
      "metadata": {},
      "source": [
        "Initialise the transport solver in this case PLASMOD is used"
      ]
    },
    {
      "cell_type": "code",
      "metadata": {},
      "source": [
        "if plasmod_binary := shutil.which(\"plasmod\"):\n",
        "    PLASMOD_PATH = os.path.dirname(plasmod_binary)\n",
        "else:\n",
        "    PLASMOD_PATH = os.path.join(os.path.dirname(get_bluemira_root()), \"plasmod/bin\")\n",
        "binary = os.path.join(PLASMOD_PATH, \"plasmod\")\n",
        "\n",
        "\n",
        "source = \"Plasmod Example\"\n",
        "plasmod_params = {\n",
        "    \"A\": {\"value\": johner_parameterisation.variables.a, \"unit\": \"\", \"source\": source},\n",
        "    \"R_0\": {\n",
        "        \"value\": johner_parameterisation.variables.r_0,\n",
        "        \"unit\": \"m\",\n",
        "        \"source\": source,\n",
        "    },\n",
        "    \"I_p\": {\"value\": 19e6, \"unit\": \"A\", \"source\": source},\n",
        "    \"B_0\": {\"value\": 5.31, \"unit\": \"T\", \"source\": source},\n",
        "    \"V_p\": {\"value\": -2500, \"unit\": \"m^3\", \"source\": source},\n",
        "    \"v_burn\": {\"value\": -1.0e6, \"unit\": \"V\", \"source\": source},\n",
        "    \"kappa_95\": {\"value\": 1.652, \"unit\": \"\", \"source\": source},\n",
        "    \"delta_95\": {\"value\": 0.333, \"unit\": \"\", \"source\": source},\n",
        "    \"delta\": {\n",
        "        \"value\": (\n",
        "            johner_parameterisation.variables.delta_l\n",
        "            + johner_parameterisation.variables.delta_u\n",
        "        )\n",
        "        / 2,\n",
        "        \"unit\": \"\",\n",
        "        \"source\": source,\n",
        "    },\n",
        "    \"kappa\": {\n",
        "        \"value\": (\n",
        "            johner_parameterisation.variables.kappa_l\n",
        "            + johner_parameterisation.variables.kappa_u\n",
        "        )\n",
        "        / 2,\n",
        "        \"unit\": \"\",\n",
        "        \"source\": source,\n",
        "    },\n",
        "    \"q_95\": {\"value\": 3.25, \"unit\": \"\", \"source\": source},\n",
        "    \"f_ni\": {\"value\": 0, \"unit\": \"\", \"source\": source},\n",
        "}\n",
        "\n",
        "problem_settings = {\n",
        "    \"amin\": plasmod_params[\"R_0\"][\"value\"] / plasmod_params[\"A\"][\"value\"],\n",
        "    \"pfus_req\": 2000.0,\n",
        "    \"pheat_max\": 100.0,\n",
        "    \"q_control\": 50.0,\n",
        "    \"i_impmodel\": \"PED_FIXED\",\n",
        "    \"i_modeltype\": \"GYROBOHM_2\",\n",
        "    \"i_equiltype\": \"q95_sawtooth\",\n",
        "    \"i_pedestal\": \"SAARELMA\",\n",
        "}\n",
        "\n",
        "plasmod_build_config = {\n",
        "    \"problem_settings\": problem_settings,\n",
        "    \"mode\": \"run\",\n",
        "    \"binary\": binary,\n",
        "    \"directory\": get_bluemira_path(\"\", subfolder=\"generated_data\"),\n",
        "}\n",
        "\n",
        "plasmod_solver = transport_code_solver(\n",
        "    params=plasmod_params,\n",
        "    build_config=plasmod_build_config,\n",
        "    module=\"PLASMOD\",\n",
        ")"
      ],
      "outputs": [],
      "execution_count": null
    },
    {
      "cell_type": "markdown",
      "metadata": {},
      "source": [
        "Initialise the FEM problem"
      ]
    },
    {
      "cell_type": "code",
      "metadata": {},
      "source": [
        "fem_GS_fixed_boundary = FemGradShafranovFixedBoundary(\n",
        "    p_order=2,\n",
        "    max_iter=30,\n",
        "    iter_err_max=1e-4,\n",
        "    relaxation=0.05,\n",
        ")"
      ],
      "outputs": [],
      "execution_count": null
    },
    {
      "cell_type": "markdown",
      "metadata": {},
      "source": [
        "Solve"
      ]
    },
    {
      "cell_type": "code",
      "metadata": {},
      "source": [
        "solve_transport_fixed_boundary(\n",
        "    johner_parameterisation,\n",
        "    plasmod_solver,\n",
        "    fem_GS_fixed_boundary,\n",
        "    kappa95_t=1.652,  # Target kappa_95\n",
        "    delta95_t=0.333,  # Target delta_95\n",
        "    lcar_mesh=0.3,\n",
        "    max_iter=15,\n",
        "    iter_err_max=1e-3,\n",
        "    relaxation=0.0,\n",
        "    plot=True,\n",
        "    debug=False,\n",
        "    gif=True,\n",
        ")"
      ],
      "outputs": [],
      "execution_count": null
    }
  ],
  "metadata": {
    "anaconda-cloud": {},
    "kernelspec": {
      "display_name": "Python 3",
      "language": "python",
      "name": "python3"
    },
    "language_info": {
      "codemirror_mode": {
        "name": "ipython",
        "version": 3
      },
      "file_extension": ".py",
      "mimetype": "text/x-python",
      "name": "python",
      "nbconvert_exporter": "python",
      "pygments_lexer": "ipython3",
      "version": "3.8.15"
    }
  },
  "nbformat": 4,
  "nbformat_minor": 4
}
