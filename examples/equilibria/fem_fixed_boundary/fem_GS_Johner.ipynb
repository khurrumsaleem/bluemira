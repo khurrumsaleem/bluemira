{
  "cells": [
    {
      "cell_type": "code",
      "metadata": {},
      "source": [
        "import os\n",
        "\n",
        "import dolfinx\n",
        "import matplotlib.pyplot as plt\n",
        "import numpy as np\n",
        "\n",
        "from bluemira.base.components import PhysicalComponent\n",
        "from bluemira.base.file import get_bluemira_path\n",
        "from bluemira.equilibria.fem_fixed_boundary.fem_magnetostatic_2D import (\n",
        "    FemGradShafranovFixedBoundary,\n",
        ")\n",
        "from bluemira.equilibria.fem_fixed_boundary.utilities import plot_scalar_field\n",
        "from bluemira.equilibria.shapes import JohnerLCFS\n",
        "from bluemira.geometry.face import BluemiraFace\n",
        "from bluemira.mesh import meshing\n",
        "from bluemira.mesh.tools import import_mesh, msh_to_xdmf"
      ],
      "outputs": [],
      "execution_count": null
    },
    {
      "cell_type": "markdown",
      "metadata": {},
      "source": [
        "# Create a plasma shape"
      ]
    },
    {
      "cell_type": "code",
      "metadata": {},
      "source": [
        "var_dict = {\"r_0\": {\"value\": 9.0}, \"a\": {\"value\": 3.5}}\n",
        "plasma = PhysicalComponent(\n",
        "    \"Plasma\", shape=BluemiraFace(JohnerLCFS(var_dict).create_shape())\n",
        ")\n",
        "\n",
        "plasma.shape.mesh_options = {\"lcar\": 0.3, \"physical_group\": \"plasma\"}\n",
        "plasma.shape.boundary[0].mesh_options = {\"lcar\": 0.3, \"physical_group\": \"lcfs\"}"
      ],
      "outputs": [],
      "execution_count": null
    },
    {
      "cell_type": "markdown",
      "metadata": {},
      "source": [
        "\n",
        "Initialize and create the mesh"
      ]
    },
    {
      "cell_type": "code",
      "metadata": {},
      "source": [
        "directory = get_bluemira_path(\"\", subfolder=\"generated_data\")\n",
        "meshfiles = [os.path.join(directory, p) for p in [\"Mesh.geo_unrolled\", \"Mesh.msh\"]]\n",
        "meshing.Mesh(meshfile=meshfiles)(plasma)"
      ],
      "outputs": [],
      "execution_count": null
    },
    {
      "cell_type": "markdown",
      "metadata": {},
      "source": [
        "\n",
        "# Convert to xdmf"
      ]
    },
    {
      "cell_type": "code",
      "metadata": {},
      "source": [
        "msh_to_xdmf(\"Mesh.msh\", dimensions=(0, 2), directory=directory)\n",
        "\n",
        "mesh, boundaries, subdomains, labels = import_mesh(\n",
        "    \"Mesh\",\n",
        "    directory=directory,\n",
        "    subdomains=True,\n",
        ")\n",
        "dolfinx.plot(mesh)\n",
        "plt.show()\n",
        "\n",
        "Ic = 18e6\n",
        "\n",
        "gs_solver = FemGradShafranovFixedBoundary(max_iter=20)\n",
        "gs_solver.set_mesh(mesh)\n",
        "gs_solver.define_g(1, 0, Ic)\n",
        "gs_solver.solve(plot=True)\n",
        "\n",
        "points = mesh.coordinates()\n",
        "psi_data = np.array([gs_solver.psi(x) for x in points])\n",
        "\n",
        "levels = np.linspace(0.0, gs_solver.psi_ax, 25)\n",
        "\n",
        "axis, _, _ = plot_scalar_field(\n",
        "    points[:, 0], points[:, 1], psi_data, levels=levels, axis=None, tofill=True\n",
        ")\n",
        "plt.show()\n",
        "\n",
        "axis, _, _ = plot_scalar_field(\n",
        "    points[:, 0],\n",
        "    points[:, 1],\n",
        "    psi_data,\n",
        "    levels=[gs_solver.psi_ax * 0.05],\n",
        "    axis=None,\n",
        "    tofill=False,\n",
        ")\n",
        "plt.show()"
      ],
      "outputs": [],
      "execution_count": null
    }
  ],
  "metadata": {
    "anaconda-cloud": {},
    "kernelspec": {
      "display_name": "Python 3",
      "language": "python",
      "name": "python3"
    },
    "language_info": {
      "codemirror_mode": {
        "name": "ipython",
        "version": 3
      },
      "file_extension": ".py",
      "mimetype": "text/x-python",
      "name": "python",
      "nbconvert_exporter": "python",
      "pygments_lexer": "ipython3",
      "version": "3.8.13"
    }
  },
  "nbformat": 4,
  "nbformat_minor": 4
}
