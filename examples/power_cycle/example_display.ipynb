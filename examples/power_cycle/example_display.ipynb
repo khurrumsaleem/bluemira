{
  "cells": [
    {
      "cell_type": "markdown",
      "metadata": {},
      "source": [
        "# Create DisplayConverter instance"
      ]
    },
    {
      "cell_type": "code",
      "metadata": {},
      "source": [
        "# Start script\n",
        "os.system(\"reset\")\n",
        "print(\"\\n\")\n",
        "\n",
        "# Create an instance of the DisplayConverter class\n",
        "converter = dsp.DisplayConverter()\n",
        "# print(vars(converter))\n",
        "print(converter.default_display_units)\n",
        "print(converter.desired_display_units)"
      ],
      "outputs": [],
      "execution_count": null
    }
  ],
  "metadata": {
    "anaconda-cloud": {},
    "kernelspec": {
      "display_name": "Python 3",
      "language": "python",
      "name": "python3"
    },
    "language_info": {
      "codemirror_mode": {
        "name": "ipython",
        "version": 3
      },
      "file_extension": ".py",
      "mimetype": "text/x-python",
      "name": "python",
      "nbconvert_exporter": "python",
      "pygments_lexer": "ipython3",
      "version": "3.8.12"
    }
  },
  "nbformat": 4,
  "nbformat_minor": 4
}
