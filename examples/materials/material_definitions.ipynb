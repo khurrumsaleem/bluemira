{
  "cells": [
    {
      "cell_type": "code",
      "metadata": {},
      "source": [
        "from bluemira.materials import MaterialCache"
      ],
      "outputs": [],
      "execution_count": null
    },
    {
      "cell_type": "markdown",
      "metadata": {},
      "source": [
        "# Material Definitions\n",
        "\n",
        "Materials play an important role in reactor design, be that via neutronics properties,\n",
        "structural properties, or thermal properties. This example gives an overview of how\n",
        "to define and use materials within bluemira.\n",
        "\n",
        "## Defining Materials\n",
        "\n",
        "Materials will usually be defined via JSON files, such as the default definitions\n",
        "[provided with bluemira](../../data/materials). Whe defining your own materials for\n",
        "your studies you can either take the JSON approach, or for preliminary analysis you can\n",
        "define materials using dictionaries as shown below."
      ]
    },
    {
      "cell_type": "code",
      "metadata": {},
      "source": [
        "material_dict = {\n",
        "    \"Strawberry\": {\n",
        "        # Pick a Material base class to use\n",
        "        \"material_class\": \"MassFractionMaterial\",\n",
        "        # Define the Material element mass fractions\n",
        "        \"elements\": {\"C\": 0.4, \"H\": 0.4, \"O\": 0.2},\n",
        "        # Define some material properties (fixed values or relations)\n",
        "        \"density\": 1111,\n",
        "        \"poissons_ratio\": 0.233,\n",
        "        # Let's try an equation with some temperature bounds\n",
        "        \"youngs_modulus\": {\n",
        "            \"value\": \"polynomial.Polynomial([1, 2e-5, 3e-7])(temperature_in_C)\",\n",
        "            \"temp_min_celsius\": 0.0,\n",
        "            \"temp_max_celsius\": 100.0,\n",
        "            \"reference\": \"I made it up.\",\n",
        "        },\n",
        "        # Let's try a linear interpolated property from some data\n",
        "        \"coefficient_thermal_expansion\": {\n",
        "            \"value\": \"interp(temperature_in_C, [20, 100, 200, 400], [10.3, 3.3, 2.2, 1.1])\",\n",
        "            \"temp_min_celsius\": 20.0,\n",
        "            \"temp_max_celsius\": 400.0,\n",
        "        },\n",
        "    },\n",
        "    \"Cream\": {\n",
        "        \"material_class\": \"MassFractionMaterial\",\n",
        "        \"elements\": {\"C\": 0.4, \"H\": 0.3, \"O\": 0.3},\n",
        "        \"density\": 700,\n",
        "        \"poissons_ratio\": 0.233,\n",
        "    },\n",
        "}\n",
        "\n",
        "# Now we'll make a homogenised mixture (StrawberriesAndCream)\n",
        "mixture_dict = {\n",
        "    \"StrawberriesAndCream\": {\n",
        "        # Define the mixing class\n",
        "        \"material_class\": \"HomogenisedMixture\",\n",
        "        # State which materials are to be used and in what volume fractions\n",
        "        \"materials\": {\"Strawberry\": 0.7, \"Cream\": 0.3},\n",
        "        # Set the temperature of the mixture\n",
        "        \"temperature_in_K\": 290,\n",
        "    },\n",
        "}"
      ],
      "outputs": [],
      "execution_count": null
    },
    {
      "cell_type": "markdown",
      "metadata": {},
      "source": [
        "## The Materials Cache\n",
        "\n",
        "Bluemira materials are managed by a defining a `MaterialCache` instance. This allows\n",
        "material objects to be created from dictionaries or JSON files. Below gives an example\n",
        "of how to create materials in a cache for the dictionary definitions we have defined\n",
        "above.\n",
        "\n",
        "Note that the materials have to be loaded before the mixture is created - the cache\n",
        "handles mixing the materials that have already been created."
      ]
    },
    {
      "cell_type": "code",
      "metadata": {},
      "source": [
        "material_cache = MaterialCache()\n",
        "material_cache.load_from_dict(\"Strawberry\", material_dict)\n",
        "material_cache.load_from_dict(\"Cream\", material_dict)\n",
        "material_cache.load_from_dict(\"StrawberriesAndCream\", mixture_dict)"
      ],
      "outputs": [],
      "execution_count": null
    },
    {
      "cell_type": "markdown",
      "metadata": {},
      "source": [
        "We can then get our materials from the cache as below. Note that the mixture\n",
        "represents the constituent materials as actual material objects, not strings."
      ]
    },
    {
      "cell_type": "code",
      "metadata": {},
      "source": [
        "strawberry = material_cache.get_material(\"Strawberry\")\n",
        "strawberries_and_cream = material_cache.get_material(\"StrawberriesAndCream\")\n",
        "another_strawberry = material_cache.get_material(\"Strawberry\")\n",
        "summer_time = material_cache.get_material(\"StrawberriesAndCream\")\n",
        "\n",
        "print(another_strawberry.elements)\n",
        "print(summer_time.materials, summer_time.fracs)"
      ],
      "outputs": [],
      "execution_count": null
    },
    {
      "cell_type": "markdown",
      "metadata": {},
      "source": [
        "It may be important to note that the default way to retrieve a material is through\n",
        "a cloning method - that means that you actually get back a new material that has the\n",
        "same attributes as the material in the cache, rather than the material that is stored\n",
        "in the cache. If you *really* want the material that is in the cache then you can set\n",
        "the keyword argument clone=False, but note that any changes made to that material will\n",
        "be reflected in the original object and future retrievals from the cache."
      ]
    },
    {
      "cell_type": "code",
      "metadata": {},
      "source": [
        "# Attributes are the same\n",
        "print(another_strawberry == strawberry)\n",
        "print(summer_time == strawberries_and_cream)\n",
        "\n",
        "# But they are distinct objects\n",
        "print(id(another_strawberry) == id(strawberry))\n",
        "print(id(summer_time) == id(strawberries_and_cream))\n",
        "\n",
        "# We can get the object as it is in the cache by setting clone=False\n",
        "cached_strawberry = material_cache.get_material(\"Strawberry\", clone=False)\n",
        "\n",
        "# But beware that any changes to the cached object will affect the original object and\n",
        "# any future retrievals.\n",
        "print(cached_strawberry.temperature)\n",
        "cached_strawberry.temperature = 273.15\n",
        "print(another_strawberry == cached_strawberry)\n",
        "print(material_cache.get_material(\"Strawberry\") == another_strawberry)"
      ],
      "outputs": [],
      "execution_count": null
    }
  ],
  "metadata": {
    "anaconda-cloud": {},
    "kernelspec": {
      "display_name": "Python 3",
      "language": "python",
      "name": "python3"
    },
    "language_info": {
      "codemirror_mode": {
        "name": "ipython",
        "version": 3
      },
      "file_extension": ".py",
      "mimetype": "text/x-python",
      "name": "python",
      "nbconvert_exporter": "python",
      "pygments_lexer": "ipython3",
      "version": "3.8.12"
    }
  },
  "nbformat": 4,
  "nbformat_minor": 4
}
