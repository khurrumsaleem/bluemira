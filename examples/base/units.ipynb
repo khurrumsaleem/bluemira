{
  "cells": [
    {
      "cell_type": "markdown",
      "metadata": {},
      "source": [
        "# Unit conversion in bluemira\n",
        "The mechanics of the unit system in bluemira are fairly staight forward\n",
        "It aims to provide a useful user interface to convert units\n",
        "internally in most situations the units are up to the developer"
      ]
    },
    {
      "cell_type": "code",
      "metadata": {},
      "source": [
        "from pint.errors import DimensionalityError\n",
        "\n",
        "import bluemira.base.config as cfg\n",
        "import bluemira.base.constants as const\n",
        "import bluemira.base.parameter as param"
      ],
      "outputs": [],
      "execution_count": null
    },
    {
      "cell_type": "markdown",
      "metadata": {},
      "source": [
        "## Raw conversion"
      ]
    },
    {
      "cell_type": "code",
      "metadata": {},
      "source": [
        "print(const.raw_uc(1, \"um^3\", \"m^3\"))\n",
        "# gas flow rate conversion @OdegC\n",
        "print(const.raw_uc(1, \"mol/s\", \"Pa m^3/s\"))\n",
        "# boltzmann constant conversion\n",
        "print(const.raw_uc(1, \"eV\", \"K\"))"
      ],
      "outputs": [],
      "execution_count": null
    },
    {
      "cell_type": "markdown",
      "metadata": {},
      "source": [
        "## Raw Temperature conversion with checks"
      ]
    },
    {
      "cell_type": "code",
      "metadata": {},
      "source": [
        "try:\n",
        "    const.to_kelvin(-300)\n",
        "except ValueError as v:\n",
        "    print(v)\n",
        "\n",
        "print(const.to_celsius(10, unit=\"rankine\"))"
      ],
      "outputs": [],
      "execution_count": null
    },
    {
      "cell_type": "markdown",
      "metadata": {},
      "source": [
        "## Parameters and Units\n",
        "First I grab the default configuration"
      ]
    },
    {
      "cell_type": "code",
      "metadata": {},
      "source": [
        "pf = cfg.Configuration()"
      ],
      "outputs": [],
      "execution_count": null
    },
    {
      "cell_type": "markdown",
      "metadata": {},
      "source": [
        "Trying to set a unit with the wrong dimension"
      ]
    },
    {
      "cell_type": "code",
      "metadata": {},
      "source": [
        "param1 = param.Parameter(var=\"A\", value=5, unit=\"m\")\n",
        "try:\n",
        "    pf.update_kw_parameters({\"A\": param1})\n",
        "except DimensionalityError as de:\n",
        "    print(de)"
      ],
      "outputs": [],
      "execution_count": null
    },
    {
      "cell_type": "markdown",
      "metadata": {},
      "source": [
        "Changing a value of a parameter with a compatible but different unit"
      ]
    },
    {
      "cell_type": "code",
      "metadata": {},
      "source": [
        "print(pf.I_p)\n",
        "param2 = param.Parameter(var=\"I_p\", value=5, unit=\"uA\", source=\"very small input\")"
      ],
      "outputs": [],
      "execution_count": null
    },
    {
      "cell_type": "code",
      "metadata": {},
      "source": [
        "pf.set_parameter(\"I_p\", param2)\n",
        "print(pf.I_p)"
      ],
      "outputs": [],
      "execution_count": null
    }
  ],
  "metadata": {
    "anaconda-cloud": {},
    "kernelspec": {
      "display_name": "Python 3",
      "language": "python",
      "name": "python3"
    },
    "language_info": {
      "codemirror_mode": {
        "name": "ipython",
        "version": 3
      },
      "file_extension": ".py",
      "mimetype": "text/x-python",
      "name": "python",
      "nbconvert_exporter": "python",
      "pygments_lexer": "ipython3",
      "version": "3.8.12"
    }
  },
  "nbformat": 4,
  "nbformat_minor": 4
}
