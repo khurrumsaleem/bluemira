{
  "cells": [
    {
      "cell_type": "code",
      "metadata": {},
      "source": [
        "from anytree import RenderTree\n",
        "import bluemira.base as bm_base"
      ],
      "outputs": [],
      "execution_count": null
    },
    {
      "cell_type": "markdown",
      "metadata": {},
      "source": [
        "Example of a Tree structure\n",
        "Definition of some Components as groups. These do not have a physical shape / material\n",
        "but represent common systems within a reactor (or indeed the reactor itself)."
      ]
    },
    {
      "cell_type": "code",
      "metadata": {},
      "source": [
        "reactor = bm_base.GroupingComponent(\"Reactor\")\n",
        "\n",
        "magnets = bm_base.GroupingComponent(\"Magnets\", parent=reactor)\n",
        "tf_coils = bm_base.GroupingComponent(\"TFCoils\", parent=magnets)\n",
        "pf_coils = bm_base.GroupingComponent(\"PFCoils\", parent=magnets)"
      ],
      "outputs": [],
      "execution_count": null
    },
    {
      "cell_type": "markdown",
      "metadata": {},
      "source": [
        "Definition of some sub-components as physical components\n",
        "Note: it is not necessary to store the component in a variable. It is already\n",
        "stored as child of the parent, if any."
      ]
    },
    {
      "cell_type": "code",
      "metadata": {},
      "source": [
        "for i in range(6):\n",
        "    bm_base.MagneticComponent(\n",
        "        \"PF\" + str(i),\n",
        "        shape=\"pf_shape\" + str(i),\n",
        "        material=\"pf_material\" + str(i),\n",
        "        conductor=\"pf_conductor\" + str(i),\n",
        "        parent=pf_coils,\n",
        "    )"
      ],
      "outputs": [],
      "execution_count": null
    },
    {
      "cell_type": "markdown",
      "metadata": {},
      "source": [
        "Do the same for the CS coils"
      ]
    },
    {
      "cell_type": "code",
      "metadata": {},
      "source": [
        "cs_coils = bm_base.GroupingComponent(\"CSCoils\", parent=magnets)\n",
        "for i in range(6):\n",
        "    bm_base.MagneticComponent(\n",
        "        \"CS\" + str(i),\n",
        "        shape=\"cs_shape\" + str(i),\n",
        "        material=\"cs_material\" + str(i),\n",
        "        conductor=\"cs_conductor\" + str(i),\n",
        "        parent=cs_coils,\n",
        "    )"
      ],
      "outputs": [],
      "execution_count": null
    },
    {
      "cell_type": "markdown",
      "metadata": {},
      "source": [
        "Adding in vessel components"
      ]
    },
    {
      "cell_type": "code",
      "metadata": {},
      "source": [
        "in_vessel = bm_base.GroupingComponent(\"InVessel\", parent=reactor)\n",
        "blanket = bm_base.PhysicalComponent(\n",
        "    \"Blanket\",\n",
        "    shape=\"BB_shape\",\n",
        "    material=\"BB_material\",\n",
        "    parent=in_vessel,\n",
        ")\n",
        "divertor = bm_base.PhysicalComponent(\n",
        "    \"Divertor\",\n",
        "    shape=\"Div_shape\",\n",
        "    material=\"Div_material\",\n",
        "    parent=in_vessel,\n",
        ")\n",
        "vessel = bm_base.PhysicalComponent(\n",
        "    \"Vessel\",\n",
        "    shape=\"VV_shape\",\n",
        "    material=\"VV_material\",\n",
        "    parent=in_vessel,\n",
        ")"
      ],
      "outputs": [],
      "execution_count": null
    },
    {
      "cell_type": "markdown",
      "metadata": {},
      "source": [
        "Printing the tree"
      ]
    },
    {
      "cell_type": "code",
      "metadata": {},
      "source": [
        "print(RenderTree(reactor))"
      ],
      "outputs": [],
      "execution_count": null
    }
  ],
  "metadata": {
    "anaconda-cloud": {},
    "kernelspec": {
      "display_name": "Python 3",
      "language": "python",
      "name": "python3"
    },
    "language_info": {
      "codemirror_mode": {
        "name": "ipython",
        "version": 3
      },
      "file_extension": ".py",
      "mimetype": "text/x-python",
      "name": "python",
      "nbconvert_exporter": "python",
      "pygments_lexer": "ipython3",
      "version": "3.8.10"
    }
  },
  "nbformat": 4,
  "nbformat_minor": 4
}