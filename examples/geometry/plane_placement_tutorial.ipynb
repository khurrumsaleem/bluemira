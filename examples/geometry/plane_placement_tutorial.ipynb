{
  "cells": [
    {
      "cell_type": "markdown",
      "metadata": {},
      "source": [
        "Necessary imports"
      ]
    },
    {
      "cell_type": "code",
      "metadata": {},
      "source": [
        "import numpy as np\n",
        "\n",
        "import bluemira.display as display\n",
        "from bluemira.geometry.plane import BluemiraPlane"
      ],
      "outputs": [],
      "execution_count": null
    },
    {
      "cell_type": "markdown",
      "metadata": {},
      "source": [
        "Creation of a random plane"
      ]
    },
    {
      "cell_type": "code",
      "metadata": {},
      "source": [
        "base = np.array([20, 0, 0])\n",
        "axis = np.array([0, 1, 0])\n",
        "plane = BluemiraPlane(base=base, axis=axis)\n",
        "print(plane)"
      ],
      "outputs": [],
      "execution_count": null
    },
    {
      "cell_type": "markdown",
      "metadata": {},
      "source": [
        "The plane can be converted into a BluemiraFace both for plotting purpose or to be\n",
        "used for the generation of components or in boolena operations."
      ]
    },
    {
      "cell_type": "code",
      "metadata": {},
      "source": [
        "face = plane.to_face(width=50, height=50)\n",
        "\n",
        "options = display.plotter.PlotOptions()\n",
        "options.view = \"xz\"\n",
        "display.plot_2d(face, options)"
      ],
      "outputs": [],
      "execution_count": null
    },
    {
      "cell_type": "markdown",
      "metadata": {},
      "source": [
        "A placement can be created from a plane"
      ]
    },
    {
      "cell_type": "code",
      "metadata": {},
      "source": [
        "placement = plane.to_placement()"
      ],
      "outputs": [],
      "execution_count": null
    },
    {
      "cell_type": "markdown",
      "metadata": {},
      "source": [
        "On the other side, default xy, yz, and xz plane can be extracted from a placement.\n",
        "Note: xy, yz, and xz plane are referred to the placement axes. Thus, in this\n",
        "particular case, xy plane lies on the GLOBAL xz plane."
      ]
    },
    {
      "cell_type": "code",
      "metadata": {},
      "source": [
        "xy_plane = placement.xy_plane()\n",
        "yz_plane = placement.yz_plane()\n",
        "xz_plane = placement.xz_plane()\n",
        "\n",
        "face_xy = xy_plane.to_face(width=50, height=50)\n",
        "face_yz = yz_plane.to_face(width=50, height=50)\n",
        "face_xz = xz_plane.to_face(width=50, height=50)\n",
        "\n",
        "options.face_options[\"color\"] = \"blue\"\n",
        "ax = display.plot_3d(face_xy, options, show=False)\n",
        "options.face_options[\"color\"] = \"red\"\n",
        "ax = display.plot_3d(face_yz, options, ax=ax, show=False)\n",
        "options.face_options[\"color\"] = \"green\"\n",
        "ax = display.plot_3d(face_xz, options, ax=ax, show=True)"
      ],
      "outputs": [],
      "execution_count": null
    }
  ],
  "metadata": {
    "anaconda-cloud": {},
    "kernelspec": {
      "display_name": "Python 3",
      "language": "python",
      "name": "python3"
    },
    "language_info": {
      "codemirror_mode": {
        "name": "ipython",
        "version": 3
      },
      "file_extension": ".py",
      "mimetype": "text/x-python",
      "name": "python",
      "nbconvert_exporter": "python",
      "pygments_lexer": "ipython3",
      "version": "3.8.12"
    }
  },
  "nbformat": 4,
  "nbformat_minor": 4
}
