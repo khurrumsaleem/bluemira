{
  "cells": [
    {
      "cell_type": "markdown",
      "metadata": {},
      "source": [
        "## Introduction\n",
        "\n",
        "Geometry is not plasma physics, but it isn't trivial either. Chances are most of\n",
        "your day-to-day interaction with bluemira will revolve around geometry in some form\n",
        "or another. Puns intended.\n",
        "\n",
        "There a few basic concepts you need to familiarise yourself with:\n",
        "* Basic objects: [`BluemiraWire`, `BluemiraFace`, `BluemiraShell`, `BluemiraSolid`]\n",
        "* Basic properties\n",
        "* Matryoshka structure\n",
        "* Geometry creation\n",
        "* Geometry modification\n",
        "* Geometry operations\n",
        "\n",
        "## Imports\n",
        "\n",
        "Let's start out by importing all the basic objects, and some typical tools"
      ]
    },
    {
      "cell_type": "code",
      "metadata": {},
      "source": [
        "import numpy as np\n",
        "\n",
        "# Some display functionality\n",
        "from bluemira.display import plot_2d, show_cad\n",
        "from bluemira.display.displayer import DisplayCADOptions\n",
        "from bluemira.geometry.face import BluemiraFace\n",
        "from bluemira.geometry.shell import BluemiraShell\n",
        "from bluemira.geometry.solid import BluemiraSolid\n",
        "\n",
        "# Some useful tools\n",
        "from bluemira.geometry.tools import (\n",
        "    boolean_cut,\n",
        "    boolean_fuse,\n",
        "    extrude_shape,\n",
        "    make_bspline,\n",
        "    make_circle,\n",
        "    make_polygon,\n",
        "    revolve_shape,\n",
        "    save_as_STEP,\n",
        "    sweep_shape,\n",
        ")\n",
        "\n",
        "# Basic objects\n",
        "from bluemira.geometry.wire import BluemiraWire"
      ],
      "outputs": [],
      "execution_count": null
    },
    {
      "cell_type": "markdown",
      "metadata": {},
      "source": [
        "\n",
        "## Make a cylinder\n",
        "\n",
        "There are many ways to make a cylinder, but perhaps the simplest way is as follows:\n",
        "* Make a circular Wire\n",
        "* Make a Face from that Wire\n",
        "* Extrude that Face along a vector, to make a Solid"
      ]
    },
    {
      "cell_type": "code",
      "metadata": {},
      "source": [
        "# Note that we are going to give these geometries some labels, which\n",
        "# we might use later.\n",
        "circle_wire = make_circle(\n",
        "    radius=5,\n",
        "    center=(0, 0, 0),\n",
        "    axis=(0, 0, 1),\n",
        "    start_angle=0,\n",
        "    end_angle=360,\n",
        "    label=\"my_wire\",\n",
        ")\n",
        "circle_face = BluemiraFace(circle_wire, label=\"my_face\")\n",
        "cylinder = extrude_shape(circle_face, vec=(0, 0, 10), label=\"my_solid\")"
      ],
      "outputs": [],
      "execution_count": null
    },
    {
      "cell_type": "markdown",
      "metadata": {},
      "source": [
        "\n",
        "## Simple properties and representations"
      ]
    },
    {
      "cell_type": "code",
      "metadata": {},
      "source": [
        "# Let's start off with some simple properties\n",
        "print(f\"Circle length: {circle_wire.length} m\")\n",
        "print(f\"Circle area: {circle_face.area} m^2\")\n",
        "print(f\"Cylinder volume: {cylinder.volume} m^3\")\n",
        "\n",
        "# You can also just print or repr these objects to get some useful info\n",
        "print(cylinder)"
      ],
      "outputs": [],
      "execution_count": null
    },
    {
      "cell_type": "markdown",
      "metadata": {},
      "source": [
        "## Display\n",
        "\n",
        "Geometry objects can be displayed via `show_cad`, and the appearance\n",
        "of said objects customised by specifying `color` and `transparency`."
      ]
    },
    {
      "cell_type": "code",
      "metadata": {},
      "source": [
        "show_cad(cylinder, DisplayCADOptions(color=\"blue\", transparency=0.1))"
      ],
      "outputs": [],
      "execution_count": null
    },
    {
      "cell_type": "markdown",
      "metadata": {},
      "source": [
        "## Matryoshka structure\n",
        "\n",
        "Bluemira geometries are structured in a commonly used \"Matryoshka\" or\n",
        "\"Russian doll\"-like structure.\n",
        "\n",
        "Solid -> Shell -> Face -> Wire\n",
        "\n",
        "These are accessible via the boundary attribute, so, in general, the boundary\n",
        "of a Solid is a Shell or set of Shells, and a Shell will have a set of Faces, etc.\n",
        "\n",
        "Let's take a little peek under the hood of our cylinder"
      ]
    },
    {
      "cell_type": "code",
      "metadata": {},
      "source": [
        "print(f\"Our cylinder is a BluemiraSolid: {isinstance(cylinder, BluemiraSolid)}\")\n",
        "\n",
        "i, j, k = 0, 0, 0  # This is just to facilitate comprehension\n",
        "for i, shell in enumerate(cylinder.boundary):\n",
        "    print(f\"Shell: {i}.{j}.{k} is a BluemiraShell: {isinstance(shell, BluemiraShell)}\")\n",
        "    for j, face in enumerate(shell.boundary):\n",
        "        print(f\"Face: {i}.{j}.{k} is a BluemiraFace: {isinstance(face, BluemiraFace)}\")\n",
        "        for k, wire in enumerate(face.boundary):\n",
        "            print(\n",
        "                f\"Wire: {i}.{j}.{k} is a BluemiraWire: {isinstance(wire, BluemiraWire)}\"\n",
        "            )"
      ],
      "outputs": [],
      "execution_count": null
    },
    {
      "cell_type": "markdown",
      "metadata": {},
      "source": [
        "OK, so a cylinder is pretty simple, but more complicated shapes\n",
        "will follow the same pattern.\n",
        "\n",
        "It does go deeper than this, but that is outside the intended\n",
        "user-realm."
      ]
    },
    {
      "cell_type": "markdown",
      "metadata": {},
      "source": [
        "## Geometry creation\n",
        "\n",
        "Let's get familiar with some more ways of making geometries. We've\n",
        "looked at circle already, but what else is out there:\n",
        "* polygons\n",
        "* splines\n",
        "* a bit of everything"
      ]
    },
    {
      "cell_type": "code",
      "metadata": {},
      "source": [
        "# Polygon\n",
        "theta = np.linspace(0, 2 * np.pi, 6)\n",
        "x = 5 * np.cos(theta)\n",
        "y = np.zeros(6)\n",
        "z = 5 * np.sin(theta)\n",
        "\n",
        "points = np.array([x, y, z])\n",
        "pentagon = make_polygon(points)\n",
        "\n",
        "plot_2d(pentagon)"
      ],
      "outputs": [],
      "execution_count": null
    },
    {
      "cell_type": "markdown",
      "metadata": {},
      "source": [
        "Polygons are good for things with straight lines.\n",
        "Circles you've met already.\n",
        "For everything else, there's splines.\n",
        "\n",
        "Say you have a weird shape, that you might calculate via a equation.\n",
        "It's not a good idea to make a polygon with lots of very small sides\n",
        "for this. It's computationally expensive, and it will look ugly."
      ]
    },
    {
      "cell_type": "code",
      "metadata": {},
      "source": [
        "# Spline\n",
        "\n",
        "x = np.linspace(0, 10, 1000)\n",
        "y = 0.5 * np.sin(x) + 3 * np.cos(x) ** 2\n",
        "z = np.zeros(1000)\n",
        "\n",
        "points = np.array([x, y, z])\n",
        "spline = make_bspline(points)\n",
        "points = np.array([x, y + 3, z])\n",
        "polygon = make_polygon(points)\n",
        "\n",
        "show_cad(\n",
        "    [spline, polygon], [DisplayCADOptions(color=\"blue\"), DisplayCADOptions(color=\"red\")]\n",
        ")"
      ],
      "outputs": [],
      "execution_count": null
    },
    {
      "cell_type": "code",
      "metadata": {},
      "source": [
        "# To get an idea of why polygons are bad / slow / ugly, try:\n",
        "vector = (0, 0, 1)\n",
        "show_cad(\n",
        "    [extrude_shape(spline, vector), extrude_shape(polygon, vector)],\n",
        "    [DisplayCADOptions(color=\"blue\"), DisplayCADOptions(color=\"red\")],\n",
        ")"
      ],
      "outputs": [],
      "execution_count": null
    },
    {
      "cell_type": "code",
      "metadata": {},
      "source": [
        "# There is nothing stopping you from combining different primitives, though!\n",
        "\n",
        "radius = 2\n",
        "part_circle = make_circle(radius=radius, start_angle=0, end_angle=270)\n",
        "\n",
        "points = np.array([[radius, 0, 0], [0, 0, -radius], [0, 0, 0]])\n",
        "closure = make_polygon(points)\n",
        "\n",
        "my_shape = BluemiraWire([part_circle, closure])\n",
        "\n",
        "# Let's just check we got that right...\n",
        "print(f\"My shape is closed: {my_shape.is_closed()}\")\n",
        "\n",
        "show_cad(BluemiraFace(my_shape))"
      ],
      "outputs": [],
      "execution_count": null
    },
    {
      "cell_type": "markdown",
      "metadata": {},
      "source": [
        "## Geometry operations: Part 1\n",
        "Making 3-D shapes from 2-D shapes\n",
        "\n",
        "You can:\n",
        "* extrude a shape `extrude_shape`, as we did with our cylinder\n",
        "* revolve a shape `revolve_shape`\n",
        "* sweep a shape `sweep_shape`"
      ]
    },
    {
      "cell_type": "code",
      "metadata": {},
      "source": [
        "# Make a hollow cylinder, by revolving a rectangle\n",
        "points = np.array([[4, 5, 5, 4], [0, 0, 0, 0], [2, 2, 3, 3]])\n",
        "rectangle = BluemiraFace(make_polygon(points, closed=True))\n",
        "\n",
        "hollow_cylinder = revolve_shape(\n",
        "    rectangle, base=(0, 0, 0), direction=(0, 0, 1), degree=360\n",
        ")\n",
        "\n",
        "show_cad(hollow_cylinder)"
      ],
      "outputs": [],
      "execution_count": null
    },
    {
      "cell_type": "code",
      "metadata": {},
      "source": [
        "# Sweep a profile along a path\n",
        "\n",
        "points = np.array([[4.5, 4.5], [0, 3], [2.5, 2.5]])\n",
        "straight_line = make_polygon(points)\n",
        "quarter_turn = make_circle(center=(3, 3, 2.5), axis=(0, 0, 1), radius=1.5, end_angle=90)\n",
        "path = BluemiraWire([straight_line, quarter_turn])\n",
        "solid = sweep_shape(rectangle.boundary[0], path)\n",
        "show_cad(solid)"
      ],
      "outputs": [],
      "execution_count": null
    },
    {
      "cell_type": "markdown",
      "metadata": {},
      "source": [
        "## Geometry operations: Part 2\n",
        "Making 3-D shapes from 3-D shapes\n",
        "\n",
        "Boolean operations often come in very useful when making CAD.\n",
        "* You can join geometries together with `boolean_fuse`\n",
        "* You can cut geometries from one another with `boolean_cut`"
      ]
    },
    {
      "cell_type": "code",
      "metadata": {},
      "source": [
        "points = np.array(\n",
        "    [\n",
        "        [0, 2, 2, 0],\n",
        "        [0, 0, 0, 0],\n",
        "        [0, 0, 3, 3],\n",
        "    ]\n",
        ")\n",
        "\n",
        "box_1 = BluemiraFace(make_polygon(points, closed=True))\n",
        "box_1 = extrude_shape(box_1, (0, 2, 0))\n",
        "\n",
        "points = np.array(\n",
        "    [\n",
        "        [1, 3, 3, 1],\n",
        "        [0, 0, 0, 0],\n",
        "        [0, 0, 2, 2],\n",
        "    ]\n",
        ")\n",
        "\n",
        "box_2 = BluemiraFace(make_polygon(points, closed=True))\n",
        "box_2 = extrude_shape(box_2, (0, 1, 0))\n",
        "\n",
        "fused_boxes = boolean_fuse([box_1, box_2])\n",
        "\n",
        "show_cad(fused_boxes)\n",
        "\n",
        "cut_box_1 = boolean_cut(box_1, box_2)[0]\n",
        "\n",
        "show_cad(cut_box_1)"
      ],
      "outputs": [],
      "execution_count": null
    },
    {
      "cell_type": "markdown",
      "metadata": {},
      "source": [
        "## Modification of existing geometries\n",
        "\n",
        "Now we're going to look at some stuff that we can do to change\n",
        "geometries we've already made.\n",
        "* Rotate\n",
        "* Translate\n",
        "* Scale"
      ]
    },
    {
      "cell_type": "code",
      "metadata": {},
      "source": [
        "# Let's save a deepcopy of a shape before modifying\n",
        "new_cut_box_1 = cut_box_1.deepcopy()\n",
        "\n",
        "new_cut_box_1.rotate(base=(0, 0, 0), direction=(0, 1, 0), degree=45)\n",
        "new_cut_box_1.translate((0, 3, 0))\n",
        "new_cut_box_1.scale(3)\n",
        "blue_red_options = [DisplayCADOptions(color=\"blue\"), DisplayCADOptions(color=\"red\")]\n",
        "show_cad([cut_box_1, new_cut_box_1], options=blue_red_options)"
      ],
      "outputs": [],
      "execution_count": null
    },
    {
      "cell_type": "markdown",
      "metadata": {},
      "source": [
        "## Exporting geometry\n",
        "\n",
        "At present, only the STEP Assembly format is supported\n",
        "for exporting geometry."
      ]
    },
    {
      "cell_type": "code",
      "metadata": {},
      "source": [
        "# Try saving any shape or group of shapes created above\n",
        "# as a STEP assembly\n",
        "\n",
        "my_shapes = [cut_box_1]\n",
        "# Modify this file path to where you want to save the data.\n",
        "my_file_path = \"my_tutorial_assembly.STP\"\n",
        "save_as_STEP(my_shapes, filename=my_file_path, scale=1)"
      ],
      "outputs": [],
      "execution_count": null
    }
  ],
  "metadata": {
    "anaconda-cloud": {},
    "kernelspec": {
      "display_name": "Python 3",
      "language": "python",
      "name": "python3"
    },
    "language_info": {
      "codemirror_mode": {
        "name": "ipython",
        "version": 3
      },
      "file_extension": ".py",
      "mimetype": "text/x-python",
      "name": "python",
      "nbconvert_exporter": "python",
      "pygments_lexer": "ipython3",
      "version": "3.8.12"
    }
  },
  "nbformat": 4,
  "nbformat_minor": 4
}
