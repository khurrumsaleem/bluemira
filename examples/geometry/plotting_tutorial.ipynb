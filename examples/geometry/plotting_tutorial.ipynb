{
  "cells": [
    {
      "cell_type": "code",
      "metadata": {},
      "source": [
        "import matplotlib.pyplot as plt\n",
        "\n",
        "import bluemira.geometry.tools\n",
        "from bluemira.base.components import PhysicalComponent, GroupingComponent\n",
        "\n",
        "import bluemira.display as display\n",
        "\n",
        "from bluemira.display.plotter import (\n",
        "    WirePlotter,\n",
        "    FacePlotter,\n",
        ")\n",
        "\n",
        "from bluemira.geometry.parameterisations import PrincetonD\n",
        "from bluemira.geometry.face import BluemiraFace"
      ],
      "outputs": [],
      "execution_count": null
    },
    {
      "cell_type": "markdown",
      "metadata": {},
      "source": [
        "## Setup\n",
        "\n",
        "Creation of a closed wire and respective face and discretization points.\n",
        "\n",
        "PrincetonD parametrisation is used as example.\n",
        "\n",
        "Note: the curve is generated on the x-z plane"
      ]
    },
    {
      "cell_type": "code",
      "metadata": {},
      "source": [
        "p = PrincetonD()\n",
        "p.adjust_variable(\"x1\", 4, lower_bound=3, upper_bound=5)\n",
        "p.adjust_variable(\"x2\", 16, lower_bound=10, upper_bound=20)\n",
        "p.adjust_variable(\"dz\", 0, lower_bound=0, upper_bound=0)\n",
        "wire = p.create_shape()\n",
        "face = BluemiraFace(wire)"
      ],
      "outputs": [],
      "execution_count": null
    },
    {
      "cell_type": "markdown",
      "metadata": {},
      "source": [
        "## Default plotting\n",
        "\n",
        "We can plot the list of points, as well as the BluemiraWire and BluemiraFace\n",
        "in the following way, using the display built-in function with default settings"
      ]
    },
    {
      "cell_type": "code",
      "metadata": {},
      "source": [
        "display.plot_2d(wire)\n",
        "display.plot_3d(wire)\n",
        "display.plot_2d(face)\n",
        "display.plot_3d(face)"
      ],
      "outputs": [],
      "execution_count": null
    },
    {
      "cell_type": "markdown",
      "metadata": {},
      "source": [
        "\n",
        "In a similar way, it is possible to use specific Plotters for each entity,\n",
        "i.e. PointsPlotter, WirePlotter, and FacePlotter. For example:"
      ]
    },
    {
      "cell_type": "code",
      "metadata": {},
      "source": [
        "plotter_2d = WirePlotter()\n",
        "plotter_2d.plot_2d(wire)"
      ],
      "outputs": [],
      "execution_count": null
    },
    {
      "cell_type": "markdown",
      "metadata": {},
      "source": [
        "\n",
        "## Modifying defaults\n",
        "\n",
        "Default plot options can be obtained in form of a dictionary instancing one of the\n",
        "plotters, e.g.:"
      ]
    },
    {
      "cell_type": "code",
      "metadata": {},
      "source": [
        "my_options = display.plotter.get_default_options()\n",
        "print(my_options)"
      ],
      "outputs": [],
      "execution_count": null
    },
    {
      "cell_type": "markdown",
      "metadata": {},
      "source": [
        "\n",
        "Modifying the dictionary and passing it to a plot function will display the plot\n",
        "with the new options"
      ]
    },
    {
      "cell_type": "code",
      "metadata": {},
      "source": [
        "my_options[\"wire_options\"] = {\"color\": \"red\", \"linewidth\": \"1.5\"}\n",
        "display.plot_2d(wire, **my_options)"
      ],
      "outputs": [],
      "execution_count": null
    },
    {
      "cell_type": "markdown",
      "metadata": {},
      "source": [
        "\n",
        "Alternatively, plot options can be modified directly inside a Plotter, e.g.:"
      ]
    },
    {
      "cell_type": "code",
      "metadata": {},
      "source": [
        "plotter_2d.options.show_points = True\n",
        "plotter_2d.options.ndiscr = 15\n",
        "plotter_2d.plot_2d(wire)"
      ],
      "outputs": [],
      "execution_count": null
    },
    {
      "cell_type": "markdown",
      "metadata": {},
      "source": [
        "\n",
        "\n",
        "Once you get familiar with the options, you can also make your own dictionaries, and\n",
        "pass them to the plotting functions"
      ]
    },
    {
      "cell_type": "code",
      "metadata": {},
      "source": [
        "my_options = {\n",
        "    \"show_points\": False,\n",
        "    \"wire_options\": {\"color\": \"red\", \"linewidth\": 3, \"linestyle\": \"dashed\"},\n",
        "}\n",
        "display.plot_2d(wire, **my_options)"
      ],
      "outputs": [],
      "execution_count": null
    },
    {
      "cell_type": "markdown",
      "metadata": {},
      "source": [
        "\n",
        "Being matplotlib the default plot library, points_options, wire_options,\n",
        "and face_options are equivalent to the **kwargs passed to the functions scatter,\n",
        "plot, and fill, respectively.\n",
        "\n",
        "Discretise the wire to an array of points."
      ]
    },
    {
      "cell_type": "code",
      "metadata": {},
      "source": [
        "points = wire.discretize(ndiscr=10, byedges=True)"
      ],
      "outputs": [],
      "execution_count": null
    },
    {
      "cell_type": "markdown",
      "metadata": {},
      "source": [
        "## Points Plot\n",
        "\n",
        "Simple plot of the obtained points.\n",
        "\n",
        "A 2D plot with the built-in display functions"
      ]
    },
    {
      "cell_type": "code",
      "metadata": {},
      "source": [
        "display.plot_2d(\n",
        "    points, point_options={\"s\": 30, \"facecolors\": \"red\", \"edgecolors\": \"black\"}\n",
        ")\n",
        "# or with a Plotter\n",
        "# pplotter = PointsPlotter(\n",
        "#     point_options={\"s\": 30, \"facecolors\": \"red\", \"edgecolors\": \"black\"}\n",
        "# )\n",
        "# pplotter.plot_2d(points)"
      ],
      "outputs": [],
      "execution_count": null
    },
    {
      "cell_type": "markdown",
      "metadata": {},
      "source": [
        "## 3D Scatter Plot\n",
        "\n",
        "A plot of the same points, but in 3D this time."
      ]
    },
    {
      "cell_type": "code",
      "metadata": {},
      "source": [
        "display.plot_3d(\n",
        "    points, point_options={\"s\": 30, \"facecolors\": \"red\", \"edgecolors\": \"black\"}\n",
        ")\n",
        "\n",
        "# pplotter = Plotter3D(\n",
        "#      point_options={\"s\": 30, \"facecolors\": \"red\", \"edgecolors\": \"black\"}\n",
        "# )\n",
        "# pplotter.plot_3d(points)"
      ],
      "outputs": [],
      "execution_count": null
    },
    {
      "cell_type": "markdown",
      "metadata": {},
      "source": [
        "## Wire Plot\n",
        "\n",
        "A WirePlotter is used with the default setup with:\n",
        "\n",
        "- plane = xz (this is the projection plane, not a section plane)\n",
        "- point size = 20\n",
        "- ndiscr = 15"
      ]
    },
    {
      "cell_type": "code",
      "metadata": {},
      "source": [
        "wplotter = WirePlotter(plane=\"xz\")\n",
        "wplotter.options.point_options[\"s\"] = 20\n",
        "wplotter.options.ndiscr = 15\n",
        "wplotter.plot_2d(wire)"
      ],
      "outputs": [],
      "execution_count": null
    },
    {
      "cell_type": "markdown",
      "metadata": {},
      "source": [
        "## 3D Curve Plot\n",
        "\n",
        "A plot of the same wire, but in 3D this time."
      ]
    },
    {
      "cell_type": "code",
      "metadata": {},
      "source": [
        "display.plot_3d(wire, **wplotter.options.as_dict())"
      ],
      "outputs": [],
      "execution_count": null
    },
    {
      "cell_type": "markdown",
      "metadata": {},
      "source": [
        "## Wire Plot with Matplotlib Default Options\n",
        "\n",
        "In this example point_options is set to an empty dict. The default matplotlib are used."
      ]
    },
    {
      "cell_type": "code",
      "metadata": {},
      "source": [
        "display.plot_2d(wire, points_options={})\n",
        "# The plot is immediately shown by default, so it is not possible to act on the plot"
      ],
      "outputs": [],
      "execution_count": null
    },
    {
      "cell_type": "markdown",
      "metadata": {},
      "source": [
        "## Wire plot with some modifications\n",
        "\n",
        "In this example, we choose our own matplotlib Axes onto which to plot, disable the\n",
        "automatic display of the plot (show=False), and apply a title to the plot"
      ]
    },
    {
      "cell_type": "code",
      "metadata": {},
      "source": [
        "f, ax = plt.subplots()\n",
        "wplotter.options.point_options = {}\n",
        "wplotter.plot_2d(wire, ax=ax, show=False)\n",
        "ax.set_title(\"Wire plot\")\n",
        "plt.show()"
      ],
      "outputs": [],
      "execution_count": null
    },
    {
      "cell_type": "markdown",
      "metadata": {},
      "source": [
        "## Face Plot\n",
        "\n",
        "A FacePlotter is used with the default setup with:\n",
        "\n",
        "- plane = xz (this is the projection plane, not a section plane)\n",
        "- ndiscr = 30\n",
        "- plot title"
      ]
    },
    {
      "cell_type": "code",
      "metadata": {},
      "source": [
        "f, ax = plt.subplots()\n",
        "fplotter = FacePlotter(plane=\"xz\")\n",
        "fplotter.options.ndiscr = 30\n",
        "fplotter.plot_2d(face, ax=ax, show=False)\n",
        "ax.set_title(\"Face plot without points (default)\")\n",
        "plt.show()"
      ],
      "outputs": [],
      "execution_count": null
    },
    {
      "cell_type": "markdown",
      "metadata": {},
      "source": [
        "## Face Plot with Points\n",
        "\n",
        "We've set the points to be deactivate by default, but we can enable them again for\n",
        "individual plotters."
      ]
    },
    {
      "cell_type": "code",
      "metadata": {},
      "source": [
        "f, ax = plt.subplots()\n",
        "fplotter = FacePlotter(plane=\"xz\")\n",
        "fplotter.options.ndiscr = 30\n",
        "fplotter.options.show_points = True\n",
        "fplotter.plot_2d(face, ax=ax, show=False)\n",
        "ax.set_title(\"Face plot with points\")\n",
        "plt.show()"
      ],
      "outputs": [],
      "execution_count": null
    },
    {
      "cell_type": "markdown",
      "metadata": {},
      "source": [
        "## Make a Second Face\n",
        "\n",
        "A second geometry is created, surrounding our original face."
      ]
    },
    {
      "cell_type": "code",
      "metadata": {},
      "source": [
        "p2 = PrincetonD()\n",
        "p2.adjust_variable(\"x1\", 3.5, lower_bound=3, upper_bound=5)\n",
        "p2.adjust_variable(\"x2\", 17, lower_bound=10, upper_bound=20)\n",
        "p2.adjust_variable(\"dz\", 0, lower_bound=0, upper_bound=0)\n",
        "wire2 = p2.create_shape()\n",
        "face2 = BluemiraFace(wire2)"
      ],
      "outputs": [],
      "execution_count": null
    },
    {
      "cell_type": "markdown",
      "metadata": {},
      "source": [
        "## Combined Face Plot\n",
        "\n",
        "Face and face2 are plotted using the same FacePlotter. Since no plot options have\n",
        "been changed, the two faces will be plotted in the same way (e.g. same color)."
      ]
    },
    {
      "cell_type": "code",
      "metadata": {},
      "source": [
        "fplotter2 = FacePlotter(plane=\"xz\")\n",
        "fplotter2.options.show_points = True\n",
        "fplotter2.options.face_options = {\"color\": \"blue\"}\n",
        "\n",
        "f, ax = plt.subplots()\n",
        "fplotter2.plot_2d(face, ax=ax, show=False)\n",
        "fplotter2.plot_2d(face2, ax=ax, show=False)\n",
        "ax.set_title(\"Both faces in blue\")\n",
        "plt.show()\n",
        "print(f\"fplotter2.options: {fplotter2.options}\")"
      ],
      "outputs": [],
      "execution_count": null
    },
    {
      "cell_type": "markdown",
      "metadata": {},
      "source": [
        "## Combined Face Plot with Different Colours\n",
        "\n",
        "Plot both face with different colour.\n",
        "\n",
        "Note: if face is plotted before face2, face2 will be \"covered\" by face."
      ]
    },
    {
      "cell_type": "code",
      "metadata": {},
      "source": [
        "f, ax = plt.subplots()\n",
        "fplotter2.options.face_options = {\"color\": \"blue\"}\n",
        "fplotter2.plot_2d(face2, ax=ax, show=False)\n",
        "fplotter2.options.face_options = {\"color\": \"green\"}\n",
        "fplotter2.plot_2d(face, ax=ax, show=False)\n",
        "ax.set_title(\"Both faces with different colors\")\n",
        "plt.show()"
      ],
      "outputs": [],
      "execution_count": null
    },
    {
      "cell_type": "markdown",
      "metadata": {},
      "source": [
        "## Face with Hole\n",
        "\n",
        "A third face is create as difference between face and face2 (a BluemiraFace object\n",
        "has been created using wire2 as outer boundary and wire as inner boundary).\n",
        "\n",
        "Note:\n",
        "- when plotting points, it can happen that markers are not centred properly as\n",
        "      described in https://github.com/matplotlib/matplotlib/issues/11836\n",
        "- face3 is created with a wire deepcopy in order to be able to modify face and face2\n",
        "(and thus wire and wire2) without modifying face3"
      ]
    },
    {
      "cell_type": "code",
      "metadata": {},
      "source": [
        "f, ax = plt.subplots()\n",
        "face3 = BluemiraFace([wire2.deepcopy(), wire.deepcopy()])\n",
        "fplotter3 = FacePlotter(plane=\"xz\")\n",
        "fplotter3.options.show_points = True\n",
        "ax = fplotter3.plot_2d(face3, ax=ax, show=False)\n",
        "ax.set_title(\"Face with hole - points enabled\")\n",
        "plt.show()\n",
        "\n",
        "f, ax = plt.subplots()\n",
        "fplotter3.options.face_options[\"color\"] = \"blue\"\n",
        "fplotter3.options.show_points = False\n",
        "fplotter3.plot_2d(face3, ax=ax, show=False)\n",
        "ax.set_title(\"Face with hole - points disabled - blue\")\n",
        "plt.show()"
      ],
      "outputs": [],
      "execution_count": null
    },
    {
      "cell_type": "markdown",
      "metadata": {},
      "source": [
        "## Perform Some Face Operations\n",
        "\n",
        "Scale and move our face"
      ]
    },
    {
      "cell_type": "code",
      "metadata": {},
      "source": [
        "bari = face.center_of_mass\n",
        "face.scale(0.5)\n",
        "new_bari = face.center_of_mass\n",
        "diff = bari - new_bari\n",
        "v = (diff[0], diff[1], diff[2])\n",
        "face.translate(v)"
      ],
      "outputs": [],
      "execution_count": null
    },
    {
      "cell_type": "markdown",
      "metadata": {},
      "source": [
        "## Wires and Faces\n",
        "\n",
        "Create and plot a couple of Wires and then create and plot the corresponding Faces."
      ]
    },
    {
      "cell_type": "code",
      "metadata": {},
      "source": [
        "points = [[0, 0, 0], [1, 0, 0], [1, 0, 3], [0, 0, 3]]\n",
        "wire = bluemira.geometry.tools.make_polygon(points, closed=True)\n",
        "wire1 = wire.deepcopy()\n",
        "wire1.translate((3, 0, 5))\n",
        "wplotter = WirePlotter(plane=\"xz\")\n",
        "ax = wplotter.plot_2d(wire, show=False)\n",
        "ax = wplotter.plot_2d(wire1, ax=ax, show=False)\n",
        "ax.set_title(\"Two wires\")\n",
        "plt.show()"
      ],
      "outputs": [],
      "execution_count": null
    },
    {
      "cell_type": "markdown",
      "metadata": {},
      "source": [
        "## Plots with Matplotlib Default Point Options\n",
        "\n",
        "Plot the points on a boundary of a face with matplotlib defaults.\n",
        "\n",
        "Note that, since point_options = {}, points color is automatically changed by\n",
        "matplotlib."
      ]
    },
    {
      "cell_type": "code",
      "metadata": {},
      "source": [
        "wface = BluemiraFace(wire)\n",
        "w1face = BluemiraFace(wire1)"
      ],
      "outputs": [],
      "execution_count": null
    },
    {
      "cell_type": "markdown",
      "metadata": {},
      "source": [
        "## PhysicalComponent Plot\n",
        "\n",
        "Creates a `PhysicalComponent` and plots it in the xz plane"
      ]
    },
    {
      "cell_type": "code",
      "metadata": {},
      "source": [
        "c = PhysicalComponent(\"Comp\", face)\n",
        "c.plot_options.plane = \"xz\"\n",
        "c.plot_options.ndiscr = 30\n",
        "ax = c.plot_2d(show=False)\n",
        "ax.set_title(\"test component plot\")\n",
        "plt.show(block=True)"
      ],
      "outputs": [],
      "execution_count": null
    },
    {
      "cell_type": "markdown",
      "metadata": {},
      "source": [
        "## GroupingComponent Plot\n",
        "\n",
        "Creates a `GroupingComponent` and plots it in the xz plane using matplotlib defaults.\n",
        "Here we override some defaults and make our custom set of plot options."
      ]
    },
    {
      "cell_type": "code",
      "metadata": {},
      "source": [
        "group = GroupingComponent(\"Components\")\n",
        "my_group_options = group.plot_options.as_dict()\n",
        "my_group_options[\"wire_options\"] = {}\n",
        "my_group_options[\"face_options\"] = {\"color\": \"red\"}\n",
        "c1 = PhysicalComponent(\"Comp1\", face, parent=group)\n",
        "c2 = PhysicalComponent(\"Comp2\", wface, parent=group)\n",
        "c3 = PhysicalComponent(\"Comp3\", w1face, parent=group)\n",
        "display.plot_2d(group, **my_group_options)"
      ],
      "outputs": [],
      "execution_count": null
    },
    {
      "cell_type": "markdown",
      "metadata": {},
      "source": [
        "Note that, since wire_options = {}, wire color is automatically changed by matplotlib\n",
        "\n",
        "## Component and BluemiraGeo Combined Plot\n",
        "\n",
        "Plots a component on the same axes as a BluemiraFace."
      ]
    },
    {
      "cell_type": "code",
      "metadata": {},
      "source": [
        "wplotter.options.wire_options[\"color\"] = \"red\"\n",
        "ax = wplotter.plot_2d(wface.boundary[0], show=False)\n",
        "fplotter.options.face_options[\"color\"] = \"green\"\n",
        "fplotter.options.wire_options[\"color\"] = \"black\"\n",
        "ax = fplotter.plot_2d(w1face, ax=ax, show=False)\n",
        "ax = c.plot_2d(ax=ax, show=False)\n",
        "ax.set_title(\"test component + bluemirageo plot\")\n",
        "plt.show(block=True)"
      ],
      "outputs": [],
      "execution_count": null
    },
    {
      "cell_type": "markdown",
      "metadata": {},
      "source": [
        "Show the options from our combined plot"
      ]
    },
    {
      "cell_type": "code",
      "metadata": {},
      "source": [
        "print(f\"wire plotter options: {wplotter.options}\")\n",
        "print(f\"face plotter options: {fplotter.options}\")\n",
        "print(f\"component plotter options: {c.plot_options}\")"
      ],
      "outputs": [],
      "execution_count": null
    },
    {
      "cell_type": "markdown",
      "metadata": {},
      "source": [
        "## CAD Display\n",
        "\n",
        "BluemiraWire and BluemiraFace can be displayed as CAD using the built-in display\n",
        "function:"
      ]
    },
    {
      "cell_type": "code",
      "metadata": {},
      "source": [
        "display.show_cad(face)"
      ],
      "outputs": [],
      "execution_count": null
    },
    {
      "cell_type": "markdown",
      "metadata": {},
      "source": [
        "Fow what concern Components, the component function show_cad is used."
      ]
    },
    {
      "cell_type": "code",
      "metadata": {},
      "source": [
        "group.show_cad()"
      ],
      "outputs": [],
      "execution_count": null
    },
    {
      "cell_type": "markdown",
      "metadata": {},
      "source": [
        "We can also change the appeare of individual components inside the group"
      ]
    },
    {
      "cell_type": "code",
      "metadata": {},
      "source": [
        "c1.display_cad_options.modify(**{\"color\": (0.1, 0.1, 0.1)})\n",
        "c2.display_cad_options.modify(**{\"color\": (0.3, 0.2, 0.6)})\n",
        "c3.display_cad_options.modify(**{\"color\": (0.2, 0.6, 0.1), \"transparency\": 0.5})\n",
        "\n",
        "group.show_cad()"
      ],
      "outputs": [],
      "execution_count": null
    }
  ],
  "metadata": {
    "anaconda-cloud": {},
    "kernelspec": {
      "display_name": "Python 3",
      "language": "python",
      "name": "python3"
    },
    "language_info": {
      "codemirror_mode": {
        "name": "ipython",
        "version": 3
      },
      "file_extension": ".py",
      "mimetype": "text/x-python",
      "name": "python",
      "nbconvert_exporter": "python",
      "pygments_lexer": "ipython3",
      "version": "3.8.12"
    }
  },
  "nbformat": 4,
  "nbformat_minor": 4
}