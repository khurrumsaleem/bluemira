{
  "cells": [
    {
      "cell_type": "markdown",
      "metadata": {},
      "source": [
        "## Introduction\n",
        "\n",
        "In this example we will build some HelmholtzCages with different types of current\n",
        "sources."
      ]
    },
    {
      "cell_type": "code",
      "metadata": {},
      "source": [
        "import matplotlib.pyplot as plt\n",
        "import numpy as np\n",
        "\n",
        "from bluemira.geometry._deprecated_loop import Loop\n",
        "from bluemira.geometry._deprecated_tools import make_circle_arc\n",
        "from bluemira.magnetostatics.biot_savart import BiotSavartFilament\n",
        "from bluemira.magnetostatics.circuits import (\n",
        "    ArbitraryPlanarRectangularXSCircuit,\n",
        "    HelmholtzCage,\n",
        ")\n",
        "from bluemira.magnetostatics.circular_arc import CircularArcCurrentSource\n",
        "from bluemira.utilities.plot_tools import Plot3D"
      ],
      "outputs": [],
      "execution_count": null
    },
    {
      "cell_type": "markdown",
      "metadata": {},
      "source": [
        "Set up some geometry and key parameters"
      ]
    },
    {
      "cell_type": "code",
      "metadata": {},
      "source": [
        "n_TF = 6\n",
        "current = 20e6\n",
        "breadth = 0.5\n",
        "depth = 1.0\n",
        "radius = 6\n",
        "x_c = 9\n",
        "z_c = 0\n",
        "x, z = make_circle_arc(radius, x_c, z_c, n_points=200, start_angle=np.pi)"
      ],
      "outputs": [],
      "execution_count": null
    },
    {
      "cell_type": "markdown",
      "metadata": {},
      "source": [
        "Make a Biot-Savart filament (which needs to be properly discretised)"
      ]
    },
    {
      "cell_type": "code",
      "metadata": {},
      "source": [
        "n_filaments_x = 2\n",
        "n_filaments_y = 3\n",
        "fil_radius = 0.5 * (breadth + depth) / (n_filaments_x * n_filaments_y)\n",
        "\n",
        "loop = Loop(x=x, z=z)\n",
        "loop.close()\n",
        "loop.interpolate(50)\n",
        "\n",
        "loops = []\n",
        "filaments = []\n",
        "dx_offsets = np.linspace(-breadth / 2, breadth / 2, n_filaments_x)\n",
        "dy_offsets = np.linspace(-depth / 2, depth / 2, n_filaments_y)\n",
        "\n",
        "for dx in dx_offsets:\n",
        "    for dy in dy_offsets:\n",
        "        new_loop = loop.offset(dx)\n",
        "        new_loop.translate(vector=[0, dy, 0])\n",
        "        loops.append(new_loop)\n",
        "\n",
        "biotsavart_circuit = BiotSavartFilament(\n",
        "    loops, radius=fil_radius, current=current / (n_filaments_x * n_filaments_y)\n",
        ")"
      ],
      "outputs": [],
      "execution_count": null
    },
    {
      "cell_type": "markdown",
      "metadata": {},
      "source": [
        "Make an analytical circuit with a rectangular cross-section comprised\n",
        "of several trapezoidal prism elements"
      ]
    },
    {
      "cell_type": "code",
      "metadata": {},
      "source": [
        "loop.close()\n",
        "analytical_circuit1 = ArbitraryPlanarRectangularXSCircuit(\n",
        "    loop, breadth=breadth, depth=depth, current=current\n",
        ")"
      ],
      "outputs": [],
      "execution_count": null
    },
    {
      "cell_type": "markdown",
      "metadata": {},
      "source": [
        "Make an analytical circuit of a circle arc with a rectangular cross-section"
      ]
    },
    {
      "cell_type": "code",
      "metadata": {},
      "source": [
        "analytical_circuit2 = CircularArcCurrentSource(\n",
        "    [x_c, 0, z_c],\n",
        "    [-1, 0, 0],\n",
        "    [0, 0, 1],\n",
        "    [0, 1, 0],\n",
        "    breadth=breadth,\n",
        "    depth=depth,\n",
        "    radius=radius,\n",
        "    dtheta=2 * np.pi,\n",
        "    current=current,\n",
        ")"
      ],
      "outputs": [],
      "execution_count": null
    },
    {
      "cell_type": "markdown",
      "metadata": {},
      "source": [
        "Pattern the three circuits into HelmholtzCages"
      ]
    },
    {
      "cell_type": "code",
      "metadata": {},
      "source": [
        "biotsavart_tf_cage = HelmholtzCage(biotsavart_circuit, n_TF=n_TF)\n",
        "analytical_tf_cage1 = HelmholtzCage(analytical_circuit1, n_TF=n_TF)\n",
        "analytical_tf_cage2 = HelmholtzCage(analytical_circuit2, n_TF=n_TF)"
      ],
      "outputs": [],
      "execution_count": null
    },
    {
      "cell_type": "markdown",
      "metadata": {},
      "source": [
        "Calculate the fields in the x-y and x-z planes"
      ]
    },
    {
      "cell_type": "code",
      "metadata": {},
      "source": [
        "nx, ny = 50, 50\n",
        "x = np.linspace(0, 18, nx)\n",
        "y = np.linspace(-18, 0, ny)\n",
        "xx1, yy = np.meshgrid(x, y, indexing=\"ij\")\n",
        "\n",
        "biotsavart_xy_fields = biotsavart_tf_cage.field(xx1, yy, np.zeros_like(xx1))\n",
        "analytical_xy_fields = analytical_tf_cage1.field(xx1, yy, np.zeros_like(xx1))\n",
        "analytical_xy_fields2 = analytical_tf_cage2.field(xx1, yy, np.zeros_like(xx1))\n",
        "\n",
        "biotsavart_xy_fields = np.sqrt(np.sum(biotsavart_xy_fields**2, axis=0))\n",
        "analytical_xy_fields = np.sqrt(np.sum(analytical_xy_fields**2, axis=0))\n",
        "analytical_xy_fields2 = np.sqrt(np.sum(analytical_xy_fields2**2, axis=0))\n",
        "\n",
        "nx, nz = 50, 50\n",
        "x = np.linspace(0, 18, nx)\n",
        "z = np.linspace(0, 14, nz)\n",
        "xx, zz = np.meshgrid(x, z, indexing=\"ij\")\n",
        "\n",
        "biotsavart_xz_fields = biotsavart_tf_cage.field(xx, np.zeros_like(xx), zz)\n",
        "analytical_xz_fields = analytical_tf_cage1.field(xx, np.zeros_like(xx), zz)\n",
        "analytical_xz_fields2 = analytical_tf_cage2.field(xx, np.zeros_like(xx), zz)\n",
        "\n",
        "biotsavart_xz_fields = np.sqrt(np.sum(biotsavart_xz_fields**2, axis=0))\n",
        "analytical_xz_fields = np.sqrt(np.sum(analytical_xz_fields**2, axis=0))\n",
        "analytical_xz_fields2 = np.sqrt(np.sum(analytical_xz_fields2**2, axis=0))"
      ],
      "outputs": [],
      "execution_count": null
    },
    {
      "cell_type": "markdown",
      "metadata": {},
      "source": [
        "\n",
        "Let's visualise the results"
      ]
    },
    {
      "cell_type": "code",
      "metadata": {},
      "source": [
        "def plot_cage_results(cage, xz_fields, xy_fields):\n",
        "    \"\"\"\n",
        "    Plot utility for contours in 3-D projections in matplotlib.\n",
        "    \"\"\"\n",
        "    b_max = max(np.amax(xz_fields), np.amax(xy_fields))\n",
        "    levels = np.linspace(0, b_max, 20)\n",
        "\n",
        "    ax = Plot3D()\n",
        "\n",
        "    cm = ax.contourf(\n",
        "        xx1,\n",
        "        yy,\n",
        "        xy_fields,\n",
        "        zdir=\"z\",\n",
        "        levels=levels,\n",
        "        offset=0,\n",
        "        alpha=0.8,\n",
        "        zorder=-1,\n",
        "        cmap=\"magma\",\n",
        "    )\n",
        "\n",
        "    ax.contourf(\n",
        "        xx,\n",
        "        xz_fields,\n",
        "        zz,\n",
        "        zdir=\"y\",\n",
        "        levels=levels,\n",
        "        offset=0,\n",
        "        alpha=0.8,\n",
        "        zorder=-1,\n",
        "        cmap=\"magma\",\n",
        "    )\n",
        "    f = plt.gcf()\n",
        "    cb0 = f.colorbar(cm, shrink=0.46)\n",
        "    cb0.ax.set_title(\"$B$ [T]\")\n",
        "    cage.plot(ax=ax)\n",
        "    ax.set_xlabel(\"x [m]\")\n",
        "    ax.set_ylabel(\"y [m]\")\n",
        "    ax.set_ylabel(\"z [m]\")\n",
        "\n",
        "\n",
        "# Plot the two cages and the results in the two planes\n",
        "plot_cage_results(analytical_tf_cage1, analytical_xz_fields, analytical_xy_fields)\n",
        "plot_cage_results(analytical_tf_cage2, analytical_xz_fields2, analytical_xy_fields2)\n",
        "plot_cage_results(biotsavart_tf_cage, biotsavart_xz_fields, biotsavart_xy_fields)"
      ],
      "outputs": [],
      "execution_count": null
    }
  ],
  "metadata": {
    "anaconda-cloud": {},
    "kernelspec": {
      "display_name": "Python 3",
      "language": "python",
      "name": "python3"
    },
    "language_info": {
      "codemirror_mode": {
        "name": "ipython",
        "version": 3
      },
      "file_extension": ".py",
      "mimetype": "text/x-python",
      "name": "python",
      "nbconvert_exporter": "python",
      "pygments_lexer": "ipython3",
      "version": "3.8.12"
    }
  },
  "nbformat": 4,
  "nbformat_minor": 4
}
