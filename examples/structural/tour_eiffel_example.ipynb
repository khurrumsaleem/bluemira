{
  "cells": [
    {
      "cell_type": "code",
      "metadata": {},
      "source": [
        "import matplotlib.pyplot as plt\n",
        "\n",
        "from bluemira.structural.crosssection import RectangularBeam\n",
        "from bluemira.structural.material import SS316\n",
        "from bluemira.structural.model import FiniteElementModel\n",
        "\n",
        "plt.close(\"all\")\n",
        "\n",
        "model = FiniteElementModel()"
      ],
      "outputs": [],
      "execution_count": null
    },
    {
      "cell_type": "code",
      "metadata": {},
      "source": [
        "def make_platform(width, elevation, cross_section, elements=True, internodes=False):\n",
        "    \"\"\"\n",
        "    Make a square platform at a certain elevation.\n",
        "    \"\"\"\n",
        "    if not internodes:\n",
        "        model.add_node(-width / 2, -width / 2, elevation)\n",
        "        i = model.geometry.nodes[-1].id_number\n",
        "        model.add_node(width / 2, -width / 2, elevation)\n",
        "        model.add_node(width / 2, width / 2, elevation)\n",
        "        model.add_node(-width / 2, width / 2, elevation)\n",
        "\n",
        "        if elements:\n",
        "            for j in range(3):\n",
        "                model.add_element(i + j, i + j + 1, cross_section, SS316)\n",
        "            model.add_element(i + j + 1, i, cross_section, SS316)\n",
        "    if internodes:\n",
        "        model.add_node(-width / 2, -width / 2, elevation)\n",
        "        i = model.geometry.nodes[-1].id_number\n",
        "        model.add_node(0, -width / 2, elevation)\n",
        "        model.add_node(width / 2, -width / 2, elevation)\n",
        "        model.add_node(width / 2, 0, elevation)\n",
        "        model.add_node(width / 2, width / 2, elevation)\n",
        "        model.add_node(0, width / 2, elevation)\n",
        "        model.add_node(-width / 2, width / 2, elevation)\n",
        "        model.add_node(-width / 2, 0, elevation)\n",
        "        if elements:\n",
        "            for j in range(7):\n",
        "                model.add_element(i + j, i + j + 1, cross_section, SS316)\n",
        "            model.add_element(i + j + 1, i, cross_section, SS316)"
      ],
      "outputs": [],
      "execution_count": null
    },
    {
      "cell_type": "code",
      "metadata": {},
      "source": [
        "cs1 = RectangularBeam(5, 5)\n",
        "cs2 = RectangularBeam(4, 4)\n",
        "cs3 = RectangularBeam(2, 2)\n",
        "cs4 = RectangularBeam(1, 1)"
      ],
      "outputs": [],
      "execution_count": null
    },
    {
      "cell_type": "code",
      "metadata": {},
      "source": [
        "make_platform(100, 0, cs1, elements=False)\n",
        "for i in range(4):\n",
        "    model.add_support(i, *6 * [True])"
      ],
      "outputs": [],
      "execution_count": null
    },
    {
      "cell_type": "code",
      "metadata": {},
      "source": [
        "make_platform(60, 56, cs2, internodes=True)\n",
        "model.add_element(0, 4, cs1, SS316)\n",
        "model.add_element(0, 5, cs1, SS316)\n",
        "model.add_element(0, 11, cs1, SS316)\n",
        "model.add_element(1, 5, cs1, SS316)\n",
        "model.add_element(1, 6, cs1, SS316)\n",
        "model.add_element(1, 7, cs1, SS316)\n",
        "model.add_element(2, 7, cs1, SS316)\n",
        "model.add_element(2, 8, cs1, SS316)\n",
        "model.add_element(2, 9, cs1, SS316)\n",
        "model.add_element(3, 9, cs1, SS316)\n",
        "model.add_element(3, 10, cs1, SS316)\n",
        "model.add_element(3, 11, cs1, SS316)"
      ],
      "outputs": [],
      "execution_count": null
    },
    {
      "cell_type": "code",
      "metadata": {},
      "source": [
        "make_platform(37, 116, cs3)"
      ],
      "outputs": [],
      "execution_count": null
    },
    {
      "cell_type": "code",
      "metadata": {},
      "source": [
        "model.add_element(4, 12, cs2, SS316)\n",
        "model.add_element(5, 12, cs2, SS316)\n",
        "model.add_element(11, 12, cs2, SS316)\n",
        "model.add_element(5, 13, cs2, SS316)\n",
        "model.add_element(6, 13, cs2, SS316)\n",
        "model.add_element(7, 13, cs2, SS316)\n",
        "model.add_element(7, 14, cs2, SS316)\n",
        "model.add_element(8, 14, cs2, SS316)\n",
        "model.add_element(9, 14, cs2, SS316)\n",
        "model.add_element(9, 15, cs2, SS316)\n",
        "model.add_element(10, 15, cs2, SS316)\n",
        "model.add_element(11, 15, cs2, SS316)"
      ],
      "outputs": [],
      "execution_count": null
    },
    {
      "cell_type": "code",
      "metadata": {},
      "source": [
        "make_platform(12, 196, cs3)"
      ],
      "outputs": [],
      "execution_count": null
    },
    {
      "cell_type": "code",
      "metadata": {},
      "source": [
        "model.add_element(12, 16, cs3, SS316)\n",
        "model.add_element(13, 17, cs3, SS316)\n",
        "model.add_element(14, 18, cs3, SS316)\n",
        "model.add_element(15, 19, cs3, SS316)"
      ],
      "outputs": [],
      "execution_count": null
    },
    {
      "cell_type": "code",
      "metadata": {},
      "source": [
        "make_platform(6, 276, cs3)\n",
        "\n",
        "model.add_element(16, 20, cs4, SS316)\n",
        "model.add_element(17, 21, cs4, SS316)\n",
        "model.add_element(18, 22, cs4, SS316)\n",
        "model.add_element(19, 23, cs4, SS316)"
      ],
      "outputs": [],
      "execution_count": null
    },
    {
      "cell_type": "code",
      "metadata": {},
      "source": [
        "model.add_node(0, 0, 316)"
      ],
      "outputs": [],
      "execution_count": null
    },
    {
      "cell_type": "code",
      "metadata": {},
      "source": [
        "for i in range(4):\n",
        "    model.add_element(20 + i, 24, cs4, SS316)"
      ],
      "outputs": [],
      "execution_count": null
    },
    {
      "cell_type": "code",
      "metadata": {},
      "source": [
        "model.add_node(0, 0, 324)\n",
        "model.add_element(24, 25, cs4, SS316)"
      ],
      "outputs": [],
      "execution_count": null
    },
    {
      "cell_type": "code",
      "metadata": {},
      "source": [
        "model.plot(show_cross_sections=True)"
      ],
      "outputs": [],
      "execution_count": null
    },
    {
      "cell_type": "code",
      "metadata": {},
      "source": [
        "model.add_gravity_loads()\n",
        "model.add_node_load(24, 1e6, \"Fy\")"
      ],
      "outputs": [],
      "execution_count": null
    },
    {
      "cell_type": "code",
      "metadata": {},
      "source": [
        "result = model.solve()"
      ],
      "outputs": [],
      "execution_count": null
    },
    {
      "cell_type": "code",
      "metadata": {},
      "source": [
        "result.plot(stress=True)\n",
        "\n",
        "plt.show()"
      ],
      "outputs": [],
      "execution_count": null
    }
  ],
  "metadata": {
    "anaconda-cloud": {},
    "kernelspec": {
      "display_name": "Python 3",
      "language": "python",
      "name": "python3"
    },
    "language_info": {
      "codemirror_mode": {
        "name": "ipython",
        "version": 3
      },
      "file_extension": ".py",
      "mimetype": "text/x-python",
      "name": "python",
      "nbconvert_exporter": "python",
      "pygments_lexer": "ipython3",
      "version": "3.8.12"
    }
  },
  "nbformat": 4,
  "nbformat_minor": 4
}
